{
 "cells": [
  {
   "cell_type": "code",
   "execution_count": 1,
   "metadata": {
    "autoscroll": false,
    "collapsed": false,
    "ein.tags": "worksheet-0",
    "slideshow": {
     "slide_type": "-"
    }
   },
   "outputs": [],
   "source": [
    "\"\"\"\n",
    "Testing Clarifai\n",
    "\"\"\"\n",
    "#setup\n",
    "import os\n",
    "os.environ['CLARIFAI_API_KEY'] = 'cba2bca57a874296ad63fb40309c3c79'\n",
    "from clarifai import rest\n",
    "from clarifai.rest import ClarifaiApp\n",
    "app = ClarifaiApp()"
   ]
  },
  {
   "cell_type": "markdown",
   "metadata": {
    "ein.tags": "worksheet-0",
    "slideshow": {
     "slide_type": "-"
    }
   },
   "source": [
    "## Using Keanu's photo\n",
    "\n",
    "<img height=\"200\" width=\"200\"\n",
    "src=\"https://media1.popsugar-assets.com/files/thumbor/seepTiotRRGSmG9PhdTfiiwX-rM/fit-in/550x550/filters:format_auto-!!-:strip_icc-!!-/2014/08/18/849/n/1922283/f54b6359afba9a77_thumb_temp_image23875021408386961/i/Keanu-Reeves-Star-Rain-TV-Series.jpg\" />"
   ]
  },
  {
   "cell_type": "code",
   "execution_count": 9,
   "metadata": {
    "autoscroll": false,
    "collapsed": false,
    "ein.tags": "worksheet-0",
    "slideshow": {
     "slide_type": "-"
    }
   },
   "outputs": [],
   "source": [
    "# Searching for images that are similar to Keanu.\n",
    "\n",
    "url='https://media1.popsugar-assets.com/files/thumbor/seepTiotRRGSmG9PhdTfiiwX-rM/fit-in/550x550/filters:format_auto-!!-:strip_icc-!!-/2014/08/18/849/n/1922283/f54b6359afba9a77_thumb_temp_image23875021408386961/i/Keanu-Reeves-Star-Rain-TV-Series.jpg'\n",
    "res = app.inputs.search_by_image(url=url)\n"
   ]
  },
  {
   "cell_type": "code",
   "execution_count": 14,
   "metadata": {
    "autoscroll": false,
    "collapsed": true,
    "ein.tags": "worksheet-0",
    "scrolled": true,
    "slideshow": {
     "slide_type": "-"
    }
   },
   "outputs": [
    {
     "name": "stdout",
     "output_type": "stream",
     "text": [
      "input_id = e81abb0faceb49bda409fefd2ba87bde\n",
      "concepts = None\n",
      "not_concepts = None\n",
      "metadata = None\n",
      "geo = None\n",
      "feedback_info = None\n",
      "regions = None\n",
      "score = 0.29823655\n",
      "status = <clarifai.rest.client.ApiStatus object at 0x109a0d748>\n",
      "url = https://s3.amazonaws.com/clarifai-api/img2/prod/small/fa0edd1391f44ff19ef7564a15c1367b/bf1dc03d37864389a61c573363a8e17d\n",
      "filename = None\n",
      "file_obj = None\n",
      "base64 = None\n",
      "crop = None\n",
      "allow_dup_url = False\n",
      "=======\n",
      "input_id = d767a032935f4a638324b14abeb306b5\n",
      "concepts = None\n",
      "not_concepts = None\n",
      "metadata = None\n",
      "geo = None\n",
      "feedback_info = None\n",
      "regions = None\n",
      "score = 0.2975775\n",
      "status = <clarifai.rest.client.ApiStatus object at 0x109a0d7f0>\n",
      "url = https://s3.amazonaws.com/clarifai-api/img2/prod/small/fa0edd1391f44ff19ef7564a15c1367b/e3cacebebdbe4ea88957324d7e7e68a6\n",
      "filename = None\n",
      "file_obj = None\n",
      "base64 = None\n",
      "crop = None\n",
      "allow_dup_url = False\n",
      "=======\n",
      "input_id = ceaa67b639cb4c9894b3b3bb0ef07eb2\n",
      "concepts = None\n",
      "not_concepts = None\n",
      "metadata = None\n",
      "geo = None\n",
      "feedback_info = None\n",
      "regions = None\n",
      "score = 0.2897069\n",
      "status = <clarifai.rest.client.ApiStatus object at 0x109a0d9b0>\n",
      "url = https://s3.amazonaws.com/clarifai-api/img2/prod/small/fa0edd1391f44ff19ef7564a15c1367b/b36c47c80b654ac7aa66a6a9ac3499c6\n",
      "filename = None\n",
      "file_obj = None\n",
      "base64 = None\n",
      "crop = None\n",
      "allow_dup_url = False\n",
      "=======\n",
      "input_id = f9adeb3a8c604b2d99543e07191b21d0\n",
      "concepts = None\n",
      "not_concepts = None\n",
      "metadata = None\n",
      "geo = None\n",
      "feedback_info = None\n",
      "regions = None\n",
      "score = 0.28912365\n",
      "status = <clarifai.rest.client.ApiStatus object at 0x109a0df98>\n",
      "url = https://s3.amazonaws.com/clarifai-api/img2/prod/small/fa0edd1391f44ff19ef7564a15c1367b/ff89b39f855940b1ae73d7baa66393de\n",
      "filename = None\n",
      "file_obj = None\n",
      "base64 = None\n",
      "crop = None\n",
      "allow_dup_url = False\n",
      "=======\n",
      "input_id = f5193655feb34786b621b04db0778138\n",
      "concepts = None\n",
      "not_concepts = None\n",
      "metadata = None\n",
      "geo = None\n",
      "feedback_info = None\n",
      "regions = None\n",
      "score = 0.2822762\n",
      "status = <clarifai.rest.client.ApiStatus object at 0x109a0d8d0>\n",
      "url = https://s3.amazonaws.com/clarifai-api/img2/prod/small/fa0edd1391f44ff19ef7564a15c1367b/e235026604b74dc4a7a4f20059624449\n",
      "filename = None\n",
      "file_obj = None\n",
      "base64 = None\n",
      "crop = None\n",
      "allow_dup_url = False\n",
      "=======\n",
      "input_id = bcb5b3a95ef241b69dcd5bcf38c2de14\n",
      "concepts = None\n",
      "not_concepts = None\n",
      "metadata = None\n",
      "geo = None\n",
      "feedback_info = None\n",
      "regions = None\n",
      "score = 0.2627576\n",
      "status = <clarifai.rest.client.ApiStatus object at 0x109a0db00>\n",
      "url = https://s3.amazonaws.com/clarifai-api/img2/prod/small/fa0edd1391f44ff19ef7564a15c1367b/aed2e3810a3c495ea0664c6b8bdcb0d6\n",
      "filename = None\n",
      "file_obj = None\n",
      "base64 = None\n",
      "crop = None\n",
      "allow_dup_url = False\n",
      "=======\n",
      "input_id = b6ff41d70895467e9b2c6b81903a0312\n",
      "concepts = None\n",
      "not_concepts = None\n",
      "metadata = None\n",
      "geo = None\n",
      "feedback_info = None\n",
      "regions = None\n",
      "score = 0.2551462\n",
      "status = <clarifai.rest.client.ApiStatus object at 0x109a0d518>\n",
      "url = https://s3.amazonaws.com/clarifai-api/img2/prod/small/fa0edd1391f44ff19ef7564a15c1367b/eee31a72159d407392088ba9446b4283\n",
      "filename = None\n",
      "file_obj = None\n",
      "base64 = None\n",
      "crop = None\n",
      "allow_dup_url = False\n",
      "=======\n"
     ]
    }
   ],
   "source": [
    "# Data dump results\n",
    "\n",
    "def dumper(res):\n",
    "    for r in res:\n",
    "        for k,x in r.__dict__.items():\n",
    "            print(k, '=', x)\n",
    "        print('=======')\n",
    "        \n",
    "dumper(res)\n"
   ]
  },
  {
   "cell_type": "code",
   "execution_count": 16,
   "metadata": {
    "autoscroll": false,
    "collapsed": true,
    "ein.tags": "worksheet-0",
    "scrolled": true,
    "slideshow": {
     "slide_type": "-"
    }
   },
   "outputs": [
    {
     "name": "stdout",
     "output_type": "stream",
     "text": [
      "0.29823655 e81abb0faceb49bda409fefd2ba87bde https://s3.amazonaws.com/clarifai-api/img2/prod/small/fa0edd1391f44ff19ef7564a15c1367b/bf1dc03d37864389a61c573363a8e17d\n",
      "0.2975775 d767a032935f4a638324b14abeb306b5 https://s3.amazonaws.com/clarifai-api/img2/prod/small/fa0edd1391f44ff19ef7564a15c1367b/e3cacebebdbe4ea88957324d7e7e68a6\n",
      "0.2897069 ceaa67b639cb4c9894b3b3bb0ef07eb2 https://s3.amazonaws.com/clarifai-api/img2/prod/small/fa0edd1391f44ff19ef7564a15c1367b/b36c47c80b654ac7aa66a6a9ac3499c6\n",
      "0.28912365 f9adeb3a8c604b2d99543e07191b21d0 https://s3.amazonaws.com/clarifai-api/img2/prod/small/fa0edd1391f44ff19ef7564a15c1367b/ff89b39f855940b1ae73d7baa66393de\n",
      "0.2822762 f5193655feb34786b621b04db0778138 https://s3.amazonaws.com/clarifai-api/img2/prod/small/fa0edd1391f44ff19ef7564a15c1367b/e235026604b74dc4a7a4f20059624449\n",
      "0.2627576 bcb5b3a95ef241b69dcd5bcf38c2de14 https://s3.amazonaws.com/clarifai-api/img2/prod/small/fa0edd1391f44ff19ef7564a15c1367b/aed2e3810a3c495ea0664c6b8bdcb0d6\n",
      "0.2551462 b6ff41d70895467e9b2c6b81903a0312 https://s3.amazonaws.com/clarifai-api/img2/prod/small/fa0edd1391f44ff19ef7564a15c1367b/eee31a72159d407392088ba9446b4283\n"
     ]
    }
   ],
   "source": [
    "# Data dump the Images so we can visualize them\n",
    "\n",
    "def urldumper(res):\n",
    "    for r in res:\n",
    "        print(r.score, r.input_id, r.url)\n",
    "        \n",
    "urldumper(res)\n",
    "\n"
   ]
  },
  {
   "cell_type": "code",
   "execution_count": 15,
   "metadata": {
    "autoscroll": false,
    "collapsed": true,
    "ein.tags": "worksheet-0",
    "scrolled": false,
    "slideshow": {
     "slide_type": "-"
    }
   },
   "outputs": [
    {
     "data": {
      "text/html": [
       "<figure style=\"display:inline-block\"><img src=\"http://jonvilma.com/images/keanu-reeves-2.jpg\" width=100 height=100 /><figcaption>0. score=0.876</figcaption></figure><figure style=\"display:inline-block\"><img src=\"https://s3.amazonaws.com/clarifai-api/img2/prod/small/fa0edd1391f44ff19ef7564a15c1367b/e280b255c00a4adb84a3c62af9c3c7cf\" width=100 height=100 /><figcaption>1. score=0.294</figcaption></figure><figure style=\"display:inline-block\"><img src=\"https://s3.amazonaws.com/clarifai-api/img2/prod/small/fa0edd1391f44ff19ef7564a15c1367b/ff7eeade34164183b58e5a21b35594f3\" width=100 height=100 /><figcaption>2. score=0.288</figcaption></figure><figure style=\"display:inline-block\"><img src=\"https://s3.amazonaws.com/clarifai-api/img2/prod/small/fa0edd1391f44ff19ef7564a15c1367b/d9046d8b94c544b3b9a5f43d5bacddae\" width=100 height=100 /><figcaption>3. score=0.283</figcaption></figure><figure style=\"display:inline-block\"><img src=\"https://s3.amazonaws.com/clarifai-api/img2/prod/small/fa0edd1391f44ff19ef7564a15c1367b/c7a9a8c18cbb46868ede9e09a111b161\" width=100 height=100 /><figcaption>4. score=0.281</figcaption></figure><figure style=\"display:inline-block\"><img src=\"https://s3.amazonaws.com/clarifai-api/img2/prod/small/fa0edd1391f44ff19ef7564a15c1367b/c688f88a4577447bbc58520e00cf3ad3\" width=100 height=100 /><figcaption>5. score=0.275</figcaption></figure><figure style=\"display:inline-block\"><img src=\"https://s3.amazonaws.com/clarifai-api/img2/prod/small/fa0edd1391f44ff19ef7564a15c1367b/e69659ea16f94fe18d0443511227d569\" width=100 height=100 /><figcaption>6. score=0.272</figcaption></figure><figure style=\"display:inline-block\"><img src=\"https://s3.amazonaws.com/clarifai-api/img2/prod/small/fa0edd1391f44ff19ef7564a15c1367b/df5d45fa27844c4b8f792af1d203dc88\" width=100 height=100 /><figcaption>7. score=0.266</figcaption></figure><figure style=\"display:inline-block\"><img src=\"https://s3.amazonaws.com/clarifai-api/img2/prod/small/fa0edd1391f44ff19ef7564a15c1367b/fd0c4bc2244c4aa38ae917201acf5235\" width=100 height=100 /><figcaption>8. score=0.258</figcaption></figure><figure style=\"display:inline-block\"><img src=\"https://s3.amazonaws.com/clarifai-api/img2/prod/small/fa0edd1391f44ff19ef7564a15c1367b/ecf6bc3edc1641d892637c85e370943a\" width=100 height=100 /><figcaption>9. score=0.257</figcaption></figure><figure style=\"display:inline-block\"><img src=\"https://s3.amazonaws.com/clarifai-api/img2/prod/small/fa0edd1391f44ff19ef7564a15c1367b/c192476b24d644208487e7a5117dca93\" width=100 height=100 /><figcaption>10. score=0.257</figcaption></figure><figure style=\"display:inline-block\"><img src=\"https://s3.amazonaws.com/clarifai-api/img2/prod/small/fa0edd1391f44ff19ef7564a15c1367b/a47a811554e542eeaa305bebd27cbc93\" width=100 height=100 /><figcaption>11. score=0.249</figcaption></figure><figure style=\"display:inline-block\"><img src=\"https://s3.amazonaws.com/clarifai-api/img2/prod/small/fa0edd1391f44ff19ef7564a15c1367b/c27de4a8e88d4c48987a39050b4fe4c9\" width=100 height=100 /><figcaption>12. score=0.246</figcaption></figure><figure style=\"display:inline-block\"><img src=\"https://s3.amazonaws.com/clarifai-api/img2/prod/small/fa0edd1391f44ff19ef7564a15c1367b/dcc68d66b7fa40968f48b617bdeab079\" width=100 height=100 /><figcaption>13. score=0.243</figcaption></figure><figure style=\"display:inline-block\"><img src=\"https://s3.amazonaws.com/clarifai-api/img2/prod/small/fa0edd1391f44ff19ef7564a15c1367b/cc6c9ab2d94c4b7cb62114a3fecd9e01\" width=100 height=100 /><figcaption>14. score=0.243</figcaption></figure><figure style=\"display:inline-block\"><img src=\"https://s3.amazonaws.com/clarifai-api/img2/prod/small/fa0edd1391f44ff19ef7564a15c1367b/a7a22605fc0a4365a0af674692f23d11\" width=100 height=100 /><figcaption>15. score=0.243</figcaption></figure><figure style=\"display:inline-block\"><img src=\"https://s3.amazonaws.com/clarifai-api/img2/prod/small/fa0edd1391f44ff19ef7564a15c1367b/ebd62f63319b430a8bfd76a2214cb7ac\" width=100 height=100 /><figcaption>16. score=0.240</figcaption></figure><figure style=\"display:inline-block\"><img src=\"https://s3.amazonaws.com/clarifai-api/img2/prod/small/fa0edd1391f44ff19ef7564a15c1367b/c99ff58652c54873ad24ab6493d1e9b0\" width=100 height=100 /><figcaption>17. score=0.236</figcaption></figure><figure style=\"display:inline-block\"><img src=\"https://s3.amazonaws.com/clarifai-api/img2/prod/small/fa0edd1391f44ff19ef7564a15c1367b/bad2e394e98146c1a146d29a2a419346\" width=100 height=100 /><figcaption>18. score=0.229</figcaption></figure><figure style=\"display:inline-block\"><img src=\"https://s3.amazonaws.com/clarifai-api/img2/prod/small/fa0edd1391f44ff19ef7564a15c1367b/e6f3885bff4a4943b9cb94c803f6808a\" width=100 height=100 /><figcaption>19. score=0.213</figcaption></figure>"
      ],
      "text/plain": [
       "<IPython.core.display.HTML object>"
      ]
     },
     "metadata": {},
     "output_type": "display_data"
    }
   ],
   "source": [
    "# Let's display them better\n",
    "\n",
    "from IPython.core.display import display, HTML\n",
    "htmlstr = ''\n",
    "for idx, __ in enumerate(sorted(res, key=lambda myres: myres.score, reverse=True)):\n",
    "    htmlstr += '<figure style=\"display:inline-block\"><img src=\"{2}\" width=100 height=100 /><figcaption>{0}. score={1:.3f}</figcaption></figure>'.format(idx, __.score, __.url)\n",
    "display(HTML(htmlstr))"
   ]
  },
  {
   "cell_type": "code",
   "execution_count": 26,
   "metadata": {
    "autoscroll": false,
    "collapsed": false,
    "ein.tags": "worksheet-0",
    "scrolled": false,
    "slideshow": {
     "slide_type": "-"
    }
   },
   "outputs": [
    {
     "data": {
      "text/html": [
       "<img src=\"https://s3-us-west-2.amazonaws.com/jchang-testbucket2-oregon/FacesBigTest/11602640-skina-heada5-eye0-eyebrow1-mouth1-none-nose4-hair0!darkbrown-none.jpg\" width=200 height=200 />"
      ],
      "text/plain": [
       "<IPython.core.display.HTML object>"
      ]
     },
     "metadata": {},
     "output_type": "display_data"
    },
    {
     "data": {
      "text/html": [
       "<figure style=\"display:inline-block\"><img src=\"https://s3.amazonaws.com/clarifai-api/img2/prod/small/fa0edd1391f44ff19ef7564a15c1367b/ac685f14c7734ce994b7d087a70496f4\" width=100 height=100 /><figcaption>0. score=0.9</figcaption></figure><figure style=\"display:inline-block\"><img src=\"https://s3.amazonaws.com/clarifai-api/img2/prod/small/fa0edd1391f44ff19ef7564a15c1367b/d577312674bb461a9af008d251c502ff\" width=100 height=100 /><figcaption>1. score=0.9</figcaption></figure><figure style=\"display:inline-block\"><img src=\"https://s3.amazonaws.com/clarifai-api/img2/prod/small/fa0edd1391f44ff19ef7564a15c1367b/e1ac993d76ab40e3ae74c561a5162d1e\" width=100 height=100 /><figcaption>2. score=0.9</figcaption></figure><figure style=\"display:inline-block\"><img src=\"https://s3.amazonaws.com/clarifai-api/img2/prod/small/fa0edd1391f44ff19ef7564a15c1367b/e280b255c00a4adb84a3c62af9c3c7cf\" width=100 height=100 /><figcaption>3. score=0.9</figcaption></figure><figure style=\"display:inline-block\"><img src=\"https://s3.amazonaws.com/clarifai-api/img2/prod/small/fa0edd1391f44ff19ef7564a15c1367b/a39e8577ec70433e92dc6c33db542396\" width=100 height=100 /><figcaption>4. score=0.9</figcaption></figure><figure style=\"display:inline-block\"><img src=\"https://s3.amazonaws.com/clarifai-api/img2/prod/small/fa0edd1391f44ff19ef7564a15c1367b/aed2e3810a3c495ea0664c6b8bdcb0d6\" width=100 height=100 /><figcaption>5. score=0.9</figcaption></figure><figure style=\"display:inline-block\"><img src=\"https://s3.amazonaws.com/clarifai-api/img2/prod/small/fa0edd1391f44ff19ef7564a15c1367b/edb54f6218874985994d826fb776d69f\" width=100 height=100 /><figcaption>6. score=0.8</figcaption></figure><figure style=\"display:inline-block\"><img src=\"https://s3.amazonaws.com/clarifai-api/img2/prod/small/fa0edd1391f44ff19ef7564a15c1367b/ebd62f63319b430a8bfd76a2214cb7ac\" width=100 height=100 /><figcaption>7. score=0.8</figcaption></figure><figure style=\"display:inline-block\"><img src=\"https://s3.amazonaws.com/clarifai-api/img2/prod/small/fa0edd1391f44ff19ef7564a15c1367b/a47a811554e542eeaa305bebd27cbc93\" width=100 height=100 /><figcaption>8. score=0.8</figcaption></figure><figure style=\"display:inline-block\"><img src=\"https://s3.amazonaws.com/clarifai-api/img2/prod/small/fa0edd1391f44ff19ef7564a15c1367b/e235026604b74dc4a7a4f20059624449\" width=100 height=100 /><figcaption>9. score=0.8</figcaption></figure><figure style=\"display:inline-block\"><img src=\"https://s3.amazonaws.com/clarifai-api/img2/prod/small/fa0edd1391f44ff19ef7564a15c1367b/bad2e394e98146c1a146d29a2a419346\" width=100 height=100 /><figcaption>10. score=0.8</figcaption></figure><figure style=\"display:inline-block\"><img src=\"https://s3.amazonaws.com/clarifai-api/img2/prod/small/fa0edd1391f44ff19ef7564a15c1367b/bf1dc03d37864389a61c573363a8e17d\" width=100 height=100 /><figcaption>11. score=0.8</figcaption></figure><figure style=\"display:inline-block\"><img src=\"https://s3.amazonaws.com/clarifai-api/img2/prod/small/fa0edd1391f44ff19ef7564a15c1367b/c7a9a8c18cbb46868ede9e09a111b161\" width=100 height=100 /><figcaption>12. score=0.8</figcaption></figure><figure style=\"display:inline-block\"><img src=\"https://s3.amazonaws.com/clarifai-api/img2/prod/small/fa0edd1391f44ff19ef7564a15c1367b/a09a3eceaad447399f944608a51b3b88\" width=100 height=100 /><figcaption>13. score=0.8</figcaption></figure><figure style=\"display:inline-block\"><img src=\"https://s3.amazonaws.com/clarifai-api/img2/prod/small/fa0edd1391f44ff19ef7564a15c1367b/a7a22605fc0a4365a0af674692f23d11\" width=100 height=100 /><figcaption>14. score=0.8</figcaption></figure><figure style=\"display:inline-block\"><img src=\"https://s3.amazonaws.com/clarifai-api/img2/prod/small/fa0edd1391f44ff19ef7564a15c1367b/cc6c9ab2d94c4b7cb62114a3fecd9e01\" width=100 height=100 /><figcaption>15. score=0.8</figcaption></figure><figure style=\"display:inline-block\"><img src=\"https://s3.amazonaws.com/clarifai-api/img2/prod/small/fa0edd1391f44ff19ef7564a15c1367b/b10e9550635d4418ba2f6f92e6d74521\" width=100 height=100 /><figcaption>16. score=0.8</figcaption></figure><figure style=\"display:inline-block\"><img src=\"https://s3.amazonaws.com/clarifai-api/img2/prod/small/fa0edd1391f44ff19ef7564a15c1367b/f4d55e3865724575956148e22cbf9af2\" width=100 height=100 /><figcaption>17. score=0.8</figcaption></figure><figure style=\"display:inline-block\"><img src=\"https://s3.amazonaws.com/clarifai-api/img2/prod/small/fa0edd1391f44ff19ef7564a15c1367b/b36c47c80b654ac7aa66a6a9ac3499c6\" width=100 height=100 /><figcaption>18. score=0.8</figcaption></figure><figure style=\"display:inline-block\"><img src=\"https://s3.amazonaws.com/clarifai-api/img2/prod/small/fa0edd1391f44ff19ef7564a15c1367b/fd0c4bc2244c4aa38ae917201acf5235\" width=100 height=100 /><figcaption>19. score=0.8</figcaption></figure>"
      ],
      "text/plain": [
       "<IPython.core.display.HTML object>"
      ]
     },
     "metadata": {},
     "output_type": "display_data"
    }
   ],
   "source": [
    "url='https://s3-us-west-2.amazonaws.com/jchang-testbucket2-oregon/FacesBigTest/11602640-skina-heada5-eye0-eyebrow1-mouth1-none-nose4-hair0!darkbrown-none.jpg'\n",
    "display(HTML('<img src=\"{}\" width=200 height=200 />'.format(url)))\n",
    "res = app.inputs.search_by_image(url=url)\n",
    "htmlstr = ''\n",
    "for idx, __ in enumerate(sorted(res, key=lambda myres: myres.score, reverse=True)):\n",
    "    htmlstr += '<figure style=\"display:inline-block\"><img src=\"{2}\" width=100 height=100 /><figcaption>{0}. score={1:.1f}</figcaption></figure>'.format(idx, __.score, __.url)\n",
    "display(HTML(htmlstr))\n",
    "    "
   ]
  },
  {
   "cell_type": "code",
   "execution_count": 2,
   "metadata": {
    "autoscroll": false,
    "collapsed": false,
    "ein.tags": "worksheet-0",
    "slideshow": {
     "slide_type": "-"
    }
   },
   "outputs": [
    {
     "name": "stdout",
     "output_type": "stream",
     "text": [
      "https://s3-us-west-2.amazonaws.com/jchang-testbucket2-oregon/FacesBigTest/10142738-skina-heada4-eye2-eyebrow4-mouth0-facehair2-nose0-hair2!blonde-spectacle2.jpg\n",
      "https://s3-us-west-2.amazonaws.com/jchang-testbucket2-oregon/FacesBigTest/10413307-skina-heada4-eye3-eyebrow1-mouthb1-facehair0-nose5-hair0!blonde-spectacle1.jpg\n",
      "https://s3-us-west-2.amazonaws.com/jchang-testbucket2-oregon/FacesBigTest/10687411-skina-heada4-eye3-eyebrow8-mouth4-none-nose3-hair19-spectacle0.jpg\n",
      "https://s3-us-west-2.amazonaws.com/jchang-testbucket2-oregon/FacesBigTest/10795081-skina-heada4-eye4-eyebrow2-mouth0-facehair2-nose3-hair5!white-spectacle0.jpg\n",
      "https://s3-us-west-2.amazonaws.com/jchang-testbucket2-oregon/FacesBigTest/11060923-skina-heada4-eye4-eyebrow8-mouthb0-facehair3-nose3-hair6!darkbrown-spectacle2.jpg\n",
      "https://s3-us-west-2.amazonaws.com/jchang-testbucket2-oregon/FacesBigTest/11116071-skina-heada4-eye6-eyebrow0-mouthb7-none-nose0-hair19!darkbrown-spectacle0.jpg\n",
      "https://s3-us-west-2.amazonaws.com/jchang-testbucket2-oregon/FacesBigTest/11451887-skina-heada4-eye10-eyebrow0-mouthb3-none-nose3-hair19!blonde-spectacle1.jpg\n",
      "https://s3-us-west-2.amazonaws.com/jchang-testbucket2-oregon/FacesBigTest/11478305-skina-heada4-eye10-eyebrow2-mouthb4-none-nose5-hair7!blonde-none.jpg\n",
      "https://s3-us-west-2.amazonaws.com/jchang-testbucket2-oregon/FacesBigTest/1149643-skina-heada0-eye3-eyebrow1-mouth1-facehair0-nose5-hair3!darkbrown-spectacle2.jpg\n",
      "https://s3-us-west-2.amazonaws.com/jchang-testbucket2-oregon/FacesBigTest/11602640-skina-heada5-eye0-eyebrow1-mouth1-none-nose4-hair0!darkbrown-none.jpg\n",
      "https://s3-us-west-2.amazonaws.com/jchang-testbucket2-oregon/FacesBigTest/11620223-skina-heada5-eye0-eyebrow1-mouthb0-facehair3-nose5-hair6-spectacle2.jpg\n",
      "https://s3-us-west-2.amazonaws.com/jchang-testbucket2-oregon/FacesBigTest/11654553-skina-heada5-eye0-eyebrow2-mouth7-none-nose0-hair10-spectacle2.jpg\n",
      "https://s3-us-west-2.amazonaws.com/jchang-testbucket2-oregon/FacesBigTest/11785866-skina-heada5-eye0-eyebrow5-mouthb1-none-nose3-hair2!darkbrown-spectacle0.jpg\n",
      "https://s3-us-west-2.amazonaws.com/jchang-testbucket2-oregon/FacesBigTest/11826440-skina-heada5-eye0-eyebrow6-mouthb1-none-nose2-hair1!darkbrown-none.jpg\n",
      "https://s3-us-west-2.amazonaws.com/jchang-testbucket2-oregon/FacesBigTest/11994185-skina-heada5-eye1-eyebrow1-mouthb1-facehair4-nose0-hair1!darkbrown-none.jpg\n",
      "https://s3-us-west-2.amazonaws.com/jchang-testbucket2-oregon/FacesBigTest/12147367-skina-heada5-eye1-eyebrow5-mouthb0-facehair1-nose2-hair5!darkbrown-spectacle1.jpg\n",
      "https://s3-us-west-2.amazonaws.com/jchang-testbucket2-oregon/FacesBigTest/12339584-skina-heada5-eye2-eyebrow1-mouth1-facehair3-nose1-hair0!blonde-spectacle3.jpg\n",
      "https://s3-us-west-2.amazonaws.com/jchang-testbucket2-oregon/FacesBigTest/12495199-skina-heada5-eye2-eyebrow5-mouth0-facehair2-nose6-hair2!white-spectacle3.jpg\n",
      "https://s3-us-west-2.amazonaws.com/jchang-testbucket2-oregon/FacesBigTest/13022058-skina-heada5-eye4-eyebrow0-mouth0-facehair0-nose1-hair2!darkbrown-spectacle2.jpg\n",
      "https://s3-us-west-2.amazonaws.com/jchang-testbucket2-oregon/FacesBigTest/1481412-skina-heada0-eye4-eyebrow0-mouth2-none-nose2-hair14-spectacle1.jpg\n",
      "https://s3-us-west-2.amazonaws.com/jchang-testbucket2-oregon/FacesBigTest/15336238-skinb-headb3-eye9-eyebrow4-mouth2-none-nose0-hair15!white-spectacle2.jpg\n",
      "https://s3-us-west-2.amazonaws.com/jchang-testbucket2-oregon/FacesBigTest/15741816-skinb-headb4-eye9-eyebrow8-mouthb7-none-nose1-hair11!white-spectacle0.jpg\n",
      "https://s3-us-west-2.amazonaws.com/jchang-testbucket2-oregon/FacesBigTest/1674308-skina-heada0-eye4-eyebrow5-mouth0-facehair2-nose6-hair2!blonde-spectacle2.jpg\n",
      "https://s3-us-west-2.amazonaws.com/jchang-testbucket2-oregon/FacesBigTest/1699986-skina-heada0-eye4-eyebrow5-mouthb1-facehair1-nose0-hair6!white-spectacle0.jpg\n",
      "https://s3-us-west-2.amazonaws.com/jchang-testbucket2-oregon/FacesBigTest/17426257-skinc-headc0-eye2-eyebrow7-mouthb1-facehair4-noseb4-hair6-spectacle1.jpg\n",
      "https://s3-us-west-2.amazonaws.com/jchang-testbucket2-oregon/FacesBigTest/17599600-skinc-headc0-eye3-eyebrow2-mouth1-facehair1-noseb3-hair3-none.jpg\n",
      "https://s3-us-west-2.amazonaws.com/jchang-testbucket2-oregon/FacesBigTest/17966171-skinc-headc0-eye4-eyebrow0-mouth7-none-noseb1-hair11!black-spectacle0.jpg\n",
      "https://s3-us-west-2.amazonaws.com/jchang-testbucket2-oregon/FacesBigTest/18037400-skinc-headc0-eye4-eyebrow1-mouthb2-none-noseb4-hair17!darkbrown-none.jpg\n",
      "https://s3-us-west-2.amazonaws.com/jchang-testbucket2-oregon/FacesBigTest/18362417-skinc-headc0-eye4-eyebrow8-mouth1-facehair3-noseb3-hair6!white-spectacle1.jpg\n",
      "https://s3-us-west-2.amazonaws.com/jchang-testbucket2-oregon/FacesBigTest/18765360-skinc-headc0-eye6-eyebrow7-mouth1-facehair1-noseb4-hair0!darkbrown-none.jpg\n",
      "https://s3-us-west-2.amazonaws.com/jchang-testbucket2-oregon/FacesBigTest/19151902-skinc-headc0-eye8-eyebrow8-mouth1-facehair3-noseb6-hair3-spectacle1.jpg\n",
      "https://s3-us-west-2.amazonaws.com/jchang-testbucket2-oregon/FacesBigTest/19378475-skinc-headc0-eye10-eyebrow4-mouth7-none-noseb1-hair10!darkbrown-none.jpg\n",
      "https://s3-us-west-2.amazonaws.com/jchang-testbucket2-oregon/FacesBigTest/2001451-skina-heada0-eye6-eyebrow4-mouth0-facehair4-nose0-hair5!darkbrown-spectacle0.jpg\n",
      "https://s3-us-west-2.amazonaws.com/jchang-testbucket2-oregon/FacesBigTest/20425019-skinc-headc1-eye2-eyebrow1-mouth1-facehair2-noseb0-hair5!black-spectacle3.jpg\n",
      "https://s3-us-west-2.amazonaws.com/jchang-testbucket2-oregon/FacesBigTest/21327218-skinc-headc1-eye4-eyebrow1-mouth0-facehair1-noseb0-hair6!white-spectacle2.jpg\n",
      "https://s3-us-west-2.amazonaws.com/jchang-testbucket2-oregon/FacesBigTest/21443273-skinc-headc1-eye4-eyebrow3-mouth1-facehair5-noseb5-hair4!black-spectacle2.jpg\n",
      "https://s3-us-west-2.amazonaws.com/jchang-testbucket2-oregon/FacesBigTest/21521039-skinc-headc1-eye4-eyebrow4-mouthb2-none-noseb5-hair12!white-spectacle3.jpg\n",
      "https://s3-us-west-2.amazonaws.com/jchang-testbucket2-oregon/FacesBigTest/22049610-skinc-headc1-eye6-eyebrow6-mouth1-facehair4-noseb2-hair3!blonde-none.jpg\n",
      "https://s3-us-west-2.amazonaws.com/jchang-testbucket2-oregon/FacesBigTest/22356455-skinc-headc1-eye8-eyebrow4-mouthb1-facehair1-noseb1-hair3!darkbrown-none.jpg\n",
      "https://s3-us-west-2.amazonaws.com/jchang-testbucket2-oregon/FacesBigTest/22870127-skinc-headc2-eye0-eyebrow1-mouthb1-facehair2-noseb3-hair6!blonde-spectacle1.jpg\n",
      "https://s3-us-west-2.amazonaws.com/jchang-testbucket2-oregon/FacesBigTest/23802822-skinc-headc2-eye2-eyebrow2-mouth0-facehair5-noseb4-hair5!blonde-spectacle1.jpg\n",
      "https://s3-us-west-2.amazonaws.com/jchang-testbucket2-oregon/FacesBigTest/23980716-skinc-headc2-eye2-eyebrow5-mouthb1-none-noseb0-hair4!blonde-spectacle0.jpg\n",
      "https://s3-us-west-2.amazonaws.com/jchang-testbucket2-oregon/FacesBigTest/24149281-skinc-headc2-eye3-eyebrow0-mouth0-none-noseb0-hair4!darkbrown-spectacle0.jpg\n",
      "https://s3-us-west-2.amazonaws.com/jchang-testbucket2-oregon/FacesBigTest/24649689-skinc-headc2-eye4-eyebrow0-mouthb2-none-noseb5-hair10-spectacle3.jpg\n",
      "https://s3-us-west-2.amazonaws.com/jchang-testbucket2-oregon/FacesBigTest/24735941-skinc-headc2-eye4-eyebrow2-mouthb0-facehair2-noseb1-none-spectacle0.jpg\n",
      "https://s3-us-west-2.amazonaws.com/jchang-testbucket2-oregon/FacesBigTest/24801047-skinc-headc2-eye4-eyebrow3-mouthb2-none-noseb2-hair15!white-spectacle1.jpg\n",
      "https://s3-us-west-2.amazonaws.com/jchang-testbucket2-oregon/FacesBigTest/24874580-skinc-headc2-eye4-eyebrow5-mouth1-facehair4-noseb4-hair2!black-none.jpg\n",
      "https://s3-us-west-2.amazonaws.com/jchang-testbucket2-oregon/FacesBigTest/25162098-skinc-headc2-eye6-eyebrow1-mouthb7-none-noseb4-hair14!blonde-spectacle2.jpg\n",
      "https://s3-us-west-2.amazonaws.com/jchang-testbucket2-oregon/FacesBigTest/25399659-skinc-headc2-eye6-eyebrow6-mouthb1-none-noseb0-hair0!blonde-spectacle3.jpg\n",
      "https://s3-us-west-2.amazonaws.com/jchang-testbucket2-oregon/FacesBigTest/25583985-skinc-headc2-eye8-eyebrow1-mouthb1-facehair2-noseb5-hair1!darkbrown-none.jpg\n",
      "https://s3-us-west-2.amazonaws.com/jchang-testbucket2-oregon/FacesBigTest/26204234-skinc-headc3-eye0-eyebrow1-mouthb1-facehair4-noseb4-hair5-spectacle3.jpg\n",
      "https://s3-us-west-2.amazonaws.com/jchang-testbucket2-oregon/FacesBigTest/26554634-skinc-headc3-eye0-eyebrow8-mouthb1-facehair1-noseb1-hair3!blonde-spectacle3.jpg\n",
      "https://s3-us-west-2.amazonaws.com/jchang-testbucket2-oregon/FacesBigTest/2685064-skina-heada1-eye1-eyebrow0-mouth1-none-nose3-hair0!white-spectacle3.jpg\n",
      "https://s3-us-west-2.amazonaws.com/jchang-testbucket2-oregon/FacesBigTest/26925938-skinc-headc3-eye1-eyebrow7-mouth0-facehair1-noseb1-hair4!blonde-spectacle2.jpg\n",
      "https://s3-us-west-2.amazonaws.com/jchang-testbucket2-oregon/FacesBigTest/27629831-skinc-headc3-eye3-eyebrow2-mouthb4-none-noseb3-hair16!darkbrown-spectacle0.jpg\n",
      "https://s3-us-west-2.amazonaws.com/jchang-testbucket2-oregon/FacesBigTest/27963913-skinc-headc3-eye4-eyebrow0-mouthb0-facehair0-noseb3-hair1!white-spectacle2.jpg\n",
      "https://s3-us-west-2.amazonaws.com/jchang-testbucket2-oregon/FacesBigTest/28056354-skinc-headc3-eye4-eyebrow2-mouth2-none-noseb2-hair11!black-spectacle3.jpg\n",
      "https://s3-us-west-2.amazonaws.com/jchang-testbucket2-oregon/FacesBigTest/28375402-skinc-headc3-eye4-eyebrow8-mouthb0-facehair5-noseb1-hair6!black-spectacle1.jpg\n",
      "https://s3-us-west-2.amazonaws.com/jchang-testbucket2-oregon/FacesBigTest/29067625-skinc-headc3-eye8-eyebrow6-mouth0-facehair4-noseb3-hair5!darkbrown-none.jpg\n",
      "https://s3-us-west-2.amazonaws.com/jchang-testbucket2-oregon/FacesBigTest/2925280-skina-heada1-eye1-eyebrow6-mouth0-facehair2-nose2-hair0-none.jpg\n",
      "https://s3-us-west-2.amazonaws.com/jchang-testbucket2-oregon/FacesBigTest/29793780-skinc-headc4-eye0-eyebrow6-mouthb3-none-noseb4-hair7!darkbrown-none.jpg\n",
      "https://s3-us-west-2.amazonaws.com/jchang-testbucket2-oregon/FacesBigTest/29880448-skinc-headc4-eye0-eyebrow8-mouthb0-facehair3-noseb5-hair1!darkbrown-spectacle2.jpg\n",
      "https://s3-us-west-2.amazonaws.com/jchang-testbucket2-oregon/FacesBigTest/30795313-skinc-headc4-eye2-eyebrow8-mouthb0-facehair5-noseb5-hair5!white-spectacle2.jpg\n",
      "https://s3-us-west-2.amazonaws.com/jchang-testbucket2-oregon/FacesBigTest/31048645-skinc-headc4-eye3-eyebrow4-mouthb0-facehair5-noseb5-hair3!black-none.jpg\n",
      "https://s3-us-west-2.amazonaws.com/jchang-testbucket2-oregon/FacesBigTest/31088188-skinc-headc4-eye3-eyebrow5-mouth4-none-noseb4-hair14!black-spectacle2.jpg\n",
      "https://s3-us-west-2.amazonaws.com/jchang-testbucket2-oregon/FacesBigTest/31138668-skinc-headc4-eye3-eyebrow6-mouth4-none-noseb3-hair17!black-spectacle2.jpg\n",
      "https://s3-us-west-2.amazonaws.com/jchang-testbucket2-oregon/FacesBigTest/31214055-skinc-headc4-eye3-eyebrow7-mouthb4-none-noseb1-hair14-none.jpg\n",
      "https://s3-us-west-2.amazonaws.com/jchang-testbucket2-oregon/FacesBigTest/31271578-skinc-headc4-eye4-eyebrow0-mouth0-facehair1-noseb4-hair6!white-spectacle2.jpg\n",
      "https://s3-us-west-2.amazonaws.com/jchang-testbucket2-oregon/FacesBigTest/31316938-skinc-headc4-eye4-eyebrow0-mouthb7-none-noseb0-hair7!white-spectacle2.jpg\n",
      "https://s3-us-west-2.amazonaws.com/jchang-testbucket2-oregon/FacesBigTest/31600339-skinc-headc4-eye4-eyebrow6-mouthb0-facehair1-noseb1-hair2-spectacle3.jpg\n",
      "https://s3-us-west-2.amazonaws.com/jchang-testbucket2-oregon/FacesBigTest/31604424-skinc-headc4-eye4-eyebrow6-mouthb0-facehair4-noseb3-none-spectacle3.jpg\n",
      "https://s3-us-west-2.amazonaws.com/jchang-testbucket2-oregon/FacesBigTest/31632862-skinc-headc4-eye4-eyebrow7-mouth1-none-noseb6-hair1!blonde-spectacle1.jpg\n",
      "https://s3-us-west-2.amazonaws.com/jchang-testbucket2-oregon/FacesBigTest/32051915-skinc-headc4-eye6-eyebrow6-mouth7-none-noseb0-hair13!darkbrown-none.jpg\n",
      "https://s3-us-west-2.amazonaws.com/jchang-testbucket2-oregon/FacesBigTest/32088237-skinc-headc4-eye6-eyebrow7-mouth1-none-noseb2-hair0!blonde-spectacle1.jpg\n",
      "https://s3-us-west-2.amazonaws.com/jchang-testbucket2-oregon/FacesBigTest/32760413-skinc-headc4-eye10-eyebrow8-mouth2-none-noseb2-hair13!darkbrown-spectacle2.jpg\n",
      "https://s3-us-west-2.amazonaws.com/jchang-testbucket2-oregon/FacesBigTest/34439839-skinc-headc5-eye3-eyebrow5-mouthb1-facehair5-noseb6-hair6-spectacle3.jpg\n",
      "https://s3-us-west-2.amazonaws.com/jchang-testbucket2-oregon/FacesBigTest/34821718-skinc-headc5-eye4-eyebrow4-mouth2-none-noseb6-hair12!black-spectacle2.jpg\n",
      "https://s3-us-west-2.amazonaws.com/jchang-testbucket2-oregon/FacesBigTest/35083244-skinc-headc5-eye6-eyebrow0-mouthb0-facehair0-noseb5-hair0!darkbrown-spectacle3.jpg\n",
      "https://s3-us-west-2.amazonaws.com/jchang-testbucket2-oregon/FacesBigTest/35653389-skinc-headc5-eye8-eyebrow4-mouth0-none-noseb2-hair2!blonde-spectacle3.jpg\n",
      "https://s3-us-west-2.amazonaws.com/jchang-testbucket2-oregon/FacesBigTest/35846112-skinc-headc5-eye9-eyebrow1-mouth2-none-noseb4-hair19-spectacle1.jpg\n",
      "https://s3-us-west-2.amazonaws.com/jchang-testbucket2-oregon/FacesBigTest/36371155-skind-headd0-eye1-eyebrow5-mouth1-none-noseb3-hair1!black-none.jpg\n",
      "https://s3-us-west-2.amazonaws.com/jchang-testbucket2-oregon/FacesBigTest/3647197-skina-heada1-eye3-eyebrow5-mouthb1-facehair4-nose0-hair6-spectacle1.jpg\n",
      "https://s3-us-west-2.amazonaws.com/jchang-testbucket2-oregon/FacesBigTest/36524026-skind-headd0-eye2-eyebrow4-mouth2-none-noseb6-hair17!white-spectacle0.jpg\n",
      "https://s3-us-west-2.amazonaws.com/jchang-testbucket2-oregon/FacesBigTest/36707718-skind-headd0-eye3-eyebrow5-mouth1-facehair2-noseb0-hair6!black-spectacle2.jpg\n",
      "https://s3-us-west-2.amazonaws.com/jchang-testbucket2-oregon/FacesBigTest/37272171-skind-headd1-eye0-eyebrow6-mouthb1-none-noseb1-hair6!white-spectacle0.jpg\n",
      "https://s3-us-west-2.amazonaws.com/jchang-testbucket2-oregon/FacesBigTest/37486232-skind-headd1-eye2-eyebrow0-mouth1-none-noseb1-none-spectacle1.jpg\n",
      "https://s3-us-west-2.amazonaws.com/jchang-testbucket2-oregon/FacesBigTest/37614146-skind-headd1-eye2-eyebrow7-mouth0-facehair1-noseb3-hair4!white-spectacle0.jpg\n",
      "https://s3-us-west-2.amazonaws.com/jchang-testbucket2-oregon/FacesBigTest/3777539-skina-heada1-eye4-eyebrow0-mouth0-none-nose0-hair2!darkbrown-spectacle3.jpg\n",
      "https://s3-us-west-2.amazonaws.com/jchang-testbucket2-oregon/FacesBigTest/38402065-skind-headd2-eye1-eyebrow2-mouth7-none-noseb4-hair19!white-none.jpg\n",
      "https://s3-us-west-2.amazonaws.com/jchang-testbucket2-oregon/FacesBigTest/38432773-skind-headd2-eye1-eyebrow4-mouth0-facehair4-noseb0-hair0!black-spectacle2.jpg\n",
      "https://s3-us-west-2.amazonaws.com/jchang-testbucket2-oregon/FacesBigTest/39632768-skind-headd3-eye2-eyebrow3-mouthb0-facehair5-noseb5-hair6!white-spectacle2.jpg\n",
      "https://s3-us-west-2.amazonaws.com/jchang-testbucket2-oregon/FacesBigTest/40075616-skind-headd3-eye6-eyebrow0-mouth7-none-noseb0-hair17!white-spectacle0.jpg\n",
      "https://s3-us-west-2.amazonaws.com/jchang-testbucket2-oregon/FacesBigTest/4014080-skina-heada1-eye4-eyebrow5-mouthb1-facehair4-nose2-hair2!white-none.jpg\n",
      "https://s3-us-west-2.amazonaws.com/jchang-testbucket2-oregon/FacesBigTest/40255538-skind-headd3-eye10-eyebrow5-mouth7-none-noseb2-hair9!white-spectacle2.jpg\n",
      "https://s3-us-west-2.amazonaws.com/jchang-testbucket2-oregon/FacesBigTest/40340262-skind-headd4-eye0-eyebrow3-mouthb1-facehair2-noseb3-hair1!black-spectacle1.jpg\n",
      "https://s3-us-west-2.amazonaws.com/jchang-testbucket2-oregon/FacesBigTest/40505798-skind-headd4-eye1-eyebrow3-mouthb0-facehair5-noseb3-hair6!white-spectacle2.jpg\n",
      "https://s3-us-west-2.amazonaws.com/jchang-testbucket2-oregon/FacesBigTest/40535553-skind-headd4-eye1-eyebrow5-mouth1-facehair2-noseb0-hair1!white-spectacle2.jpg\n",
      "https://s3-us-west-2.amazonaws.com/jchang-testbucket2-oregon/FacesBigTest/406475-skina-heada0-eye1-eyebrow0-mouthb7-none-nose2-hair16!white-none.jpg\n",
      "https://s3-us-west-2.amazonaws.com/jchang-testbucket2-oregon/FacesBigTest/40881326-skind-headd4-eye3-eyebrow5-mouthb1-facehair4-noseb3-hair4!white-spectacle0.jpg\n",
      "https://s3-us-west-2.amazonaws.com/jchang-testbucket2-oregon/FacesBigTest/40963188-skind-headd4-eye4-eyebrow1-mouth1-facehair0-noseb5-hair6!white-spectacle2.jpg\n",
      "https://s3-us-west-2.amazonaws.com/jchang-testbucket2-oregon/FacesBigTest/41415528-skind-headd5-eye0-eyebrow5-mouthb0-facehair4-noseb1-hair5!black-spectacle2.jpg\n",
      "https://s3-us-west-2.amazonaws.com/jchang-testbucket2-oregon/FacesBigTest/41454299-skind-headd5-eye0-eyebrow7-mouthb1-facehair0-noseb1-hair0!white-spectacle3.jpg\n",
      "https://s3-us-west-2.amazonaws.com/jchang-testbucket2-oregon/FacesBigTest/41535309-skind-headd5-eye1-eyebrow3-mouth0-facehair1-noseb6-hair0!black-spectacle3.jpg\n",
      "https://s3-us-west-2.amazonaws.com/jchang-testbucket2-oregon/FacesBigTest/41847016-skind-headd5-eye3-eyebrow1-mouthb1-facehair3-noseb2-hair5!white-spectacle0.jpg\n",
      "https://s3-us-west-2.amazonaws.com/jchang-testbucket2-oregon/FacesBigTest/41915900-skind-headd5-eye3-eyebrow5-mouthb0-none-noseb5-hair1!black-none.jpg\n",
      "https://s3-us-west-2.amazonaws.com/jchang-testbucket2-oregon/FacesBigTest/42290654-skind-headd5-eye6-eyebrow7-mouthb0-facehair4-noseb1-hair3!white-spectacle3.jpg\n",
      "https://s3-us-west-2.amazonaws.com/jchang-testbucket2-oregon/FacesBigTest/465732-skina-heada0-eye1-eyebrow2-mouth4-none-nose1-hair12-spectacle1.jpg\n",
      "https://s3-us-west-2.amazonaws.com/jchang-testbucket2-oregon/FacesBigTest/4724920-skina-heada2-eye0-eyebrow2-mouthb0-facehair0-nose2-hair4-none.jpg\n",
      "https://s3-us-west-2.amazonaws.com/jchang-testbucket2-oregon/FacesBigTest/480936-skina-heada0-eye1-eyebrow2-mouthb1-facehair4-nose1-hair4!white-spectacle0.jpg\n",
      "https://s3-us-west-2.amazonaws.com/jchang-testbucket2-oregon/FacesBigTest/4905884-skina-heada2-eye0-eyebrow6-mouthb7-none-nose2-hair14-spectacle3.jpg\n",
      "https://s3-us-west-2.amazonaws.com/jchang-testbucket2-oregon/FacesBigTest/5519707-skina-heada2-eye2-eyebrow4-mouth0-facehair0-nose5-hair0-spectacle1.jpg\n",
      "https://s3-us-west-2.amazonaws.com/jchang-testbucket2-oregon/FacesBigTest/5708877-skina-heada2-eye2-eyebrow8-mouthb1-none-nose3-hair2-spectacle1.jpg\n",
      "https://s3-us-west-2.amazonaws.com/jchang-testbucket2-oregon/FacesBigTest/6152962-skina-heada2-eye4-eyebrow1-mouthb0-facehair2-nose3-hair2!blonde-spectacle1.jpg\n",
      "https://s3-us-west-2.amazonaws.com/jchang-testbucket2-oregon/FacesBigTest/6160423-skina-heada2-eye4-eyebrow1-mouthb1-facehair2-nose5-hair5!darkbrown-spectacle2.jpg\n",
      "https://s3-us-west-2.amazonaws.com/jchang-testbucket2-oregon/FacesBigTest/6520596-skina-heada2-eye6-eyebrow1-mouthb0-facehair3-nose3-hair0!blonde-spectacle0.jpg\n",
      "https://s3-us-west-2.amazonaws.com/jchang-testbucket2-oregon/FacesBigTest/6762224-skina-heada2-eye6-eyebrow7-mouthb0-facehair0-nose4-hair4!darkbrown-spectacle3.jpg\n",
      "https://s3-us-west-2.amazonaws.com/jchang-testbucket2-oregon/FacesBigTest/6804613-skina-heada2-eye6-eyebrow8-mouthb0-facehair2-nose2-hair0-spectacle2.jpg\n",
      "https://s3-us-west-2.amazonaws.com/jchang-testbucket2-oregon/FacesBigTest/7605050-skina-heada3-eye1-eyebrow7-mouthb0-none-nose2-hair1!blonde-none.jpg\n",
      "https://s3-us-west-2.amazonaws.com/jchang-testbucket2-oregon/FacesBigTest/7819333-skina-heada3-eye2-eyebrow3-mouthb1-facehair2-nose5-hair1-spectacle2.jpg\n",
      "https://s3-us-west-2.amazonaws.com/jchang-testbucket2-oregon/FacesBigTest/8142445-skina-heada3-eye3-eyebrow2-mouthb1-none-nose6-hair5!white-none.jpg\n",
      "https://s3-us-west-2.amazonaws.com/jchang-testbucket2-oregon/FacesBigTest/8192387-skina-heada3-eye3-eyebrow3-mouthb4-none-nose0-hair7!blonde-spectacle1.jpg\n",
      "https://s3-us-west-2.amazonaws.com/jchang-testbucket2-oregon/FacesBigTest/8549384-skina-heada3-eye4-eyebrow3-mouthb1-none-nose3-hair4!blonde-spectacle3.jpg\n",
      "https://s3-us-west-2.amazonaws.com/jchang-testbucket2-oregon/FacesBigTest/861216-skina-heada0-eye2-eyebrow3-mouth0-facehair4-nose4-hair0!white-spectacle0.jpg\n",
      "https://s3-us-west-2.amazonaws.com/jchang-testbucket2-oregon/FacesBigTest/8663353-skina-heada3-eye4-eyebrow6-mouth7-none-nose4-hair10-spectacle2.jpg\n",
      "https://s3-us-west-2.amazonaws.com/jchang-testbucket2-oregon/FacesBigTest/9346748-skina-heada4-eye0-eyebrow2-mouthb0-facehair0-nose3-hair4-spectacle2.jpg\n",
      "https://s3-us-west-2.amazonaws.com/jchang-testbucket2-oregon/FacesBigTest/9454934-skina-heada4-eye0-eyebrow5-mouth1-none-nose5-hair1!white-spectacle3.jpg\n",
      "https://s3-us-west-2.amazonaws.com/jchang-testbucket2-oregon/FacesBigTest/9553213-skina-heada4-eye0-eyebrow7-mouthb0-facehair3-nose1-hair4!darkbrown-spectacle2.jpg\n",
      "https://s3-us-west-2.amazonaws.com/jchang-testbucket2-oregon/FacesBigTest/9628457-skina-heada4-eye1-eyebrow0-mouth4-none-nose5-hair10!blonde-spectacle1.jpg\n"
     ]
    }
   ],
   "source": [
    "'''\n",
    "Test against Clairfai Face Detection to compare with Rekognition.\n",
    "'''\n",
    "\n",
    "import boto3\n",
    "from clarifai.rest import Image\n",
    "\n",
    "REGION='us-west-2'\n",
    "BUCKET='jchang-testbucket2-oregon'\n",
    "FOLDER='FacesBigTest/'\n",
    "\n",
    "s3 = boto3.resource('s3')\n",
    "mybucket = s3.Bucket(BUCKET)\n",
    "response = None\n",
    "match_count = 0\n",
    "total_count = 0\n",
    "matched = {}\n",
    "unmatched = {}\n",
    "responses = {}\n",
    "assert FOLDER, \"FOLDER must be assigned with trailing '/'.\"\n",
    "# call the face detection model\n",
    "model = app.models.get('face-v1.3')\n",
    "URL_PREFIX='https://s3-us-west-2.amazonaws.com/jchang-testbucket2-oregon/'\n",
    "images = []\n",
    "for index, object in enumerate(mybucket.objects.filter(Prefix=FOLDER)):\n",
    "    if object.key.endswith('/'):\n",
    "        continue # skip folders\n",
    "    url='{}{}'.format(URL_PREFIX,object.key)\n",
    "    print(url)\n",
    "    image = Image(url=url)\n",
    "    images.append(image)\n",
    "    if len(images) == 128:\n",
    "        break\n",
    "res_face = model.predict(images)\n",
    "    "
   ]
  },
  {
   "cell_type": "code",
   "execution_count": 5,
   "metadata": {
    "autoscroll": false,
    "collapsed": false,
    "ein.tags": "worksheet-0",
    "slideshow": {
     "slide_type": "-"
    }
   },
   "outputs": [
    {
     "name": "stdout",
     "output_type": "stream",
     "text": [
      "Total: 128 Matches: 70 Ratio: 0.547\n"
     ]
    }
   ],
   "source": [
    "outputs = res_face['outputs']\n",
    "match_count = 0\n",
    "total_count = 0\n",
    "matched = []\n",
    "unmatched = []\n",
    "for _res in outputs:\n",
    "    url = _res['input']['data']['image']['url']\n",
    "    if len(_res['data']) > 0:\n",
    "        matched.append(url)\n",
    "        match_count += 1\n",
    "    else:\n",
    "        unmatched.append(url)\n",
    "    total_count += 1\n",
    "print('Total:',total_count,'Matches:',match_count,'Ratio:','{:.3f}'.format(match_count/total_count))\n"
   ]
  },
  {
   "cell_type": "code",
   "execution_count": 6,
   "metadata": {
    "autoscroll": false,
    "collapsed": false,
    "ein.tags": "worksheet-0",
    "slideshow": {
     "slide_type": "-"
    }
   },
   "outputs": [
    {
     "name": "stdout",
     "output_type": "stream",
     "text": [
      "MATCHES: 70\n",
      "465732-skina-heada0-eye1-eyebrow2-mouth4-none-nose1-hair12-spectacle1.jpg\n",
      "861216-skina-heada0-eye2-eyebrow3-mouth0-facehair4-nose4-hair0!white-spectacle0.jpg\n",
      "1481412-skina-heada0-eye4-eyebrow0-mouth2-none-nose2-hair14-spectacle1.jpg\n",
      "1674308-skina-heada0-eye4-eyebrow5-mouth0-facehair2-nose6-hair2!blonde-spectacle2.jpg\n",
      "2001451-skina-heada0-eye6-eyebrow4-mouth0-facehair4-nose0-hair5!darkbrown-spectacle0.jpg\n",
      "2925280-skina-heada1-eye1-eyebrow6-mouth0-facehair2-nose2-hair0-none.jpg\n",
      "3777539-skina-heada1-eye4-eyebrow0-mouth0-none-nose0-hair2!darkbrown-spectacle3.jpg\n",
      "4014080-skina-heada1-eye4-eyebrow5-mouthb1-facehair4-nose2-hair2!white-none.jpg\n",
      "6160423-skina-heada2-eye4-eyebrow1-mouthb1-facehair2-nose5-hair5!darkbrown-spectacle2.jpg\n",
      "6520596-skina-heada2-eye6-eyebrow1-mouthb0-facehair3-nose3-hair0!blonde-spectacle0.jpg\n",
      "6804613-skina-heada2-eye6-eyebrow8-mouthb0-facehair2-nose2-hair0-spectacle2.jpg\n",
      "7605050-skina-heada3-eye1-eyebrow7-mouthb0-none-nose2-hair1!blonde-none.jpg\n",
      "7819333-skina-heada3-eye2-eyebrow3-mouthb1-facehair2-nose5-hair1-spectacle2.jpg\n",
      "8142445-skina-heada3-eye3-eyebrow2-mouthb1-none-nose6-hair5!white-none.jpg\n",
      "8192387-skina-heada3-eye3-eyebrow3-mouthb4-none-nose0-hair7!blonde-spectacle1.jpg\n",
      "8549384-skina-heada3-eye4-eyebrow3-mouthb1-none-nose3-hair4!blonde-spectacle3.jpg\n",
      "9346748-skina-heada4-eye0-eyebrow2-mouthb0-facehair0-nose3-hair4-spectacle2.jpg\n",
      "9553213-skina-heada4-eye0-eyebrow7-mouthb0-facehair3-nose1-hair4!darkbrown-spectacle2.jpg\n",
      "9628457-skina-heada4-eye1-eyebrow0-mouth4-none-nose5-hair10!blonde-spectacle1.jpg\n",
      "11451887-skina-heada4-eye10-eyebrow0-mouthb3-none-nose3-hair19!blonde-spectacle1.jpg\n",
      "11478305-skina-heada4-eye10-eyebrow2-mouthb4-none-nose5-hair7!blonde-none.jpg\n",
      "10142738-skina-heada4-eye2-eyebrow4-mouth0-facehair2-nose0-hair2!blonde-spectacle2.jpg\n",
      "10687411-skina-heada4-eye3-eyebrow8-mouth4-none-nose3-hair19-spectacle0.jpg\n",
      "10795081-skina-heada4-eye4-eyebrow2-mouth0-facehair2-nose3-hair5!white-spectacle0.jpg\n",
      "11060923-skina-heada4-eye4-eyebrow8-mouthb0-facehair3-nose3-hair6!darkbrown-spectacle2.jpg\n",
      "11602640-skina-heada5-eye0-eyebrow1-mouth1-none-nose4-hair0!darkbrown-none.jpg\n",
      "11620223-skina-heada5-eye0-eyebrow1-mouthb0-facehair3-nose5-hair6-spectacle2.jpg\n",
      "11826440-skina-heada5-eye0-eyebrow6-mouthb1-none-nose2-hair1!darkbrown-none.jpg\n",
      "11994185-skina-heada5-eye1-eyebrow1-mouthb1-facehair4-nose0-hair1!darkbrown-none.jpg\n",
      "12495199-skina-heada5-eye2-eyebrow5-mouth0-facehair2-nose6-hair2!white-spectacle3.jpg\n",
      "13022058-skina-heada5-eye4-eyebrow0-mouth0-facehair0-nose1-hair2!darkbrown-spectacle2.jpg\n",
      "15336238-skinb-headb3-eye9-eyebrow4-mouth2-none-nose0-hair15!white-spectacle2.jpg\n",
      "18037400-skinc-headc0-eye4-eyebrow1-mouthb2-none-noseb4-hair17!darkbrown-none.jpg\n",
      "21327218-skinc-headc1-eye4-eyebrow1-mouth0-facehair1-noseb0-hair6!white-spectacle2.jpg\n",
      "21443273-skinc-headc1-eye4-eyebrow3-mouth1-facehair5-noseb5-hair4!black-spectacle2.jpg\n",
      "21521039-skinc-headc1-eye4-eyebrow4-mouthb2-none-noseb5-hair12!white-spectacle3.jpg\n",
      "22049610-skinc-headc1-eye6-eyebrow6-mouth1-facehair4-noseb2-hair3!blonde-none.jpg\n",
      "24649689-skinc-headc2-eye4-eyebrow0-mouthb2-none-noseb5-hair10-spectacle3.jpg\n",
      "24735941-skinc-headc2-eye4-eyebrow2-mouthb0-facehair2-noseb1-none-spectacle0.jpg\n",
      "24801047-skinc-headc2-eye4-eyebrow3-mouthb2-none-noseb2-hair15!white-spectacle1.jpg\n",
      "25399659-skinc-headc2-eye6-eyebrow6-mouthb1-none-noseb0-hair0!blonde-spectacle3.jpg\n",
      "25583985-skinc-headc2-eye8-eyebrow1-mouthb1-facehair2-noseb5-hair1!darkbrown-none.jpg\n",
      "26204234-skinc-headc3-eye0-eyebrow1-mouthb1-facehair4-noseb4-hair5-spectacle3.jpg\n",
      "26925938-skinc-headc3-eye1-eyebrow7-mouth0-facehair1-noseb1-hair4!blonde-spectacle2.jpg\n",
      "27629831-skinc-headc3-eye3-eyebrow2-mouthb4-none-noseb3-hair16!darkbrown-spectacle0.jpg\n",
      "27963913-skinc-headc3-eye4-eyebrow0-mouthb0-facehair0-noseb3-hair1!white-spectacle2.jpg\n",
      "28056354-skinc-headc3-eye4-eyebrow2-mouth2-none-noseb2-hair11!black-spectacle3.jpg\n",
      "29067625-skinc-headc3-eye8-eyebrow6-mouth0-facehair4-noseb3-hair5!darkbrown-none.jpg\n",
      "29793780-skinc-headc4-eye0-eyebrow6-mouthb3-none-noseb4-hair7!darkbrown-none.jpg\n",
      "29880448-skinc-headc4-eye0-eyebrow8-mouthb0-facehair3-noseb5-hair1!darkbrown-spectacle2.jpg\n",
      "32760413-skinc-headc4-eye10-eyebrow8-mouth2-none-noseb2-hair13!darkbrown-spectacle2.jpg\n",
      "30795313-skinc-headc4-eye2-eyebrow8-mouthb0-facehair5-noseb5-hair5!white-spectacle2.jpg\n",
      "31088188-skinc-headc4-eye3-eyebrow5-mouth4-none-noseb4-hair14!black-spectacle2.jpg\n",
      "31138668-skinc-headc4-eye3-eyebrow6-mouth4-none-noseb3-hair17!black-spectacle2.jpg\n",
      "31214055-skinc-headc4-eye3-eyebrow7-mouthb4-none-noseb1-hair14-none.jpg\n",
      "31271578-skinc-headc4-eye4-eyebrow0-mouth0-facehair1-noseb4-hair6!white-spectacle2.jpg\n",
      "31316938-skinc-headc4-eye4-eyebrow0-mouthb7-none-noseb0-hair7!white-spectacle2.jpg\n",
      "31604424-skinc-headc4-eye4-eyebrow6-mouthb0-facehair4-noseb3-none-spectacle3.jpg\n",
      "32088237-skinc-headc4-eye6-eyebrow7-mouth1-none-noseb2-hair0!blonde-spectacle1.jpg\n",
      "34821718-skinc-headc5-eye4-eyebrow4-mouth2-none-noseb6-hair12!black-spectacle2.jpg\n",
      "35653389-skinc-headc5-eye8-eyebrow4-mouth0-none-noseb2-hair2!blonde-spectacle3.jpg\n",
      "35846112-skinc-headc5-eye9-eyebrow1-mouth2-none-noseb4-hair19-spectacle1.jpg\n",
      "36707718-skind-headd0-eye3-eyebrow5-mouth1-facehair2-noseb0-hair6!black-spectacle2.jpg\n",
      "38432773-skind-headd2-eye1-eyebrow4-mouth0-facehair4-noseb0-hair0!black-spectacle2.jpg\n",
      "39632768-skind-headd3-eye2-eyebrow3-mouthb0-facehair5-noseb5-hair6!white-spectacle2.jpg\n",
      "40505798-skind-headd4-eye1-eyebrow3-mouthb0-facehair5-noseb3-hair6!white-spectacle2.jpg\n",
      "40535553-skind-headd4-eye1-eyebrow5-mouth1-facehair2-noseb0-hair1!white-spectacle2.jpg\n",
      "40963188-skind-headd4-eye4-eyebrow1-mouth1-facehair0-noseb5-hair6!white-spectacle2.jpg\n",
      "41415528-skind-headd5-eye0-eyebrow5-mouthb0-facehair4-noseb1-hair5!black-spectacle2.jpg\n",
      "42290654-skind-headd5-eye6-eyebrow7-mouthb0-facehair4-noseb1-hair3!white-spectacle3.jpg\n"
     ]
    }
   ],
   "source": [
    "'''\n",
    "Print out file names of those matched and unmatched.\n",
    "'''\n",
    "import re\n",
    "from IPython.core.display import display, HTML\n",
    "REGEX=re.compile(r'/(\\d+-([^-]+)-([^-]+)-([^-]+)-([^-]+).*$)')\n",
    "print('MATCHES:', match_count)\n",
    "for _u in sorted(matched, key=lambda _val: REGEX.search(_val).group(2,3,4,5)):\n",
    "    print(REGEX.search(_u).group(1))\n",
    "\n"
   ]
  },
  {
   "cell_type": "code",
   "execution_count": 58,
   "metadata": {
    "autoscroll": false,
    "collapsed": false,
    "ein.tags": "worksheet-0",
    "slideshow": {
     "slide_type": "-"
    }
   },
   "outputs": [
    {
     "name": "stdout",
     "output_type": "stream",
     "text": [
      "MATCHES: 70\n"
     ]
    },
    {
     "data": {
      "text/html": [
       "<figure style=\"display:inline-block\"><img src=\"https://s3-us-west-2.amazonaws.com/jchang-testbucket2-oregon/FacesBigTest/465732-skina-heada0-eye1-eyebrow2-mouth4-none-nose1-hair12-spectacle1.jpg\" width=100 height=100 />\n",
       "</figure>\n",
       "<figure style=\"display:inline-block\"><img src=\"https://s3-us-west-2.amazonaws.com/jchang-testbucket2-oregon/FacesBigTest/861216-skina-heada0-eye2-eyebrow3-mouth0-facehair4-nose4-hair0!white-spectacle0.jpg\" width=100 height=100 />\n",
       "</figure>\n",
       "<figure style=\"display:inline-block\"><img src=\"https://s3-us-west-2.amazonaws.com/jchang-testbucket2-oregon/FacesBigTest/1481412-skina-heada0-eye4-eyebrow0-mouth2-none-nose2-hair14-spectacle1.jpg\" width=100 height=100 />\n",
       "</figure>\n",
       "<figure style=\"display:inline-block\"><img src=\"https://s3-us-west-2.amazonaws.com/jchang-testbucket2-oregon/FacesBigTest/1674308-skina-heada0-eye4-eyebrow5-mouth0-facehair2-nose6-hair2!blonde-spectacle2.jpg\" width=100 height=100 />\n",
       "</figure>\n",
       "<figure style=\"display:inline-block\"><img src=\"https://s3-us-west-2.amazonaws.com/jchang-testbucket2-oregon/FacesBigTest/2001451-skina-heada0-eye6-eyebrow4-mouth0-facehair4-nose0-hair5!darkbrown-spectacle0.jpg\" width=100 height=100 />\n",
       "</figure>\n",
       "<figure style=\"display:inline-block\"><img src=\"https://s3-us-west-2.amazonaws.com/jchang-testbucket2-oregon/FacesBigTest/2925280-skina-heada1-eye1-eyebrow6-mouth0-facehair2-nose2-hair0-none.jpg\" width=100 height=100 />\n",
       "</figure>\n",
       "<figure style=\"display:inline-block\"><img src=\"https://s3-us-west-2.amazonaws.com/jchang-testbucket2-oregon/FacesBigTest/3777539-skina-heada1-eye4-eyebrow0-mouth0-none-nose0-hair2!darkbrown-spectacle3.jpg\" width=100 height=100 />\n",
       "</figure>\n",
       "<figure style=\"display:inline-block\"><img src=\"https://s3-us-west-2.amazonaws.com/jchang-testbucket2-oregon/FacesBigTest/4014080-skina-heada1-eye4-eyebrow5-mouthb1-facehair4-nose2-hair2!white-none.jpg\" width=100 height=100 />\n",
       "</figure>\n",
       "<figure style=\"display:inline-block\"><img src=\"https://s3-us-west-2.amazonaws.com/jchang-testbucket2-oregon/FacesBigTest/6160423-skina-heada2-eye4-eyebrow1-mouthb1-facehair2-nose5-hair5!darkbrown-spectacle2.jpg\" width=100 height=100 />\n",
       "</figure>\n",
       "<figure style=\"display:inline-block\"><img src=\"https://s3-us-west-2.amazonaws.com/jchang-testbucket2-oregon/FacesBigTest/6520596-skina-heada2-eye6-eyebrow1-mouthb0-facehair3-nose3-hair0!blonde-spectacle0.jpg\" width=100 height=100 />\n",
       "</figure>\n",
       "<figure style=\"display:inline-block\"><img src=\"https://s3-us-west-2.amazonaws.com/jchang-testbucket2-oregon/FacesBigTest/6804613-skina-heada2-eye6-eyebrow8-mouthb0-facehair2-nose2-hair0-spectacle2.jpg\" width=100 height=100 />\n",
       "</figure>\n",
       "<figure style=\"display:inline-block\"><img src=\"https://s3-us-west-2.amazonaws.com/jchang-testbucket2-oregon/FacesBigTest/7605050-skina-heada3-eye1-eyebrow7-mouthb0-none-nose2-hair1!blonde-none.jpg\" width=100 height=100 />\n",
       "</figure>\n",
       "<figure style=\"display:inline-block\"><img src=\"https://s3-us-west-2.amazonaws.com/jchang-testbucket2-oregon/FacesBigTest/7819333-skina-heada3-eye2-eyebrow3-mouthb1-facehair2-nose5-hair1-spectacle2.jpg\" width=100 height=100 />\n",
       "</figure>\n",
       "<figure style=\"display:inline-block\"><img src=\"https://s3-us-west-2.amazonaws.com/jchang-testbucket2-oregon/FacesBigTest/8142445-skina-heada3-eye3-eyebrow2-mouthb1-none-nose6-hair5!white-none.jpg\" width=100 height=100 />\n",
       "</figure>\n",
       "<figure style=\"display:inline-block\"><img src=\"https://s3-us-west-2.amazonaws.com/jchang-testbucket2-oregon/FacesBigTest/8192387-skina-heada3-eye3-eyebrow3-mouthb4-none-nose0-hair7!blonde-spectacle1.jpg\" width=100 height=100 />\n",
       "</figure>\n",
       "<figure style=\"display:inline-block\"><img src=\"https://s3-us-west-2.amazonaws.com/jchang-testbucket2-oregon/FacesBigTest/8549384-skina-heada3-eye4-eyebrow3-mouthb1-none-nose3-hair4!blonde-spectacle3.jpg\" width=100 height=100 />\n",
       "</figure>\n",
       "<figure style=\"display:inline-block\"><img src=\"https://s3-us-west-2.amazonaws.com/jchang-testbucket2-oregon/FacesBigTest/9346748-skina-heada4-eye0-eyebrow2-mouthb0-facehair0-nose3-hair4-spectacle2.jpg\" width=100 height=100 />\n",
       "</figure>\n",
       "<figure style=\"display:inline-block\"><img src=\"https://s3-us-west-2.amazonaws.com/jchang-testbucket2-oregon/FacesBigTest/9553213-skina-heada4-eye0-eyebrow7-mouthb0-facehair3-nose1-hair4!darkbrown-spectacle2.jpg\" width=100 height=100 />\n",
       "</figure>\n",
       "<figure style=\"display:inline-block\"><img src=\"https://s3-us-west-2.amazonaws.com/jchang-testbucket2-oregon/FacesBigTest/9628457-skina-heada4-eye1-eyebrow0-mouth4-none-nose5-hair10!blonde-spectacle1.jpg\" width=100 height=100 />\n",
       "</figure>\n",
       "<figure style=\"display:inline-block\"><img src=\"https://s3-us-west-2.amazonaws.com/jchang-testbucket2-oregon/FacesBigTest/11451887-skina-heada4-eye10-eyebrow0-mouthb3-none-nose3-hair19!blonde-spectacle1.jpg\" width=100 height=100 />\n",
       "</figure>\n",
       "<figure style=\"display:inline-block\"><img src=\"https://s3-us-west-2.amazonaws.com/jchang-testbucket2-oregon/FacesBigTest/11478305-skina-heada4-eye10-eyebrow2-mouthb4-none-nose5-hair7!blonde-none.jpg\" width=100 height=100 />\n",
       "</figure>\n",
       "<figure style=\"display:inline-block\"><img src=\"https://s3-us-west-2.amazonaws.com/jchang-testbucket2-oregon/FacesBigTest/10142738-skina-heada4-eye2-eyebrow4-mouth0-facehair2-nose0-hair2!blonde-spectacle2.jpg\" width=100 height=100 />\n",
       "</figure>\n",
       "<figure style=\"display:inline-block\"><img src=\"https://s3-us-west-2.amazonaws.com/jchang-testbucket2-oregon/FacesBigTest/10687411-skina-heada4-eye3-eyebrow8-mouth4-none-nose3-hair19-spectacle0.jpg\" width=100 height=100 />\n",
       "</figure>\n",
       "<figure style=\"display:inline-block\"><img src=\"https://s3-us-west-2.amazonaws.com/jchang-testbucket2-oregon/FacesBigTest/10795081-skina-heada4-eye4-eyebrow2-mouth0-facehair2-nose3-hair5!white-spectacle0.jpg\" width=100 height=100 />\n",
       "</figure>\n",
       "<figure style=\"display:inline-block\"><img src=\"https://s3-us-west-2.amazonaws.com/jchang-testbucket2-oregon/FacesBigTest/11060923-skina-heada4-eye4-eyebrow8-mouthb0-facehair3-nose3-hair6!darkbrown-spectacle2.jpg\" width=100 height=100 />\n",
       "</figure>\n",
       "<figure style=\"display:inline-block\"><img src=\"https://s3-us-west-2.amazonaws.com/jchang-testbucket2-oregon/FacesBigTest/11602640-skina-heada5-eye0-eyebrow1-mouth1-none-nose4-hair0!darkbrown-none.jpg\" width=100 height=100 />\n",
       "</figure>\n",
       "<figure style=\"display:inline-block\"><img src=\"https://s3-us-west-2.amazonaws.com/jchang-testbucket2-oregon/FacesBigTest/11620223-skina-heada5-eye0-eyebrow1-mouthb0-facehair3-nose5-hair6-spectacle2.jpg\" width=100 height=100 />\n",
       "</figure>\n",
       "<figure style=\"display:inline-block\"><img src=\"https://s3-us-west-2.amazonaws.com/jchang-testbucket2-oregon/FacesBigTest/11826440-skina-heada5-eye0-eyebrow6-mouthb1-none-nose2-hair1!darkbrown-none.jpg\" width=100 height=100 />\n",
       "</figure>\n",
       "<figure style=\"display:inline-block\"><img src=\"https://s3-us-west-2.amazonaws.com/jchang-testbucket2-oregon/FacesBigTest/11994185-skina-heada5-eye1-eyebrow1-mouthb1-facehair4-nose0-hair1!darkbrown-none.jpg\" width=100 height=100 />\n",
       "</figure>\n",
       "<figure style=\"display:inline-block\"><img src=\"https://s3-us-west-2.amazonaws.com/jchang-testbucket2-oregon/FacesBigTest/12495199-skina-heada5-eye2-eyebrow5-mouth0-facehair2-nose6-hair2!white-spectacle3.jpg\" width=100 height=100 />\n",
       "</figure>\n",
       "<figure style=\"display:inline-block\"><img src=\"https://s3-us-west-2.amazonaws.com/jchang-testbucket2-oregon/FacesBigTest/13022058-skina-heada5-eye4-eyebrow0-mouth0-facehair0-nose1-hair2!darkbrown-spectacle2.jpg\" width=100 height=100 />\n",
       "</figure>\n",
       "<figure style=\"display:inline-block\"><img src=\"https://s3-us-west-2.amazonaws.com/jchang-testbucket2-oregon/FacesBigTest/15336238-skinb-headb3-eye9-eyebrow4-mouth2-none-nose0-hair15!white-spectacle2.jpg\" width=100 height=100 />\n",
       "</figure>\n",
       "<figure style=\"display:inline-block\"><img src=\"https://s3-us-west-2.amazonaws.com/jchang-testbucket2-oregon/FacesBigTest/18037400-skinc-headc0-eye4-eyebrow1-mouthb2-none-noseb4-hair17!darkbrown-none.jpg\" width=100 height=100 />\n",
       "</figure>\n",
       "<figure style=\"display:inline-block\"><img src=\"https://s3-us-west-2.amazonaws.com/jchang-testbucket2-oregon/FacesBigTest/21327218-skinc-headc1-eye4-eyebrow1-mouth0-facehair1-noseb0-hair6!white-spectacle2.jpg\" width=100 height=100 />\n",
       "</figure>\n",
       "<figure style=\"display:inline-block\"><img src=\"https://s3-us-west-2.amazonaws.com/jchang-testbucket2-oregon/FacesBigTest/21443273-skinc-headc1-eye4-eyebrow3-mouth1-facehair5-noseb5-hair4!black-spectacle2.jpg\" width=100 height=100 />\n",
       "</figure>\n",
       "<figure style=\"display:inline-block\"><img src=\"https://s3-us-west-2.amazonaws.com/jchang-testbucket2-oregon/FacesBigTest/21521039-skinc-headc1-eye4-eyebrow4-mouthb2-none-noseb5-hair12!white-spectacle3.jpg\" width=100 height=100 />\n",
       "</figure>\n",
       "<figure style=\"display:inline-block\"><img src=\"https://s3-us-west-2.amazonaws.com/jchang-testbucket2-oregon/FacesBigTest/22049610-skinc-headc1-eye6-eyebrow6-mouth1-facehair4-noseb2-hair3!blonde-none.jpg\" width=100 height=100 />\n",
       "</figure>\n",
       "<figure style=\"display:inline-block\"><img src=\"https://s3-us-west-2.amazonaws.com/jchang-testbucket2-oregon/FacesBigTest/24649689-skinc-headc2-eye4-eyebrow0-mouthb2-none-noseb5-hair10-spectacle3.jpg\" width=100 height=100 />\n",
       "</figure>\n",
       "<figure style=\"display:inline-block\"><img src=\"https://s3-us-west-2.amazonaws.com/jchang-testbucket2-oregon/FacesBigTest/24735941-skinc-headc2-eye4-eyebrow2-mouthb0-facehair2-noseb1-none-spectacle0.jpg\" width=100 height=100 />\n",
       "</figure>\n",
       "<figure style=\"display:inline-block\"><img src=\"https://s3-us-west-2.amazonaws.com/jchang-testbucket2-oregon/FacesBigTest/24801047-skinc-headc2-eye4-eyebrow3-mouthb2-none-noseb2-hair15!white-spectacle1.jpg\" width=100 height=100 />\n",
       "</figure>\n",
       "<figure style=\"display:inline-block\"><img src=\"https://s3-us-west-2.amazonaws.com/jchang-testbucket2-oregon/FacesBigTest/25399659-skinc-headc2-eye6-eyebrow6-mouthb1-none-noseb0-hair0!blonde-spectacle3.jpg\" width=100 height=100 />\n",
       "</figure>\n",
       "<figure style=\"display:inline-block\"><img src=\"https://s3-us-west-2.amazonaws.com/jchang-testbucket2-oregon/FacesBigTest/25583985-skinc-headc2-eye8-eyebrow1-mouthb1-facehair2-noseb5-hair1!darkbrown-none.jpg\" width=100 height=100 />\n",
       "</figure>\n",
       "<figure style=\"display:inline-block\"><img src=\"https://s3-us-west-2.amazonaws.com/jchang-testbucket2-oregon/FacesBigTest/26204234-skinc-headc3-eye0-eyebrow1-mouthb1-facehair4-noseb4-hair5-spectacle3.jpg\" width=100 height=100 />\n",
       "</figure>\n",
       "<figure style=\"display:inline-block\"><img src=\"https://s3-us-west-2.amazonaws.com/jchang-testbucket2-oregon/FacesBigTest/26925938-skinc-headc3-eye1-eyebrow7-mouth0-facehair1-noseb1-hair4!blonde-spectacle2.jpg\" width=100 height=100 />\n",
       "</figure>\n",
       "<figure style=\"display:inline-block\"><img src=\"https://s3-us-west-2.amazonaws.com/jchang-testbucket2-oregon/FacesBigTest/27629831-skinc-headc3-eye3-eyebrow2-mouthb4-none-noseb3-hair16!darkbrown-spectacle0.jpg\" width=100 height=100 />\n",
       "</figure>\n",
       "<figure style=\"display:inline-block\"><img src=\"https://s3-us-west-2.amazonaws.com/jchang-testbucket2-oregon/FacesBigTest/27963913-skinc-headc3-eye4-eyebrow0-mouthb0-facehair0-noseb3-hair1!white-spectacle2.jpg\" width=100 height=100 />\n",
       "</figure>\n",
       "<figure style=\"display:inline-block\"><img src=\"https://s3-us-west-2.amazonaws.com/jchang-testbucket2-oregon/FacesBigTest/28056354-skinc-headc3-eye4-eyebrow2-mouth2-none-noseb2-hair11!black-spectacle3.jpg\" width=100 height=100 />\n",
       "</figure>\n",
       "<figure style=\"display:inline-block\"><img src=\"https://s3-us-west-2.amazonaws.com/jchang-testbucket2-oregon/FacesBigTest/29067625-skinc-headc3-eye8-eyebrow6-mouth0-facehair4-noseb3-hair5!darkbrown-none.jpg\" width=100 height=100 />\n",
       "</figure>\n",
       "<figure style=\"display:inline-block\"><img src=\"https://s3-us-west-2.amazonaws.com/jchang-testbucket2-oregon/FacesBigTest/29793780-skinc-headc4-eye0-eyebrow6-mouthb3-none-noseb4-hair7!darkbrown-none.jpg\" width=100 height=100 />\n",
       "</figure>\n",
       "<figure style=\"display:inline-block\"><img src=\"https://s3-us-west-2.amazonaws.com/jchang-testbucket2-oregon/FacesBigTest/29880448-skinc-headc4-eye0-eyebrow8-mouthb0-facehair3-noseb5-hair1!darkbrown-spectacle2.jpg\" width=100 height=100 />\n",
       "</figure>\n",
       "<figure style=\"display:inline-block\"><img src=\"https://s3-us-west-2.amazonaws.com/jchang-testbucket2-oregon/FacesBigTest/32760413-skinc-headc4-eye10-eyebrow8-mouth2-none-noseb2-hair13!darkbrown-spectacle2.jpg\" width=100 height=100 />\n",
       "</figure>\n",
       "<figure style=\"display:inline-block\"><img src=\"https://s3-us-west-2.amazonaws.com/jchang-testbucket2-oregon/FacesBigTest/30795313-skinc-headc4-eye2-eyebrow8-mouthb0-facehair5-noseb5-hair5!white-spectacle2.jpg\" width=100 height=100 />\n",
       "</figure>\n",
       "<figure style=\"display:inline-block\"><img src=\"https://s3-us-west-2.amazonaws.com/jchang-testbucket2-oregon/FacesBigTest/31088188-skinc-headc4-eye3-eyebrow5-mouth4-none-noseb4-hair14!black-spectacle2.jpg\" width=100 height=100 />\n",
       "</figure>\n",
       "<figure style=\"display:inline-block\"><img src=\"https://s3-us-west-2.amazonaws.com/jchang-testbucket2-oregon/FacesBigTest/31138668-skinc-headc4-eye3-eyebrow6-mouth4-none-noseb3-hair17!black-spectacle2.jpg\" width=100 height=100 />\n",
       "</figure>\n",
       "<figure style=\"display:inline-block\"><img src=\"https://s3-us-west-2.amazonaws.com/jchang-testbucket2-oregon/FacesBigTest/31214055-skinc-headc4-eye3-eyebrow7-mouthb4-none-noseb1-hair14-none.jpg\" width=100 height=100 />\n",
       "</figure>\n",
       "<figure style=\"display:inline-block\"><img src=\"https://s3-us-west-2.amazonaws.com/jchang-testbucket2-oregon/FacesBigTest/31271578-skinc-headc4-eye4-eyebrow0-mouth0-facehair1-noseb4-hair6!white-spectacle2.jpg\" width=100 height=100 />\n",
       "</figure>\n",
       "<figure style=\"display:inline-block\"><img src=\"https://s3-us-west-2.amazonaws.com/jchang-testbucket2-oregon/FacesBigTest/31316938-skinc-headc4-eye4-eyebrow0-mouthb7-none-noseb0-hair7!white-spectacle2.jpg\" width=100 height=100 />\n",
       "</figure>\n",
       "<figure style=\"display:inline-block\"><img src=\"https://s3-us-west-2.amazonaws.com/jchang-testbucket2-oregon/FacesBigTest/31604424-skinc-headc4-eye4-eyebrow6-mouthb0-facehair4-noseb3-none-spectacle3.jpg\" width=100 height=100 />\n",
       "</figure>\n",
       "<figure style=\"display:inline-block\"><img src=\"https://s3-us-west-2.amazonaws.com/jchang-testbucket2-oregon/FacesBigTest/32088237-skinc-headc4-eye6-eyebrow7-mouth1-none-noseb2-hair0!blonde-spectacle1.jpg\" width=100 height=100 />\n",
       "</figure>\n",
       "<figure style=\"display:inline-block\"><img src=\"https://s3-us-west-2.amazonaws.com/jchang-testbucket2-oregon/FacesBigTest/34821718-skinc-headc5-eye4-eyebrow4-mouth2-none-noseb6-hair12!black-spectacle2.jpg\" width=100 height=100 />\n",
       "</figure>\n",
       "<figure style=\"display:inline-block\"><img src=\"https://s3-us-west-2.amazonaws.com/jchang-testbucket2-oregon/FacesBigTest/35653389-skinc-headc5-eye8-eyebrow4-mouth0-none-noseb2-hair2!blonde-spectacle3.jpg\" width=100 height=100 />\n",
       "</figure>\n",
       "<figure style=\"display:inline-block\"><img src=\"https://s3-us-west-2.amazonaws.com/jchang-testbucket2-oregon/FacesBigTest/35846112-skinc-headc5-eye9-eyebrow1-mouth2-none-noseb4-hair19-spectacle1.jpg\" width=100 height=100 />\n",
       "</figure>\n",
       "<figure style=\"display:inline-block\"><img src=\"https://s3-us-west-2.amazonaws.com/jchang-testbucket2-oregon/FacesBigTest/36707718-skind-headd0-eye3-eyebrow5-mouth1-facehair2-noseb0-hair6!black-spectacle2.jpg\" width=100 height=100 />\n",
       "</figure>\n",
       "<figure style=\"display:inline-block\"><img src=\"https://s3-us-west-2.amazonaws.com/jchang-testbucket2-oregon/FacesBigTest/38432773-skind-headd2-eye1-eyebrow4-mouth0-facehair4-noseb0-hair0!black-spectacle2.jpg\" width=100 height=100 />\n",
       "</figure>\n",
       "<figure style=\"display:inline-block\"><img src=\"https://s3-us-west-2.amazonaws.com/jchang-testbucket2-oregon/FacesBigTest/39632768-skind-headd3-eye2-eyebrow3-mouthb0-facehair5-noseb5-hair6!white-spectacle2.jpg\" width=100 height=100 />\n",
       "</figure>\n",
       "<figure style=\"display:inline-block\"><img src=\"https://s3-us-west-2.amazonaws.com/jchang-testbucket2-oregon/FacesBigTest/40505798-skind-headd4-eye1-eyebrow3-mouthb0-facehair5-noseb3-hair6!white-spectacle2.jpg\" width=100 height=100 />\n",
       "</figure>\n",
       "<figure style=\"display:inline-block\"><img src=\"https://s3-us-west-2.amazonaws.com/jchang-testbucket2-oregon/FacesBigTest/40535553-skind-headd4-eye1-eyebrow5-mouth1-facehair2-noseb0-hair1!white-spectacle2.jpg\" width=100 height=100 />\n",
       "</figure>\n",
       "<figure style=\"display:inline-block\"><img src=\"https://s3-us-west-2.amazonaws.com/jchang-testbucket2-oregon/FacesBigTest/40963188-skind-headd4-eye4-eyebrow1-mouth1-facehair0-noseb5-hair6!white-spectacle2.jpg\" width=100 height=100 />\n",
       "</figure>\n",
       "<figure style=\"display:inline-block\"><img src=\"https://s3-us-west-2.amazonaws.com/jchang-testbucket2-oregon/FacesBigTest/41415528-skind-headd5-eye0-eyebrow5-mouthb0-facehair4-noseb1-hair5!black-spectacle2.jpg\" width=100 height=100 />\n",
       "</figure>\n",
       "<figure style=\"display:inline-block\"><img src=\"https://s3-us-west-2.amazonaws.com/jchang-testbucket2-oregon/FacesBigTest/42290654-skind-headd5-eye6-eyebrow7-mouthb0-facehair4-noseb1-hair3!white-spectacle3.jpg\" width=100 height=100 />\n",
       "</figure>\n"
      ],
      "text/plain": [
       "<IPython.core.display.HTML object>"
      ]
     },
     "metadata": {},
     "output_type": "display_data"
    },
    {
     "name": "stdout",
     "output_type": "stream",
     "text": [
      "NO FACE MATCHES: 58\n"
     ]
    },
    {
     "data": {
      "text/html": [
       "<figure style=\"display:inline-block\"><img src=\"https://s3-us-west-2.amazonaws.com/jchang-testbucket2-oregon/FacesBigTest/406475-skina-heada0-eye1-eyebrow0-mouthb7-none-nose2-hair16!white-none.jpg\" width=100 height=100 /></figure>\n",
       "<figure style=\"display:inline-block\"><img src=\"https://s3-us-west-2.amazonaws.com/jchang-testbucket2-oregon/FacesBigTest/480936-skina-heada0-eye1-eyebrow2-mouthb1-facehair4-nose1-hair4!white-spectacle0.jpg\" width=100 height=100 /></figure>\n",
       "<figure style=\"display:inline-block\"><img src=\"https://s3-us-west-2.amazonaws.com/jchang-testbucket2-oregon/FacesBigTest/1149643-skina-heada0-eye3-eyebrow1-mouth1-facehair0-nose5-hair3!darkbrown-spectacle2.jpg\" width=100 height=100 /></figure>\n",
       "<figure style=\"display:inline-block\"><img src=\"https://s3-us-west-2.amazonaws.com/jchang-testbucket2-oregon/FacesBigTest/1699986-skina-heada0-eye4-eyebrow5-mouthb1-facehair1-nose0-hair6!white-spectacle0.jpg\" width=100 height=100 /></figure>\n",
       "<figure style=\"display:inline-block\"><img src=\"https://s3-us-west-2.amazonaws.com/jchang-testbucket2-oregon/FacesBigTest/2685064-skina-heada1-eye1-eyebrow0-mouth1-none-nose3-hair0!white-spectacle3.jpg\" width=100 height=100 /></figure>\n",
       "<figure style=\"display:inline-block\"><img src=\"https://s3-us-west-2.amazonaws.com/jchang-testbucket2-oregon/FacesBigTest/3647197-skina-heada1-eye3-eyebrow5-mouthb1-facehair4-nose0-hair6-spectacle1.jpg\" width=100 height=100 /></figure>\n",
       "<figure style=\"display:inline-block\"><img src=\"https://s3-us-west-2.amazonaws.com/jchang-testbucket2-oregon/FacesBigTest/4724920-skina-heada2-eye0-eyebrow2-mouthb0-facehair0-nose2-hair4-none.jpg\" width=100 height=100 /></figure>\n",
       "<figure style=\"display:inline-block\"><img src=\"https://s3-us-west-2.amazonaws.com/jchang-testbucket2-oregon/FacesBigTest/4905884-skina-heada2-eye0-eyebrow6-mouthb7-none-nose2-hair14-spectacle3.jpg\" width=100 height=100 /></figure>\n",
       "<figure style=\"display:inline-block\"><img src=\"https://s3-us-west-2.amazonaws.com/jchang-testbucket2-oregon/FacesBigTest/5519707-skina-heada2-eye2-eyebrow4-mouth0-facehair0-nose5-hair0-spectacle1.jpg\" width=100 height=100 /></figure>\n",
       "<figure style=\"display:inline-block\"><img src=\"https://s3-us-west-2.amazonaws.com/jchang-testbucket2-oregon/FacesBigTest/5708877-skina-heada2-eye2-eyebrow8-mouthb1-none-nose3-hair2-spectacle1.jpg\" width=100 height=100 /></figure>\n",
       "<figure style=\"display:inline-block\"><img src=\"https://s3-us-west-2.amazonaws.com/jchang-testbucket2-oregon/FacesBigTest/6152962-skina-heada2-eye4-eyebrow1-mouthb0-facehair2-nose3-hair2!blonde-spectacle1.jpg\" width=100 height=100 /></figure>\n",
       "<figure style=\"display:inline-block\"><img src=\"https://s3-us-west-2.amazonaws.com/jchang-testbucket2-oregon/FacesBigTest/6762224-skina-heada2-eye6-eyebrow7-mouthb0-facehair0-nose4-hair4!darkbrown-spectacle3.jpg\" width=100 height=100 /></figure>\n",
       "<figure style=\"display:inline-block\"><img src=\"https://s3-us-west-2.amazonaws.com/jchang-testbucket2-oregon/FacesBigTest/8663353-skina-heada3-eye4-eyebrow6-mouth7-none-nose4-hair10-spectacle2.jpg\" width=100 height=100 /></figure>\n",
       "<figure style=\"display:inline-block\"><img src=\"https://s3-us-west-2.amazonaws.com/jchang-testbucket2-oregon/FacesBigTest/9454934-skina-heada4-eye0-eyebrow5-mouth1-none-nose5-hair1!white-spectacle3.jpg\" width=100 height=100 /></figure>\n",
       "<figure style=\"display:inline-block\"><img src=\"https://s3-us-west-2.amazonaws.com/jchang-testbucket2-oregon/FacesBigTest/10413307-skina-heada4-eye3-eyebrow1-mouthb1-facehair0-nose5-hair0!blonde-spectacle1.jpg\" width=100 height=100 /></figure>\n",
       "<figure style=\"display:inline-block\"><img src=\"https://s3-us-west-2.amazonaws.com/jchang-testbucket2-oregon/FacesBigTest/11116071-skina-heada4-eye6-eyebrow0-mouthb7-none-nose0-hair19!darkbrown-spectacle0.jpg\" width=100 height=100 /></figure>\n",
       "<figure style=\"display:inline-block\"><img src=\"https://s3-us-west-2.amazonaws.com/jchang-testbucket2-oregon/FacesBigTest/11654553-skina-heada5-eye0-eyebrow2-mouth7-none-nose0-hair10-spectacle2.jpg\" width=100 height=100 /></figure>\n",
       "<figure style=\"display:inline-block\"><img src=\"https://s3-us-west-2.amazonaws.com/jchang-testbucket2-oregon/FacesBigTest/11785866-skina-heada5-eye0-eyebrow5-mouthb1-none-nose3-hair2!darkbrown-spectacle0.jpg\" width=100 height=100 /></figure>\n",
       "<figure style=\"display:inline-block\"><img src=\"https://s3-us-west-2.amazonaws.com/jchang-testbucket2-oregon/FacesBigTest/12147367-skina-heada5-eye1-eyebrow5-mouthb0-facehair1-nose2-hair5!darkbrown-spectacle1.jpg\" width=100 height=100 /></figure>\n",
       "<figure style=\"display:inline-block\"><img src=\"https://s3-us-west-2.amazonaws.com/jchang-testbucket2-oregon/FacesBigTest/12339584-skina-heada5-eye2-eyebrow1-mouth1-facehair3-nose1-hair0!blonde-spectacle3.jpg\" width=100 height=100 /></figure>\n",
       "<figure style=\"display:inline-block\"><img src=\"https://s3-us-west-2.amazonaws.com/jchang-testbucket2-oregon/FacesBigTest/15741816-skinb-headb4-eye9-eyebrow8-mouthb7-none-nose1-hair11!white-spectacle0.jpg\" width=100 height=100 /></figure>\n",
       "<figure style=\"display:inline-block\"><img src=\"https://s3-us-west-2.amazonaws.com/jchang-testbucket2-oregon/FacesBigTest/19378475-skinc-headc0-eye10-eyebrow4-mouth7-none-noseb1-hair10!darkbrown-none.jpg\" width=100 height=100 /></figure>\n",
       "<figure style=\"display:inline-block\"><img src=\"https://s3-us-west-2.amazonaws.com/jchang-testbucket2-oregon/FacesBigTest/17426257-skinc-headc0-eye2-eyebrow7-mouthb1-facehair4-noseb4-hair6-spectacle1.jpg\" width=100 height=100 /></figure>\n",
       "<figure style=\"display:inline-block\"><img src=\"https://s3-us-west-2.amazonaws.com/jchang-testbucket2-oregon/FacesBigTest/17599600-skinc-headc0-eye3-eyebrow2-mouth1-facehair1-noseb3-hair3-none.jpg\" width=100 height=100 /></figure>\n",
       "<figure style=\"display:inline-block\"><img src=\"https://s3-us-west-2.amazonaws.com/jchang-testbucket2-oregon/FacesBigTest/17966171-skinc-headc0-eye4-eyebrow0-mouth7-none-noseb1-hair11!black-spectacle0.jpg\" width=100 height=100 /></figure>\n",
       "<figure style=\"display:inline-block\"><img src=\"https://s3-us-west-2.amazonaws.com/jchang-testbucket2-oregon/FacesBigTest/18362417-skinc-headc0-eye4-eyebrow8-mouth1-facehair3-noseb3-hair6!white-spectacle1.jpg\" width=100 height=100 /></figure>\n",
       "<figure style=\"display:inline-block\"><img src=\"https://s3-us-west-2.amazonaws.com/jchang-testbucket2-oregon/FacesBigTest/18765360-skinc-headc0-eye6-eyebrow7-mouth1-facehair1-noseb4-hair0!darkbrown-none.jpg\" width=100 height=100 /></figure>\n",
       "<figure style=\"display:inline-block\"><img src=\"https://s3-us-west-2.amazonaws.com/jchang-testbucket2-oregon/FacesBigTest/19151902-skinc-headc0-eye8-eyebrow8-mouth1-facehair3-noseb6-hair3-spectacle1.jpg\" width=100 height=100 /></figure>\n",
       "<figure style=\"display:inline-block\"><img src=\"https://s3-us-west-2.amazonaws.com/jchang-testbucket2-oregon/FacesBigTest/20425019-skinc-headc1-eye2-eyebrow1-mouth1-facehair2-noseb0-hair5!black-spectacle3.jpg\" width=100 height=100 /></figure>\n",
       "<figure style=\"display:inline-block\"><img src=\"https://s3-us-west-2.amazonaws.com/jchang-testbucket2-oregon/FacesBigTest/22356455-skinc-headc1-eye8-eyebrow4-mouthb1-facehair1-noseb1-hair3!darkbrown-none.jpg\" width=100 height=100 /></figure>\n",
       "<figure style=\"display:inline-block\"><img src=\"https://s3-us-west-2.amazonaws.com/jchang-testbucket2-oregon/FacesBigTest/22870127-skinc-headc2-eye0-eyebrow1-mouthb1-facehair2-noseb3-hair6!blonde-spectacle1.jpg\" width=100 height=100 /></figure>\n",
       "<figure style=\"display:inline-block\"><img src=\"https://s3-us-west-2.amazonaws.com/jchang-testbucket2-oregon/FacesBigTest/23802822-skinc-headc2-eye2-eyebrow2-mouth0-facehair5-noseb4-hair5!blonde-spectacle1.jpg\" width=100 height=100 /></figure>\n",
       "<figure style=\"display:inline-block\"><img src=\"https://s3-us-west-2.amazonaws.com/jchang-testbucket2-oregon/FacesBigTest/23980716-skinc-headc2-eye2-eyebrow5-mouthb1-none-noseb0-hair4!blonde-spectacle0.jpg\" width=100 height=100 /></figure>\n",
       "<figure style=\"display:inline-block\"><img src=\"https://s3-us-west-2.amazonaws.com/jchang-testbucket2-oregon/FacesBigTest/24149281-skinc-headc2-eye3-eyebrow0-mouth0-none-noseb0-hair4!darkbrown-spectacle0.jpg\" width=100 height=100 /></figure>\n",
       "<figure style=\"display:inline-block\"><img src=\"https://s3-us-west-2.amazonaws.com/jchang-testbucket2-oregon/FacesBigTest/24874580-skinc-headc2-eye4-eyebrow5-mouth1-facehair4-noseb4-hair2!black-none.jpg\" width=100 height=100 /></figure>\n",
       "<figure style=\"display:inline-block\"><img src=\"https://s3-us-west-2.amazonaws.com/jchang-testbucket2-oregon/FacesBigTest/25162098-skinc-headc2-eye6-eyebrow1-mouthb7-none-noseb4-hair14!blonde-spectacle2.jpg\" width=100 height=100 /></figure>\n",
       "<figure style=\"display:inline-block\"><img src=\"https://s3-us-west-2.amazonaws.com/jchang-testbucket2-oregon/FacesBigTest/26554634-skinc-headc3-eye0-eyebrow8-mouthb1-facehair1-noseb1-hair3!blonde-spectacle3.jpg\" width=100 height=100 /></figure>\n",
       "<figure style=\"display:inline-block\"><img src=\"https://s3-us-west-2.amazonaws.com/jchang-testbucket2-oregon/FacesBigTest/28375402-skinc-headc3-eye4-eyebrow8-mouthb0-facehair5-noseb1-hair6!black-spectacle1.jpg\" width=100 height=100 /></figure>\n",
       "<figure style=\"display:inline-block\"><img src=\"https://s3-us-west-2.amazonaws.com/jchang-testbucket2-oregon/FacesBigTest/31048645-skinc-headc4-eye3-eyebrow4-mouthb0-facehair5-noseb5-hair3!black-none.jpg\" width=100 height=100 /></figure>\n",
       "<figure style=\"display:inline-block\"><img src=\"https://s3-us-west-2.amazonaws.com/jchang-testbucket2-oregon/FacesBigTest/31600339-skinc-headc4-eye4-eyebrow6-mouthb0-facehair1-noseb1-hair2-spectacle3.jpg\" width=100 height=100 /></figure>\n",
       "<figure style=\"display:inline-block\"><img src=\"https://s3-us-west-2.amazonaws.com/jchang-testbucket2-oregon/FacesBigTest/31632862-skinc-headc4-eye4-eyebrow7-mouth1-none-noseb6-hair1!blonde-spectacle1.jpg\" width=100 height=100 /></figure>\n",
       "<figure style=\"display:inline-block\"><img src=\"https://s3-us-west-2.amazonaws.com/jchang-testbucket2-oregon/FacesBigTest/32051915-skinc-headc4-eye6-eyebrow6-mouth7-none-noseb0-hair13!darkbrown-none.jpg\" width=100 height=100 /></figure>\n",
       "<figure style=\"display:inline-block\"><img src=\"https://s3-us-west-2.amazonaws.com/jchang-testbucket2-oregon/FacesBigTest/34439839-skinc-headc5-eye3-eyebrow5-mouthb1-facehair5-noseb6-hair6-spectacle3.jpg\" width=100 height=100 /></figure>\n",
       "<figure style=\"display:inline-block\"><img src=\"https://s3-us-west-2.amazonaws.com/jchang-testbucket2-oregon/FacesBigTest/35083244-skinc-headc5-eye6-eyebrow0-mouthb0-facehair0-noseb5-hair0!darkbrown-spectacle3.jpg\" width=100 height=100 /></figure>\n",
       "<figure style=\"display:inline-block\"><img src=\"https://s3-us-west-2.amazonaws.com/jchang-testbucket2-oregon/FacesBigTest/36371155-skind-headd0-eye1-eyebrow5-mouth1-none-noseb3-hair1!black-none.jpg\" width=100 height=100 /></figure>\n",
       "<figure style=\"display:inline-block\"><img src=\"https://s3-us-west-2.amazonaws.com/jchang-testbucket2-oregon/FacesBigTest/36524026-skind-headd0-eye2-eyebrow4-mouth2-none-noseb6-hair17!white-spectacle0.jpg\" width=100 height=100 /></figure>\n",
       "<figure style=\"display:inline-block\"><img src=\"https://s3-us-west-2.amazonaws.com/jchang-testbucket2-oregon/FacesBigTest/37272171-skind-headd1-eye0-eyebrow6-mouthb1-none-noseb1-hair6!white-spectacle0.jpg\" width=100 height=100 /></figure>\n",
       "<figure style=\"display:inline-block\"><img src=\"https://s3-us-west-2.amazonaws.com/jchang-testbucket2-oregon/FacesBigTest/37486232-skind-headd1-eye2-eyebrow0-mouth1-none-noseb1-none-spectacle1.jpg\" width=100 height=100 /></figure>\n",
       "<figure style=\"display:inline-block\"><img src=\"https://s3-us-west-2.amazonaws.com/jchang-testbucket2-oregon/FacesBigTest/37614146-skind-headd1-eye2-eyebrow7-mouth0-facehair1-noseb3-hair4!white-spectacle0.jpg\" width=100 height=100 /></figure>\n",
       "<figure style=\"display:inline-block\"><img src=\"https://s3-us-west-2.amazonaws.com/jchang-testbucket2-oregon/FacesBigTest/38402065-skind-headd2-eye1-eyebrow2-mouth7-none-noseb4-hair19!white-none.jpg\" width=100 height=100 /></figure>\n",
       "<figure style=\"display:inline-block\"><img src=\"https://s3-us-west-2.amazonaws.com/jchang-testbucket2-oregon/FacesBigTest/40255538-skind-headd3-eye10-eyebrow5-mouth7-none-noseb2-hair9!white-spectacle2.jpg\" width=100 height=100 /></figure>\n",
       "<figure style=\"display:inline-block\"><img src=\"https://s3-us-west-2.amazonaws.com/jchang-testbucket2-oregon/FacesBigTest/40075616-skind-headd3-eye6-eyebrow0-mouth7-none-noseb0-hair17!white-spectacle0.jpg\" width=100 height=100 /></figure>\n",
       "<figure style=\"display:inline-block\"><img src=\"https://s3-us-west-2.amazonaws.com/jchang-testbucket2-oregon/FacesBigTest/40340262-skind-headd4-eye0-eyebrow3-mouthb1-facehair2-noseb3-hair1!black-spectacle1.jpg\" width=100 height=100 /></figure>\n",
       "<figure style=\"display:inline-block\"><img src=\"https://s3-us-west-2.amazonaws.com/jchang-testbucket2-oregon/FacesBigTest/40881326-skind-headd4-eye3-eyebrow5-mouthb1-facehair4-noseb3-hair4!white-spectacle0.jpg\" width=100 height=100 /></figure>\n",
       "<figure style=\"display:inline-block\"><img src=\"https://s3-us-west-2.amazonaws.com/jchang-testbucket2-oregon/FacesBigTest/41454299-skind-headd5-eye0-eyebrow7-mouthb1-facehair0-noseb1-hair0!white-spectacle3.jpg\" width=100 height=100 /></figure>\n",
       "<figure style=\"display:inline-block\"><img src=\"https://s3-us-west-2.amazonaws.com/jchang-testbucket2-oregon/FacesBigTest/41535309-skind-headd5-eye1-eyebrow3-mouth0-facehair1-noseb6-hair0!black-spectacle3.jpg\" width=100 height=100 /></figure>\n",
       "<figure style=\"display:inline-block\"><img src=\"https://s3-us-west-2.amazonaws.com/jchang-testbucket2-oregon/FacesBigTest/41847016-skind-headd5-eye3-eyebrow1-mouthb1-facehair3-noseb2-hair5!white-spectacle0.jpg\" width=100 height=100 /></figure>\n",
       "<figure style=\"display:inline-block\"><img src=\"https://s3-us-west-2.amazonaws.com/jchang-testbucket2-oregon/FacesBigTest/41915900-skind-headd5-eye3-eyebrow5-mouthb0-none-noseb5-hair1!black-none.jpg\" width=100 height=100 /></figure>\n"
      ],
      "text/plain": [
       "<IPython.core.display.HTML object>"
      ]
     },
     "metadata": {},
     "output_type": "display_data"
    }
   ],
   "source": [
    "'''\n",
    "Display matched and unmatched images. Limiting to 128 images at a time, since that is the max allowed batch operation.\n",
    "'''\n",
    "print('MATCHES:', match_count)\n",
    "htmlstr = ''\n",
    "pattern = re.compile(r'/\\d+-([^-]+)-([^-]+)-([^-]+)-([^-]+)')\n",
    "for _u in sorted(matched, key=lambda _val: REGEX.search(_val).group(2,3,4,5)):\n",
    "    htmlstr += '<figure style=\"display:inline-block\"><img src=\"{}\" width=100 height=100 />\\n'.format(_u)\n",
    "    htmlstr += '</figure>\\n'\n",
    "display(HTML(htmlstr))\n",
    "\n",
    "print('NO FACE MATCHES:', total_count-match_count)\n",
    "htmlstr = ''\n",
    "for _u in sorted(unmatched, key=lambda _val: REGEX.search(_val).group(1,2,3,4)):\n",
    "    htmlstr += '<figure style=\"display:inline-block\"><img src=\"{}\" width=100 height=100 /></figure>\\n'.format(_u)\n",
    "display(HTML(htmlstr))\n"
   ]
  },
  {
   "cell_type": "code",
   "execution_count": 62,
   "metadata": {
    "autoscroll": false,
    "collapsed": false,
    "ein.tags": "worksheet-0",
    "slideshow": {
     "slide_type": "-"
    }
   },
   "outputs": [
    {
     "data": {
      "text/plain": [
       "'10142738-skina-heada4-eye2-eyebrow4-mouth0-facehair2-nose0-hair2!blonde-spectacle2.jpg'"
      ]
     },
     "execution_count": 62,
     "metadata": {},
     "output_type": "execute_result"
    }
   ],
   "source": [
    "import pprint\n",
    "import re\n",
    "pattern = re.compile(r'/(\\d+-([^-]+)-([^-]+)-([^-]+)-([^-]+).*$)')\n",
    "pattern.search(matched[0]).group(1)"
   ]
  }
 ],
 "metadata": {
  "kernelspec": {
   "display_name": "Python 3",
   "name": "python3"
  },
  "language_info": {
   "codemirror_mode": {
    "name": "ipython",
    "version": 3
   },
   "file_extension": ".py",
   "mimetype": "text/x-python",
   "name": "python",
   "nbconvert_exporter": "python",
   "pygments_lexer": "ipython3",
   "version": "3.6.2"
  },
  "name": "TestClarifai.ipynb"
 },
 "nbformat": 4,
 "nbformat_minor": 2
}
