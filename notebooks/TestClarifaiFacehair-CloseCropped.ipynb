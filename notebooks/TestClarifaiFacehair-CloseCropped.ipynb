{
 "cells": [
  {
   "cell_type": "code",
   "execution_count": 2,
   "metadata": {
    "autoscroll": false,
    "collapsed": false,
    "ein.tags": "worksheet-0",
    "slideshow": {
     "slide_type": "-"
    }
   },
   "outputs": [],
   "source": [
    "#Another Clean slate. Use only closely more uniform cropped portrait photos.\n",
    "\n",
    "DEBUG=True\n",
    "\n",
    "import os, pprint, json\n",
    "\n",
    "os.environ['CLARIFAI_API_KEY'] = 'd3fe3d5834e74f2fa7618e550ae19d64'\n",
    "from clarifai import rest\n",
    "from clarifai.rest import ClarifaiApp, Image, Concept\n",
    "app = ClarifaiApp()\n",
    "model = app.models.get('mymodel')\n",
    "#workflow = app.workflows.get('myworkflow')\n"
   ]
  },
  {
   "cell_type": "code",
   "execution_count": 7,
   "metadata": {
    "autoscroll": false,
    "collapsed": false,
    "ein.tags": "worksheet-0",
    "slideshow": {
     "slide_type": "-"
    }
   },
   "outputs": [],
   "source": [
    "#initial inputs\n",
    "    #beards\n",
    "images_beard_urls = [\n",
    "'http://t0.gstatic.com/images?q=tbn:ANd9GcRhNp2sip5pMNe1AMxq2-1KAD-VUa7kAFhIzixQM-JJ7-P_BC126tYwpAsM',\n",
    "'http://t0.gstatic.com/images?q=tbn:ANd9GcTN3MELKfgI5aHykGRLmKWc8qsL9b_ylVIGYZMmz3XuLmBB_5nNopYBBdLY',\n",
    "'http://t0.gstatic.com/images?q=tbn:ANd9GcQauVkJUwKbsrCzUCeGJiOfqII6LagiRQZMKh_J0IDZ8Gf9dfHYmdiZRXo',\n",
    "'http://t0.gstatic.com/images?q=tbn:ANd9GcRJNCo6pqXtj4Zp9OfcBVFSHqMXhNNgr_bc57hbVczceuMKIU4fGU0TKXd4',\n",
    "'http://t0.gstatic.com/images?q=tbn:ANd9GcQxlFjJ-sSUS4qDZumYLbpDWUYmqO0BqgG0TjsDIBGj5NRCOa2ImbMcgME',\n",
    "'http://t0.gstatic.com/images?q=tbn:ANd9GcS9GFeLN76fPtRIGq0uzHvF6Jxde060nxNdIXWTOunHFKH6dO57QcRbdx0',\n",
    "'http://t0.gstatic.com/images?q=tbn:ANd9GcTYG53uswuvpsm42IwthQf8Ie7VQi3xCI3TwSHEzdKhqS0--gwXvT0VdrZX',\n",
    "'http://t0.gstatic.com/images?q=tbn:ANd9GcTGikxuFJ91kabNWp5Au5YLVkwnaAhsKI8sEWe3UFiQJoLrSfmV8ApqI6gT',\n",
    "]\n",
    "#goatees\n",
    "images_goatee_urls = [\n",
    "'http://t0.gstatic.com/images?q=tbn:ANd9GcQjSUuPcQvZ5el5nhdo_L5CU7GMZobO19QP_-En4obiLsplotziNKas8L8',\n",
    "'http://t0.gstatic.com/images?q=tbn:ANd9GcQ_AWKJ4Q4_7Q5nlFxC8lpwThQkLrfjjcFMAQ6-IgF-nC8b0Dvi40yy-0Zv',\n",
    "'http://t0.gstatic.com/images?q=tbn:ANd9GcQ8I9o5lqU-UVSX8T2VwfCERP9cn5bkm160NgGNYii5NoyHMHiV6Jtt4xP5',\n",
    "'http://t0.gstatic.com/images?q=tbn:ANd9GcRCJ4sNcpXyeT_aipITPUV_NpxwCycrglhroX7mnil0vUwlrKoRjZ6Pf8i8',\n",
    "'http://t0.gstatic.com/images?q=tbn:ANd9GcTeMIKcPnoTmW5OFQuvR-i7Zd0Ct5jCIlnpeWqOfsgU0cwoJU5UwEMMCQ',\n",
    "'http://t0.gstatic.com/images?q=tbn:ANd9GcSu7buo4aU4aDcIcRFT0fugM606V_7jtpe8SYuAiTyohIy4p3jdpPd92jL4',\n",
    "'http://t0.gstatic.com/images?q=tbn:ANd9GcSu7buo4aU4aDcIcRFT0fugM606V_7jtpe8SYuAiTyohIy4p3jdpPd92jL4',\n",
    "'http://t0.gstatic.com/images?q=tbn:ANd9GcSu7buo4aU4aDcIcRFT0fugM606V_7jtpe8SYuAiTyohIy4p3jdpPd92jL4',\n",
    "]\n",
    "#mustaches\n",
    "images_mustache_urls = [\n",
    "'http://t0.gstatic.com/images?q=tbn:ANd9GcSNOjE2KCquR-Luw57J6wWwau1un9Bzwg_xEpWoBTBVJ57ZHpDbtbIeznI',\n",
    "'http://t0.gstatic.com/images?q=tbn:ANd9GcQ0Zt4y5XS7TqW5SXvg1Pd_r13Sj9r1FNH3_-qwK8fKlfG5FUaViLTRcdI',\n",
    "'http://t0.gstatic.com/images?q=tbn:ANd9GcTuz62CYiooh3ftnsLXQJUZ7Syb_f6IdsPKwYhTxy3QsU-tLOeFAU-_GDcD',\n",
    "'http://t0.gstatic.com/images?q=tbn:ANd9GcR_7cjrsa_5FQFdlonMa4kb3VSj4w_Dvsp2MFbnLULuDW190PGfjF-ZrY4',\n",
    "'http://t0.gstatic.com/images?q=tbn:ANd9GcRoEjOmmpeD1601TlX-ZnKmgyJntH-Hpd-ckNSNgRh9WLJZMZ_evl4_WPk',\n",
    "]\n",
    "#soulpatches\n",
    "\n",
    "def test_inputs(concept, images_urls):\n",
    "    images = []\n",
    "    for url in images_urls:\n",
    "        images.append(Image(url=url,concepts=[concept]))\n",
    "    return app.inputs.bulk_create_images(images)\n",
    "\n",
    "results = test_inputs('beard',images_beard_urls)\n",
    "results = test_inputs('goatee',images_goatee_urls)\n",
    "results = test_inputs('mustache',images_mustache_urls)\n"
   ]
  },
  {
   "cell_type": "code",
   "execution_count": 5,
   "metadata": {
    "autoscroll": false,
    "collapsed": false,
    "ein.tags": "worksheet-0",
    "slideshow": {
     "slide_type": "-"
    }
   },
   "outputs": [
    {
     "name": "stdout",
     "output_type": "stream",
     "text": [
      "beard inputs...\n"
     ]
    },
    {
     "data": {
      "text/html": [
       "<figure style=\"display:inline-block\"><img src=\"http://t0.gstatic.com/images?q=tbn:ANd9GcRhNp2sip5pMNe1AMxq2-1KAD-VUa7kAFhIzixQM-JJ7-P_BC126tYwpAsM\" width=100 height=100 />\n</figure><figure style=\"display:inline-block\"><img src=\"http://t0.gstatic.com/images?q=tbn:ANd9GcTN3MELKfgI5aHykGRLmKWc8qsL9b_ylVIGYZMmz3XuLmBB_5nNopYBBdLY\" width=100 height=100 />\n</figure><figure style=\"display:inline-block\"><img src=\"http://t0.gstatic.com/images?q=tbn:ANd9GcQauVkJUwKbsrCzUCeGJiOfqII6LagiRQZMKh_J0IDZ8Gf9dfHYmdiZRXo\" width=100 height=100 />\n</figure><figure style=\"display:inline-block\"><img src=\"http://t0.gstatic.com/images?q=tbn:ANd9GcRJNCo6pqXtj4Zp9OfcBVFSHqMXhNNgr_bc57hbVczceuMKIU4fGU0TKXd4\" width=100 height=100 />\n</figure><figure style=\"display:inline-block\"><img src=\"http://t0.gstatic.com/images?q=tbn:ANd9GcQxlFjJ-sSUS4qDZumYLbpDWUYmqO0BqgG0TjsDIBGj5NRCOa2ImbMcgME\" width=100 height=100 />\n</figure><figure style=\"display:inline-block\"><img src=\"http://t0.gstatic.com/images?q=tbn:ANd9GcS9GFeLN76fPtRIGq0uzHvF6Jxde060nxNdIXWTOunHFKH6dO57QcRbdx0\" width=100 height=100 />\n</figure><figure style=\"display:inline-block\"><img src=\"http://t0.gstatic.com/images?q=tbn:ANd9GcTYG53uswuvpsm42IwthQf8Ie7VQi3xCI3TwSHEzdKhqS0--gwXvT0VdrZX\" width=100 height=100 />\n</figure><figure style=\"display:inline-block\"><img src=\"http://t0.gstatic.com/images?q=tbn:ANd9GcTGikxuFJ91kabNWp5Au5YLVkwnaAhsKI8sEWe3UFiQJoLrSfmV8ApqI6gT\" width=100 height=100 />\n</figure>"
      ],
      "text/plain": [
       "<IPython.core.display.HTML object>"
      ]
     },
     "metadata": {},
     "output_type": "display_data"
    },
    {
     "name": "stdout",
     "output_type": "stream",
     "text": [
      "goatee inputs...\n"
     ]
    },
    {
     "data": {
      "text/html": [
       "<figure style=\"display:inline-block\"><img src=\"http://t0.gstatic.com/images?q=tbn:ANd9GcQjSUuPcQvZ5el5nhdo_L5CU7GMZobO19QP_-En4obiLsplotziNKas8L8\" width=100 height=100 />\n</figure><figure style=\"display:inline-block\"><img src=\"http://t0.gstatic.com/images?q=tbn:ANd9GcQ_AWKJ4Q4_7Q5nlFxC8lpwThQkLrfjjcFMAQ6-IgF-nC8b0Dvi40yy-0Zv\" width=100 height=100 />\n</figure><figure style=\"display:inline-block\"><img src=\"http://t0.gstatic.com/images?q=tbn:ANd9GcQ8I9o5lqU-UVSX8T2VwfCERP9cn5bkm160NgGNYii5NoyHMHiV6Jtt4xP5\" width=100 height=100 />\n</figure><figure style=\"display:inline-block\"><img src=\"http://t0.gstatic.com/images?q=tbn:ANd9GcRCJ4sNcpXyeT_aipITPUV_NpxwCycrglhroX7mnil0vUwlrKoRjZ6Pf8i8\" width=100 height=100 />\n</figure><figure style=\"display:inline-block\"><img src=\"http://t0.gstatic.com/images?q=tbn:ANd9GcTeMIKcPnoTmW5OFQuvR-i7Zd0Ct5jCIlnpeWqOfsgU0cwoJU5UwEMMCQ\" width=100 height=100 />\n</figure><figure style=\"display:inline-block\"><img src=\"http://t0.gstatic.com/images?q=tbn:ANd9GcSu7buo4aU4aDcIcRFT0fugM606V_7jtpe8SYuAiTyohIy4p3jdpPd92jL4\" width=100 height=100 />\n</figure><figure style=\"display:inline-block\"><img src=\"http://t0.gstatic.com/images?q=tbn:ANd9GcSu7buo4aU4aDcIcRFT0fugM606V_7jtpe8SYuAiTyohIy4p3jdpPd92jL4\" width=100 height=100 />\n</figure><figure style=\"display:inline-block\"><img src=\"http://t0.gstatic.com/images?q=tbn:ANd9GcSu7buo4aU4aDcIcRFT0fugM606V_7jtpe8SYuAiTyohIy4p3jdpPd92jL4\" width=100 height=100 />\n</figure>"
      ],
      "text/plain": [
       "<IPython.core.display.HTML object>"
      ]
     },
     "metadata": {},
     "output_type": "display_data"
    },
    {
     "name": "stdout",
     "output_type": "stream",
     "text": [
      "mustache inputs...\n"
     ]
    },
    {
     "data": {
      "text/html": [
       "<figure style=\"display:inline-block\"><img src=\"http://t0.gstatic.com/images?q=tbn:ANd9GcSNOjE2KCquR-Luw57J6wWwau1un9Bzwg_xEpWoBTBVJ57ZHpDbtbIeznI\" width=100 height=100 />\n</figure><figure style=\"display:inline-block\"><img src=\"http://t0.gstatic.com/images?q=tbn:ANd9GcQ0Zt4y5XS7TqW5SXvg1Pd_r13Sj9r1FNH3_-qwK8fKlfG5FUaViLTRcdI\" width=100 height=100 />\n</figure><figure style=\"display:inline-block\"><img src=\"http://t0.gstatic.com/images?q=tbn:ANd9GcTuz62CYiooh3ftnsLXQJUZ7Syb_f6IdsPKwYhTxy3QsU-tLOeFAU-_GDcD\" width=100 height=100 />\n</figure><figure style=\"display:inline-block\"><img src=\"http://t0.gstatic.com/images?q=tbn:ANd9GcR_7cjrsa_5FQFdlonMa4kb3VSj4w_Dvsp2MFbnLULuDW190PGfjF-ZrY4\" width=100 height=100 />\n</figure><figure style=\"display:inline-block\"><img src=\"http://t0.gstatic.com/images?q=tbn:ANd9GcRoEjOmmpeD1601TlX-ZnKmgyJntH-Hpd-ckNSNgRh9WLJZMZ_evl4_WPk\" width=100 height=100 />\n</figure>"
      ],
      "text/plain": [
       "<IPython.core.display.HTML object>"
      ]
     },
     "metadata": {},
     "output_type": "display_data"
    }
   ],
   "source": [
    "#display all inputs\n",
    "\n",
    "from IPython.core.display import display, HTML\n",
    "\n",
    "def display_inputs(urls):\n",
    "    htmlstr = ''\n",
    "    for url in urls:\n",
    "        htmlstr += f'<figure style=\"display:inline-block\"><img src=\"{url}\" width=100 height=100 />\\n'\n",
    "        htmlstr += '</figure>'\n",
    "    display(HTML(htmlstr))\n",
    "\n",
    "print('beard inputs...')\n",
    "display_inputs(images_beard_urls)\n",
    "print('goatee inputs...')\n",
    "display_inputs(images_goatee_urls)\n",
    "print('mustache inputs...')\n",
    "display_inputs(images_mustache_urls)\n",
    "    \n"
   ]
  },
  {
   "cell_type": "code",
   "execution_count": 17,
   "metadata": {
    "autoscroll": false,
    "collapsed": false,
    "ein.tags": "worksheet-0",
    "slideshow": {
     "slide_type": "-"
    }
   },
   "outputs": [
    {
     "data": {
      "text/plain": [
       "6"
      ]
     },
     "execution_count": 17,
     "metadata": {},
     "output_type": "execute_result"
    }
   ],
   "source": [
    "#let's test how well celebrity test beards score\n",
    "\n",
    "celebrity_beard_urls = [\n",
    "'http://t0.gstatic.com/images?q=tbn:ANd9GcQknhDU9TYsWSTqvTF5YDYbkqJGYT5ZJxjer3api90F4EXKSsGaFd46lXU',\n",
    "'http://t0.gstatic.com/images?q=tbn:ANd9GcTD_zFo0-cyb30Cyu3hRQQ5qFG7z4Bu9ejISCzDlFzdhC57l30ceUgdhHU1',\n",
    "'http://t0.gstatic.com/images?q=tbn:ANd9GcSkVdDMFFNZN2OhQGD7wC2nxhZZxwWErTukXiorbuSdBaaYPm3402beIafY',\n",
    "'http://t0.gstatic.com/images?q=tbn:ANd9GcR7VkH7d403Lxj7Uvw9gJ-dWWoHuHaAmuGTCnHaBqkv6PDwJNEV4eoS4E8',\n",
    "'http://t0.gstatic.com/images?q=tbn:ANd9GcQ2TlDjG0VkBlYqEMLVYkeaReZ2_tRA4ruVt-_6zwXy4hdpBh5VNYnphehR',\n",
    "'http://t0.gstatic.com/images?q=tbn:ANd9GcQxHCN3MQaG7HHBEdcROvd28OW-0kCh5-81dirTEWhu8_t1vGbFN4lIBmN_',\n",
    "'http://t0.gstatic.com/images?q=tbn:ANd9GcRs6cSyBkDa84QA6F1MCUkILVETkzibhgWkDl4mtiMIpL1qj8sAipZKFMc',\n",
    "'http://t0.gstatic.com/images?q=tbn:ANd9GcSksC8NOZseBRFQcKlGIS3FlUnUJTtbkuMIFx6Yq-YTsGgU5Pt_JXB_J4CQ',\n",
    "'http://t0.gstatic.com/images?q=tbn:ANd9GcSJJbyisa9s0N4reO0wNxBP3vh-CFcbt15p22wfHpgMRK-4Bcik6w6-oVg',\n",
    "'http://t0.gstatic.com/images?q=tbn:ANd9GcRfFcNV6RxdxYYi2lxNCqDLgs4SKFid6VbZs8RFXHrUW9ZRoD9oev4LQh-9',\n",
    "'http://t0.gstatic.com/images?q=tbn:ANd9GcTQMXWTAYuRQEGtnahYTxOnsaxhifAr_2ezqNMiQOpx9OWWe8O2cpyeTCGs',\n",
    "'http://t0.gstatic.com/images?q=tbn:ANd9GcSwCMUPMNF9zCqcOj5wZHcOCd7zJJBp52gMAdYgzk7r4C9glWRB7Y_ve3R7',\n",
    "]\n",
    "\n",
    "model = app.models.get('mymodel')\n",
    "def get_predict(image_urls):\n",
    "    results5=[]\n",
    "    beard_concept = Concept('beard')\n",
    "    goatee_concept = Concept('goatee')\n",
    "    mustache_concept = Concept('mustache')\n",
    "    for url in image_urls:\n",
    "        res = model.predict_by_url(url=url,select_concepts=[beard_concept,goatee_concept,mustache_concept])\n",
    "        results5.append(res)\n",
    "    return results5\n",
    "        \n",
    "celebrity_beard_results = get_predict(celebrity_beard_urls)\n",
    "\n",
    "#test celebrity mustaches\n",
    "\n",
    "celebrity_mustache_urls = [\n",
    "'http://t0.gstatic.com/images?q=tbn:ANd9GcTeu7Ab-_5qEj46x7kl8_NW5A0K__j5Dh1ISKb35bNQ0OvJoLJHfGdtqXao',\n",
    "'http://t0.gstatic.com/images?q=tbn:ANd9GcQ1oTIO8bdR9KGxrQZQeESNclflWc5GS7PZyyN1Gfea3zXRH-bCVceJfzjf',\n",
    "'http://t0.gstatic.com/images?q=tbn:ANd9GcSKHaYGHmAW1peFNzkfnJ6Me854VCy1SNSdlfqO07gpmzo63nusZpYxi_hY',\n",
    "'http://t0.gstatic.com/images?q=tbn:ANd9GcSIwl-fFcImrd9SAE6AUo6zGHs7GbZ1uVo8680hYiBxT1bg_YjfvDx4yNIC',\n",
    "'http://t0.gstatic.com/images?q=tbn:ANd9GcTCvrX8DqERsxnBIRc6zLOWyDnEtsoFSCTc9SdkZTKQBFmTzr5oY2r0aLF7',\n",
    "'http://t0.gstatic.com/images?q=tbn:ANd9GcTUzN4fpPQL4roEPQsJLAEMftas_tIJNzNnG1McuV_wea9G5TY_bmssv7F5',\n",
    "'http://t0.gstatic.com/images?q=tbn:ANd9GcQ0YXV_8Wx45BymOeBn36odw3qPHG5MmBdaEUioxtN5rIzmFtkoZ5PqOSc',\n",
    "]\n",
    "\n",
    "celebrity_mustache_results = get_predict(celebrity_mustache_urls)\n",
    "len(celebrity_mustache_results)\n",
    "\n",
    "#test celebrity goatees\n",
    "\n",
    "celebrity_goatee_urls = [\n",
    "'http://t0.gstatic.com/images?q=tbn:ANd9GcTJc_bXfLKHLuD_Jr_4jp3w1rax56C3z388jwdNrhvosgo1fiVdl2pmqX8L',\n",
    "'http://t0.gstatic.com/images?q=tbn:ANd9GcTlaWJZSlqDRsFy1EmMwmmM9_8PTOcH0SlmkBj0MUStlBMw6hBfjyDVmf0',\n",
    "'http://t0.gstatic.com/images?q=tbn:ANd9GcQq1PA5VmD1GrZtVgE0ahR7268hIWaaW0vTMkXVIuLks6qXEXQOKAHSZxI',\n",
    "'http://t0.gstatic.com/images?q=tbn:ANd9GcRQrYrTXw9mlZOU0gXJerrxX-ze5tsiTTfTgKX3F_jtbF8JWHBvLgR0FyM',\n",
    "'http://t0.gstatic.com/images?q=tbn:ANd9GcSmPWb_xN1I2A378kmAGrbZYs0B7VJiLAa23IsHNe8ukdLvDir7A9PqzmQ',\n",
    "'http://t0.gstatic.com/images?q=tbn:ANd9GcSwCMUPMNF9zCqcOj5wZHcOCd7zJJBp52gMAdYgzk7r4C9glWRB7Y_ve3R7',\n",
    "]\n",
    "\n",
    "celebrity_goatee_results = get_predict(celebrity_goatee_urls)\n",
    "len(celebrity_goatee_results)\n",
    "        "
   ]
  },
  {
   "cell_type": "code",
   "execution_count": 18,
   "metadata": {
    "autoscroll": false,
    "collapsed": false,
    "ein.tags": "worksheet-0",
    "slideshow": {
     "slide_type": "-"
    }
   },
   "outputs": [
    {
     "data": {
      "text/html": [
       "<h3>Celebrity Test Beards...</h3>"
      ],
      "text/plain": [
       "<IPython.core.display.HTML object>"
      ]
     },
     "metadata": {},
     "output_type": "display_data"
    },
    {
     "data": {
      "text/html": [
       "<figure style=\"display:inline-block\"><img src=\"http://t0.gstatic.com/images?q=tbn:ANd9GcQknhDU9TYsWSTqvTF5YDYbkqJGYT5ZJxjer3api90F4EXKSsGaFd46lXU\" width=100 height=100 />\n<figcaption style=\"background-color:yellow\">beard:0.5446</figcaption>\n<figcaption >mustache:0.2741</figcaption>\n<figcaption >goatee:0.0000</figcaption>\n</figure><figure style=\"display:inline-block\"><img src=\"http://t0.gstatic.com/images?q=tbn:ANd9GcTD_zFo0-cyb30Cyu3hRQQ5qFG7z4Bu9ejISCzDlFzdhC57l30ceUgdhHU1\" width=100 height=100 />\n<figcaption >mustache:0.9845</figcaption>\n<figcaption >beard:0.0151</figcaption>\n<figcaption >goatee:0.0000</figcaption>\n</figure><figure style=\"display:inline-block\"><img src=\"http://t0.gstatic.com/images?q=tbn:ANd9GcSkVdDMFFNZN2OhQGD7wC2nxhZZxwWErTukXiorbuSdBaaYPm3402beIafY\" width=100 height=100 />\n<figcaption >mustache:0.9955</figcaption>\n<figcaption >beard:0.0008</figcaption>\n<figcaption >goatee:0.0000</figcaption>\n</figure><figure style=\"display:inline-block\"><img src=\"http://t0.gstatic.com/images?q=tbn:ANd9GcR7VkH7d403Lxj7Uvw9gJ-dWWoHuHaAmuGTCnHaBqkv6PDwJNEV4eoS4E8\" width=100 height=100 />\n<figcaption >mustache:0.9991</figcaption>\n<figcaption >beard:0.0000</figcaption>\n<figcaption >goatee:0.0000</figcaption>\n</figure><figure style=\"display:inline-block\"><img src=\"http://t0.gstatic.com/images?q=tbn:ANd9GcQ2TlDjG0VkBlYqEMLVYkeaReZ2_tRA4ruVt-_6zwXy4hdpBh5VNYnphehR\" width=100 height=100 />\n<figcaption >mustache:0.2739</figcaption>\n<figcaption >beard:0.1782</figcaption>\n<figcaption >goatee:0.0000</figcaption>\n</figure><figure style=\"display:inline-block\"><img src=\"http://t0.gstatic.com/images?q=tbn:ANd9GcQxHCN3MQaG7HHBEdcROvd28OW-0kCh5-81dirTEWhu8_t1vGbFN4lIBmN_\" width=100 height=100 />\n<figcaption style=\"background-color:green\">beard:0.9939</figcaption>\n<figcaption >mustache:0.0074</figcaption>\n<figcaption >goatee:0.0000</figcaption>\n</figure><figure style=\"display:inline-block\"><img src=\"http://t0.gstatic.com/images?q=tbn:ANd9GcRs6cSyBkDa84QA6F1MCUkILVETkzibhgWkDl4mtiMIpL1qj8sAipZKFMc\" width=100 height=100 />\n<figcaption >mustache:0.8602</figcaption>\n<figcaption >beard:0.0065</figcaption>\n<figcaption >goatee:0.0000</figcaption>\n</figure><figure style=\"display:inline-block\"><img src=\"http://t0.gstatic.com/images?q=tbn:ANd9GcSksC8NOZseBRFQcKlGIS3FlUnUJTtbkuMIFx6Yq-YTsGgU5Pt_JXB_J4CQ\" width=100 height=100 />\n<figcaption style=\"background-color:green\">beard:0.9269</figcaption>\n<figcaption >mustache:0.0218</figcaption>\n<figcaption >goatee:0.0000</figcaption>\n</figure><figure style=\"display:inline-block\"><img src=\"http://t0.gstatic.com/images?q=tbn:ANd9GcSJJbyisa9s0N4reO0wNxBP3vh-CFcbt15p22wfHpgMRK-4Bcik6w6-oVg\" width=100 height=100 />\n<figcaption >mustache:0.9093</figcaption>\n<figcaption >beard:0.0229</figcaption>\n<figcaption >goatee:0.0000</figcaption>\n</figure><figure style=\"display:inline-block\"><img src=\"http://t0.gstatic.com/images?q=tbn:ANd9GcRfFcNV6RxdxYYi2lxNCqDLgs4SKFid6VbZs8RFXHrUW9ZRoD9oev4LQh-9\" width=100 height=100 />\n<figcaption >mustache:0.7986</figcaption>\n<figcaption >beard:0.2393</figcaption>\n<figcaption >goatee:0.0000</figcaption>\n</figure><figure style=\"display:inline-block\"><img src=\"http://t0.gstatic.com/images?q=tbn:ANd9GcTQMXWTAYuRQEGtnahYTxOnsaxhifAr_2ezqNMiQOpx9OWWe8O2cpyeTCGs\" width=100 height=100 />\n<figcaption >mustache:0.9667</figcaption>\n<figcaption >beard:0.0339</figcaption>\n<figcaption >goatee:0.0000</figcaption>\n</figure><figure style=\"display:inline-block\"><img src=\"http://t0.gstatic.com/images?q=tbn:ANd9GcSwCMUPMNF9zCqcOj5wZHcOCd7zJJBp52gMAdYgzk7r4C9glWRB7Y_ve3R7\" width=100 height=100 />\n<figcaption >mustache:0.9602</figcaption>\n<figcaption >beard:0.0003</figcaption>\n<figcaption >goatee:0.0000</figcaption>\n</figure>"
      ],
      "text/plain": [
       "<IPython.core.display.HTML object>"
      ]
     },
     "metadata": {},
     "output_type": "display_data"
    },
    {
     "data": {
      "text/html": [
       "<h3>Celebrity Test Mustaches...</h3>"
      ],
      "text/plain": [
       "<IPython.core.display.HTML object>"
      ]
     },
     "metadata": {},
     "output_type": "display_data"
    },
    {
     "data": {
      "text/html": [
       "<figure style=\"display:inline-block\"><img src=\"http://t0.gstatic.com/images?q=tbn:ANd9GcTeu7Ab-_5qEj46x7kl8_NW5A0K__j5Dh1ISKb35bNQ0OvJoLJHfGdtqXao\" width=100 height=100 />\n<figcaption >mustache:0.1596</figcaption>\n<figcaption >beard:0.0197</figcaption>\n<figcaption >goatee:0.0008</figcaption>\n</figure><figure style=\"display:inline-block\"><img src=\"http://t0.gstatic.com/images?q=tbn:ANd9GcQ1oTIO8bdR9KGxrQZQeESNclflWc5GS7PZyyN1Gfea3zXRH-bCVceJfzjf\" width=100 height=100 />\n<figcaption >mustache:0.1580</figcaption>\n<figcaption >beard:0.0183</figcaption>\n<figcaption >goatee:0.0001</figcaption>\n</figure><figure style=\"display:inline-block\"><img src=\"http://t0.gstatic.com/images?q=tbn:ANd9GcSKHaYGHmAW1peFNzkfnJ6Me854VCy1SNSdlfqO07gpmzo63nusZpYxi_hY\" width=100 height=100 />\n<figcaption >goatee:0.1997</figcaption>\n<figcaption >beard:0.0051</figcaption>\n<figcaption >mustache:0.0026</figcaption>\n</figure><figure style=\"display:inline-block\"><img src=\"http://t0.gstatic.com/images?q=tbn:ANd9GcSIwl-fFcImrd9SAE6AUo6zGHs7GbZ1uVo8680hYiBxT1bg_YjfvDx4yNIC\" width=100 height=100 />\n<figcaption style=\"background-color:green\">mustache:0.9759</figcaption>\n<figcaption >goatee:0.0009</figcaption>\n<figcaption >beard:0.0001</figcaption>\n</figure><figure style=\"display:inline-block\"><img src=\"http://t0.gstatic.com/images?q=tbn:ANd9GcTCvrX8DqERsxnBIRc6zLOWyDnEtsoFSCTc9SdkZTKQBFmTzr5oY2r0aLF7\" width=100 height=100 />\n<figcaption >mustache:0.1020</figcaption>\n<figcaption >goatee:0.0135</figcaption>\n<figcaption >beard:0.0013</figcaption>\n</figure><figure style=\"display:inline-block\"><img src=\"http://t0.gstatic.com/images?q=tbn:ANd9GcTUzN4fpPQL4roEPQsJLAEMftas_tIJNzNnG1McuV_wea9G5TY_bmssv7F5\" width=100 height=100 />\n<figcaption style=\"background-color:green\">mustache:0.9644</figcaption>\n<figcaption >beard:0.0222</figcaption>\n<figcaption >goatee:0.0000</figcaption>\n</figure><figure style=\"display:inline-block\"><img src=\"http://t0.gstatic.com/images?q=tbn:ANd9GcQ0YXV_8Wx45BymOeBn36odw3qPHG5MmBdaEUioxtN5rIzmFtkoZ5PqOSc\" width=100 height=100 />\n<figcaption >mustache:0.0481</figcaption>\n<figcaption >goatee:0.0221</figcaption>\n<figcaption >beard:0.0067</figcaption>\n</figure>"
      ],
      "text/plain": [
       "<IPython.core.display.HTML object>"
      ]
     },
     "metadata": {},
     "output_type": "display_data"
    },
    {
     "data": {
      "text/html": [
       "<h3>Celebrity Test Goatee...</h3>"
      ],
      "text/plain": [
       "<IPython.core.display.HTML object>"
      ]
     },
     "metadata": {},
     "output_type": "display_data"
    },
    {
     "data": {
      "text/html": [
       "<figure style=\"display:inline-block\"><img src=\"http://t0.gstatic.com/images?q=tbn:ANd9GcTJc_bXfLKHLuD_Jr_4jp3w1rax56C3z388jwdNrhvosgo1fiVdl2pmqX8L\" width=100 height=100 />\n<figcaption >mustache:0.9902</figcaption>\n<figcaption >beard:0.0006</figcaption>\n<figcaption >goatee:0.0000</figcaption>\n</figure><figure style=\"display:inline-block\"><img src=\"http://t0.gstatic.com/images?q=tbn:ANd9GcTlaWJZSlqDRsFy1EmMwmmM9_8PTOcH0SlmkBj0MUStlBMw6hBfjyDVmf0\" width=100 height=100 />\n<figcaption >mustache:0.9760</figcaption>\n<figcaption >goatee:0.0005</figcaption>\n<figcaption >beard:0.0000</figcaption>\n</figure><figure style=\"display:inline-block\"><img src=\"http://t0.gstatic.com/images?q=tbn:ANd9GcQq1PA5VmD1GrZtVgE0ahR7268hIWaaW0vTMkXVIuLks6qXEXQOKAHSZxI\" width=100 height=100 />\n<figcaption >mustache:0.6984</figcaption>\n<figcaption >beard:0.5794</figcaption>\n<figcaption >goatee:0.0000</figcaption>\n</figure><figure style=\"display:inline-block\"><img src=\"http://t0.gstatic.com/images?q=tbn:ANd9GcRQrYrTXw9mlZOU0gXJerrxX-ze5tsiTTfTgKX3F_jtbF8JWHBvLgR0FyM\" width=100 height=100 />\n<figcaption >mustache:0.8743</figcaption>\n<figcaption >goatee:0.0000</figcaption>\n<figcaption >beard:0.0000</figcaption>\n</figure><figure style=\"display:inline-block\"><img src=\"http://t0.gstatic.com/images?q=tbn:ANd9GcSmPWb_xN1I2A378kmAGrbZYs0B7VJiLAa23IsHNe8ukdLvDir7A9PqzmQ\" width=100 height=100 />\n<figcaption >mustache:0.9906</figcaption>\n<figcaption >beard:0.0003</figcaption>\n<figcaption >goatee:0.0000</figcaption>\n</figure><figure style=\"display:inline-block\"><img src=\"http://t0.gstatic.com/images?q=tbn:ANd9GcSwCMUPMNF9zCqcOj5wZHcOCd7zJJBp52gMAdYgzk7r4C9glWRB7Y_ve3R7\" width=100 height=100 />\n<figcaption >mustache:0.9602</figcaption>\n<figcaption >beard:0.0003</figcaption>\n<figcaption >goatee:0.0000</figcaption>\n</figure>"
      ],
      "text/plain": [
       "<IPython.core.display.HTML object>"
      ]
     },
     "metadata": {},
     "output_type": "display_data"
    }
   ],
   "source": [
    "from IPython.core.display import display, HTML\n",
    "\n",
    "def display_results(results, highlight_name='none'):\n",
    "    htmlstr = ''\n",
    "    for _res in results:\n",
    "        url = _res['outputs'][0]['input']['data']['image']['url']\n",
    "        htmlstr += f'<figure style=\"display:inline-block\"><img src=\"{url}\" width=100 height=100 />\\n'\n",
    "        for _concept in _res['outputs'][0]['data']['concepts']:\n",
    "            name = _concept['name']\n",
    "            value = _concept['value']\n",
    "            highlight=''\n",
    "            if name == highlight_name or highlight_name == 'none':\n",
    "                if float(value) > 0.9:\n",
    "                    highlight='style=\"background-color:green\"'\n",
    "                elif 0.5 < float(value) < 0.89:\n",
    "                    highlight='style=\"background-color:yellow\"'\n",
    "            htmlstr += f'<figcaption {highlight}>{name}:{value:.4f}</figcaption>\\n'\n",
    "        htmlstr += '</figure>'\n",
    "    display(HTML(htmlstr))\n",
    "display(HTML(\"<h3>Celebrity Test Beards...</h3>\"))\n",
    "display_results(celebrity_beard_results, 'beard')\n",
    "display(HTML(\"<h3>Celebrity Test Mustaches...</h3>\"))\n",
    "display_results(celebrity_mustache_results, 'mustache')\n",
    "display(HTML(\"<h3>Celebrity Test Goatee...</h3>\"))\n",
    "display_results(celebrity_goatee_results, 'goatee')\n"
   ]
  },
  {
   "cell_type": "code",
   "execution_count": 21,
   "metadata": {
    "autoscroll": false,
    "collapsed": false,
    "ein.tags": "worksheet-0",
    "slideshow": {
     "slide_type": "-"
    }
   },
   "outputs": [
    {
     "data": {
      "text/plain": [
       "10"
      ]
     },
     "execution_count": 21,
     "metadata": {},
     "output_type": "execute_result"
    }
   ],
   "source": [
    "celebrity_female_urls = [\n",
    "'http://t0.gstatic.com/images?q=tbn:ANd9GcSZE7KcMZHCOFwy_UVqon7UCsNN920-k1qj0Pj2M5ncPL_2RI73lEBZRkjX',\n",
    "'http://t0.gstatic.com/images?q=tbn:ANd9GcRYv21YAzOcQ5MZ80JFA8neKwyJrTCnTtMpvunczOW0JdNsnXIbytIw2ymk',\n",
    "'http://t0.gstatic.com/images?q=tbn:ANd9GcQUiK_dYsyd-kSdMmGZUyc46Odv5f_7fRiY_nsFuTFOHyhj6S_HS7FnLvMr8w',\n",
    "'http://t0.gstatic.com/images?q=tbn:ANd9GcTekbieHcdWLLuypuV5pDxcGgox4yfX8z73qpV6-9QCAi4q3kg9cXmeOw',\n",
    "'http://t0.gstatic.com/images?q=tbn:ANd9GcTZdxSO5dhNjNzJebrL45whmwRjAx7xxtsrTtjEh2CrEhswMW01ojjbsw',\n",
    "'http://t0.gstatic.com/images?q=tbn:ANd9GcTBdzd--d_dbs5e1N7UHjatgmD83vYsvlSqg_Zmpdn01xZazuTCH-wlNHmF',\n",
    "'http://t0.gstatic.com/images?q=tbn:ANd9GcS4ui93roxOGPL7eb-NZXnGo-3soR6PGqTn13vQj9uzdTminI43QVx1PZI',\n",
    "'http://t0.gstatic.com/images?q=tbn:ANd9GcSgT5CfVh5r2AlAYI_Jemk_NrI5dxF0ONm_aZ5jFNDddnw-R5zlAnuxE6Y',\n",
    "'http://t0.gstatic.com/images?q=tbn:ANd9GcTGRM3IOiFj4V2wz9OZQmwvQM4hOPobk_p2TVws1TMXZYhW_IJsTrUrif2u',\n",
    "'http://t0.gstatic.com/images?q=tbn:ANd9GcQlvVlXR1A6wjtnCEiIespTodVT-RSuxyBolyyPx25C3RLbiJUZC2BmKmY',\n",
    "'http://t0.gstatic.com/images?q=tbn:ANd9GcQE-vwX7bM9Vt1GCTu1N7qVGhrskv2xsPcn1gyx45ht0U1tfeuT1tYirS8X',\n",
    "'http://t0.gstatic.com/images?q=tbn:ANd9GcQ0npOX3Ies96apvd6plfSszhgsfa7mSiRAd4Q5BUWn8PrF3YxiUVPh9dw',\n",
    "'http://t0.gstatic.com/images?q=tbn:ANd9GcSTA2Sm737kc6_X-Jjqt7BOSdBojNngissDGM-4A6YXYaQ3xu_XhFeXWQ',\n",
    "'http://t0.gstatic.com/images?q=tbn:ANd9GcR0-wu0d6cO0MdJBb8J_ewWDTjdQ4zbd_x4S09TAgy3c-GkGtUyueARMFi7',\n",
    "'http://t0.gstatic.com/images?q=tbn:ANd9GcS4MHs__x9DVZDiMMWI_aAo0yC6Y1btgcX0o9Pptgkt_KK5NM2B_S5MvzRf',\n",
    "'http://t0.gstatic.com/images?q=tbn:ANd9GcRSXZijHgdwBc6vU6eqKVp6dNBg08XX43vl8hVvFhWTtrCaxFf46nOrbCi0',\n",
    "'http://t0.gstatic.com/images?q=tbn:ANd9GcT2QkJcWkfTEh_wGRwfrHUP1LYDuItS_E-wWBwdrjooha9rRZjSZBKLOL8',\n",
    "'http://t0.gstatic.com/images?q=tbn:ANd9GcTzq8rcD8L0rAKNO-_7-lm-bV2lpmxi0oUUx7Y44MO_VT_xd8rn4mWvbcY',\n",
    "'http://t0.gstatic.com/images?q=tbn:ANd9GcQGJbc0hOXpKE4FU5FNOjgcx8hzWyr752WFoyp36aQx8j4R_1iA0_8hasQ',\n",
    "'http://t0.gstatic.com/images?q=tbn:ANd9GcQshGYs2AIAG4MV_8SgXnz8GVBD4GBTmtban1zB5XPt-bxcKudE4GybObNx',\n",
    "]\n",
    "celebrity_female_results = get_predict(celebrity_female_urls)\n",
    "len(celebrity_female_results)\n",
    "\n",
    "#celebirty clean shaven\n",
    "celebrity_cleanshaven_urls = [\n",
    "'http://t0.gstatic.com/images?q=tbn:ANd9GcToWLpHhsf6G71cJks4w-FJPqkvQGrb7CHC8cspiXGe5Ouw4Vuriqptgd8',\n",
    "'http://t0.gstatic.com/images?q=tbn:ANd9GcSIXJy4AkhNhEfknoVcwaVk73-GLQcQNA0NCithBykitXIucTR7jtmlboBr',\n",
    "'http://t0.gstatic.com/images?q=tbn:ANd9GcSA2E4ocPlhU6p63lUvwIrtdyz21482g7gkgGzcIh5o9PG58QYuqMtEqtc8',\n",
    "'http://t0.gstatic.com/images?q=tbn:ANd9GcQq2bWAmpWBUlgUf_diKsS6oJ1ge-g-8s7SUZYqBMrB_ZbjUZClateFIU4',\n",
    "'http://t0.gstatic.com/images?q=tbn:ANd9GcRCl-IPe19U3CYo2BvCasUg1t3aq11zrkHHgYC3nZ9jfgY_yW9t-uxfbQ-j',\n",
    "'http://t0.gstatic.com/images?q=tbn:ANd9GcT1FVCfdtPYDQkvxwkUr_w36X5DrQI12mitNNTotunGhSNAYaNjqnK00zhN',\n",
    "'http://t0.gstatic.com/images?q=tbn:ANd9GcR81qV2u_wZVuoWqFi7NjRHQ483ASWO7n2rI33UaV7OhDP86j3Zb1OtFO4',\n",
    "'http://t0.gstatic.com/images?q=tbn:ANd9GcSYY5XQmzBJ7SIZhc4j0QeKaLzAHlbXSzEsUnXgEtPFYdBWaawD8ZxnvcU7',\n",
    "'http://t0.gstatic.com/images?q=tbn:ANd9GcRarR0QzA140jf_3mb-rPrcnSCrsUtsqqh2fUQSXe5RgEmBxBzSJ7rAndU',\n",
    "'http://t0.gstatic.com/images?q=tbn:ANd9GcS4MbOYBX-COzKhnHhUUNqvDSO_ujUfs-8N3N_tevzHWFdF6qnrZb1os5c',\n",
    "]\n",
    "celebrity_cleanshaven_results = get_predict(celebrity_cleanshaven_urls)\n",
    "len(celebrity_cleanshaven_results)\n"
   ]
  },
  {
   "cell_type": "code",
   "execution_count": 22,
   "metadata": {
    "autoscroll": false,
    "collapsed": false,
    "ein.tags": "worksheet-0",
    "slideshow": {
     "slide_type": "-"
    }
   },
   "outputs": [
    {
     "data": {
      "text/html": [
       "<h3>Celebrity Female...</h3>"
      ],
      "text/plain": [
       "<IPython.core.display.HTML object>"
      ]
     },
     "metadata": {},
     "output_type": "display_data"
    },
    {
     "data": {
      "text/html": [
       "<figure style=\"display:inline-block\"><img src=\"http://t0.gstatic.com/images?q=tbn:ANd9GcSZE7KcMZHCOFwy_UVqon7UCsNN920-k1qj0Pj2M5ncPL_2RI73lEBZRkjX\" width=100 height=100 />\n<figcaption >mustache:0.2042</figcaption>\n<figcaption >beard:0.0038</figcaption>\n<figcaption >goatee:0.0000</figcaption>\n</figure><figure style=\"display:inline-block\"><img src=\"http://t0.gstatic.com/images?q=tbn:ANd9GcRYv21YAzOcQ5MZ80JFA8neKwyJrTCnTtMpvunczOW0JdNsnXIbytIw2ymk\" width=100 height=100 />\n<figcaption >beard:0.0319</figcaption>\n<figcaption >mustache:0.0112</figcaption>\n<figcaption >goatee:0.0000</figcaption>\n</figure><figure style=\"display:inline-block\"><img src=\"http://t0.gstatic.com/images?q=tbn:ANd9GcQUiK_dYsyd-kSdMmGZUyc46Odv5f_7fRiY_nsFuTFOHyhj6S_HS7FnLvMr8w\" width=100 height=100 />\n<figcaption >mustache:0.3548</figcaption>\n<figcaption >beard:0.0000</figcaption>\n<figcaption >goatee:0.0000</figcaption>\n</figure><figure style=\"display:inline-block\"><img src=\"http://t0.gstatic.com/images?q=tbn:ANd9GcTekbieHcdWLLuypuV5pDxcGgox4yfX8z73qpV6-9QCAi4q3kg9cXmeOw\" width=100 height=100 />\n<figcaption >mustache:0.0482</figcaption>\n<figcaption >goatee:0.0023</figcaption>\n<figcaption >beard:0.0000</figcaption>\n</figure><figure style=\"display:inline-block\"><img src=\"http://t0.gstatic.com/images?q=tbn:ANd9GcTZdxSO5dhNjNzJebrL45whmwRjAx7xxtsrTtjEh2CrEhswMW01ojjbsw\" width=100 height=100 />\n<figcaption >mustache:0.0103</figcaption>\n<figcaption >beard:0.0007</figcaption>\n<figcaption >goatee:0.0003</figcaption>\n</figure><figure style=\"display:inline-block\"><img src=\"http://t0.gstatic.com/images?q=tbn:ANd9GcTBdzd--d_dbs5e1N7UHjatgmD83vYsvlSqg_Zmpdn01xZazuTCH-wlNHmF\" width=100 height=100 />\n<figcaption >mustache:0.0278</figcaption>\n<figcaption >beard:0.0006</figcaption>\n<figcaption >goatee:0.0000</figcaption>\n</figure><figure style=\"display:inline-block\"><img src=\"http://t0.gstatic.com/images?q=tbn:ANd9GcS4ui93roxOGPL7eb-NZXnGo-3soR6PGqTn13vQj9uzdTminI43QVx1PZI\" width=100 height=100 />\n<figcaption >mustache:0.0242</figcaption>\n<figcaption >goatee:0.0100</figcaption>\n<figcaption >beard:0.0000</figcaption>\n</figure><figure style=\"display:inline-block\"><img src=\"http://t0.gstatic.com/images?q=tbn:ANd9GcSgT5CfVh5r2AlAYI_Jemk_NrI5dxF0ONm_aZ5jFNDddnw-R5zlAnuxE6Y\" width=100 height=100 />\n<figcaption >beard:0.1201</figcaption>\n<figcaption >mustache:0.0006</figcaption>\n<figcaption >goatee:0.0000</figcaption>\n</figure><figure style=\"display:inline-block\"><img src=\"http://t0.gstatic.com/images?q=tbn:ANd9GcTGRM3IOiFj4V2wz9OZQmwvQM4hOPobk_p2TVws1TMXZYhW_IJsTrUrif2u\" width=100 height=100 />\n<figcaption >goatee:0.0048</figcaption>\n<figcaption >beard:0.0003</figcaption>\n<figcaption >mustache:0.0003</figcaption>\n</figure><figure style=\"display:inline-block\"><img src=\"http://t0.gstatic.com/images?q=tbn:ANd9GcQlvVlXR1A6wjtnCEiIespTodVT-RSuxyBolyyPx25C3RLbiJUZC2BmKmY\" width=100 height=100 />\n<figcaption >beard:0.0152</figcaption>\n<figcaption >mustache:0.0005</figcaption>\n<figcaption >goatee:0.0001</figcaption>\n</figure><figure style=\"display:inline-block\"><img src=\"http://t0.gstatic.com/images?q=tbn:ANd9GcQE-vwX7bM9Vt1GCTu1N7qVGhrskv2xsPcn1gyx45ht0U1tfeuT1tYirS8X\" width=100 height=100 />\n<figcaption style=\"background-color:yellow\">mustache:0.5104</figcaption>\n<figcaption >beard:0.0001</figcaption>\n<figcaption >goatee:0.0000</figcaption>\n</figure><figure style=\"display:inline-block\"><img src=\"http://t0.gstatic.com/images?q=tbn:ANd9GcQ0npOX3Ies96apvd6plfSszhgsfa7mSiRAd4Q5BUWn8PrF3YxiUVPh9dw\" width=100 height=100 />\n<figcaption >beard:0.0849</figcaption>\n<figcaption >mustache:0.0026</figcaption>\n<figcaption >goatee:0.0000</figcaption>\n</figure><figure style=\"display:inline-block\"><img src=\"http://t0.gstatic.com/images?q=tbn:ANd9GcSTA2Sm737kc6_X-Jjqt7BOSdBojNngissDGM-4A6YXYaQ3xu_XhFeXWQ\" width=100 height=100 />\n<figcaption >beard:0.0306</figcaption>\n<figcaption >goatee:0.0012</figcaption>\n<figcaption >mustache:0.0000</figcaption>\n</figure><figure style=\"display:inline-block\"><img src=\"http://t0.gstatic.com/images?q=tbn:ANd9GcR0-wu0d6cO0MdJBb8J_ewWDTjdQ4zbd_x4S09TAgy3c-GkGtUyueARMFi7\" width=100 height=100 />\n<figcaption >mustache:0.0618</figcaption>\n<figcaption >beard:0.0011</figcaption>\n<figcaption >goatee:0.0000</figcaption>\n</figure><figure style=\"display:inline-block\"><img src=\"http://t0.gstatic.com/images?q=tbn:ANd9GcS4MHs__x9DVZDiMMWI_aAo0yC6Y1btgcX0o9Pptgkt_KK5NM2B_S5MvzRf\" width=100 height=100 />\n<figcaption >goatee:0.4349</figcaption>\n<figcaption >mustache:0.0035</figcaption>\n<figcaption >beard:0.0000</figcaption>\n</figure><figure style=\"display:inline-block\"><img src=\"http://t0.gstatic.com/images?q=tbn:ANd9GcRSXZijHgdwBc6vU6eqKVp6dNBg08XX43vl8hVvFhWTtrCaxFf46nOrbCi0\" width=100 height=100 />\n<figcaption >beard:0.0058</figcaption>\n<figcaption >mustache:0.0008</figcaption>\n<figcaption >goatee:0.0000</figcaption>\n</figure><figure style=\"display:inline-block\"><img src=\"http://t0.gstatic.com/images?q=tbn:ANd9GcT2QkJcWkfTEh_wGRwfrHUP1LYDuItS_E-wWBwdrjooha9rRZjSZBKLOL8\" width=100 height=100 />\n<figcaption >mustache:0.2007</figcaption>\n<figcaption >beard:0.0005</figcaption>\n<figcaption >goatee:0.0000</figcaption>\n</figure><figure style=\"display:inline-block\"><img src=\"http://t0.gstatic.com/images?q=tbn:ANd9GcTzq8rcD8L0rAKNO-_7-lm-bV2lpmxi0oUUx7Y44MO_VT_xd8rn4mWvbcY\" width=100 height=100 />\n<figcaption >mustache:0.0198</figcaption>\n<figcaption >beard:0.0019</figcaption>\n<figcaption >goatee:0.0003</figcaption>\n</figure><figure style=\"display:inline-block\"><img src=\"http://t0.gstatic.com/images?q=tbn:ANd9GcQGJbc0hOXpKE4FU5FNOjgcx8hzWyr752WFoyp36aQx8j4R_1iA0_8hasQ\" width=100 height=100 />\n<figcaption style=\"background-color:green\">mustache:0.9106</figcaption>\n<figcaption >beard:0.0001</figcaption>\n<figcaption >goatee:0.0000</figcaption>\n</figure><figure style=\"display:inline-block\"><img src=\"http://t0.gstatic.com/images?q=tbn:ANd9GcQshGYs2AIAG4MV_8SgXnz8GVBD4GBTmtban1zB5XPt-bxcKudE4GybObNx\" width=100 height=100 />\n<figcaption >mustache:0.0016</figcaption>\n<figcaption >beard:0.0003</figcaption>\n<figcaption >goatee:0.0001</figcaption>\n</figure>"
      ],
      "text/plain": [
       "<IPython.core.display.HTML object>"
      ]
     },
     "metadata": {},
     "output_type": "display_data"
    },
    {
     "data": {
      "text/html": [
       "<h3>Celebrity Clean Shaven...</h3>"
      ],
      "text/plain": [
       "<IPython.core.display.HTML object>"
      ]
     },
     "metadata": {},
     "output_type": "display_data"
    },
    {
     "data": {
      "text/html": [
       "<figure style=\"display:inline-block\"><img src=\"http://t0.gstatic.com/images?q=tbn:ANd9GcToWLpHhsf6G71cJks4w-FJPqkvQGrb7CHC8cspiXGe5Ouw4Vuriqptgd8\" width=100 height=100 />\n<figcaption >goatee:0.0467</figcaption>\n<figcaption >beard:0.0093</figcaption>\n<figcaption >mustache:0.0005</figcaption>\n</figure><figure style=\"display:inline-block\"><img src=\"http://t0.gstatic.com/images?q=tbn:ANd9GcSIXJy4AkhNhEfknoVcwaVk73-GLQcQNA0NCithBykitXIucTR7jtmlboBr\" width=100 height=100 />\n<figcaption style=\"background-color:yellow\">goatee:0.6474</figcaption>\n<figcaption >mustache:0.0041</figcaption>\n<figcaption >beard:0.0001</figcaption>\n</figure><figure style=\"display:inline-block\"><img src=\"http://t0.gstatic.com/images?q=tbn:ANd9GcSA2E4ocPlhU6p63lUvwIrtdyz21482g7gkgGzcIh5o9PG58QYuqMtEqtc8\" width=100 height=100 />\n<figcaption style=\"background-color:yellow\">mustache:0.7252</figcaption>\n<figcaption >goatee:0.2075</figcaption>\n<figcaption >beard:0.0000</figcaption>\n</figure><figure style=\"display:inline-block\"><img src=\"http://t0.gstatic.com/images?q=tbn:ANd9GcQq2bWAmpWBUlgUf_diKsS6oJ1ge-g-8s7SUZYqBMrB_ZbjUZClateFIU4\" width=100 height=100 />\n<figcaption style=\"background-color:yellow\">mustache:0.8758</figcaption>\n<figcaption >goatee:0.0006</figcaption>\n<figcaption >beard:0.0001</figcaption>\n</figure><figure style=\"display:inline-block\"><img src=\"http://t0.gstatic.com/images?q=tbn:ANd9GcRCl-IPe19U3CYo2BvCasUg1t3aq11zrkHHgYC3nZ9jfgY_yW9t-uxfbQ-j\" width=100 height=100 />\n<figcaption style=\"background-color:green\">mustache:0.9511</figcaption>\n<figcaption >beard:0.0042</figcaption>\n<figcaption >goatee:0.0000</figcaption>\n</figure><figure style=\"display:inline-block\"><img src=\"http://t0.gstatic.com/images?q=tbn:ANd9GcT1FVCfdtPYDQkvxwkUr_w36X5DrQI12mitNNTotunGhSNAYaNjqnK00zhN\" width=100 height=100 />\n<figcaption style=\"background-color:yellow\">mustache:0.6359</figcaption>\n<figcaption >goatee:0.0002</figcaption>\n<figcaption >beard:0.0001</figcaption>\n</figure><figure style=\"display:inline-block\"><img src=\"http://t0.gstatic.com/images?q=tbn:ANd9GcR81qV2u_wZVuoWqFi7NjRHQ483ASWO7n2rI33UaV7OhDP86j3Zb1OtFO4\" width=100 height=100 />\n<figcaption >mustache:0.4380</figcaption>\n<figcaption >beard:0.0089</figcaption>\n<figcaption >goatee:0.0000</figcaption>\n</figure><figure style=\"display:inline-block\"><img src=\"http://t0.gstatic.com/images?q=tbn:ANd9GcSYY5XQmzBJ7SIZhc4j0QeKaLzAHlbXSzEsUnXgEtPFYdBWaawD8ZxnvcU7\" width=100 height=100 />\n<figcaption style=\"background-color:yellow\">goatee:0.7775</figcaption>\n<figcaption >mustache:0.0363</figcaption>\n<figcaption >beard:0.0000</figcaption>\n</figure><figure style=\"display:inline-block\"><img src=\"http://t0.gstatic.com/images?q=tbn:ANd9GcRarR0QzA140jf_3mb-rPrcnSCrsUtsqqh2fUQSXe5RgEmBxBzSJ7rAndU\" width=100 height=100 />\n<figcaption >beard:0.3129</figcaption>\n<figcaption >goatee:0.0025</figcaption>\n<figcaption >mustache:0.0021</figcaption>\n</figure><figure style=\"display:inline-block\"><img src=\"http://t0.gstatic.com/images?q=tbn:ANd9GcS4MbOYBX-COzKhnHhUUNqvDSO_ujUfs-8N3N_tevzHWFdF6qnrZb1os5c\" width=100 height=100 />\n<figcaption >mustache:0.2615</figcaption>\n<figcaption >goatee:0.0614</figcaption>\n<figcaption >beard:0.0000</figcaption>\n</figure>"
      ],
      "text/plain": [
       "<IPython.core.display.HTML object>"
      ]
     },
     "metadata": {},
     "output_type": "display_data"
    }
   ],
   "source": [
    "display(HTML(\"<h3>Celebrity Female...</h3>\"))\n",
    "display_results(celebrity_female_results)\n",
    "display(HTML(\"<h3>Celebrity Clean Shaven...</h3>\"))\n",
    "display_results(celebrity_cleanshaven_results)\n"
   ]
  },
  {
   "cell_type": "markdown",
   "metadata": {
    "ein.tags": "worksheet-0",
    "slideshow": {
     "slide_type": "-"
    }
   },
   "source": [
    "There are slightly fewer false positives. "
   ]
  },
  {
   "cell_type": "code",
   "execution_count": 68,
   "metadata": {
    "autoscroll": false,
    "collapsed": false,
    "ein.tags": "worksheet-0",
    "slideshow": {
     "slide_type": "-"
    }
   },
   "outputs": [],
   "source": [
    "\n"
   ]
  }
 ],
 "metadata": {
  "kernelspec": {
   "display_name": "Python 3",
   "name": "python3"
  },
  "language_info": {
   "codemirror_mode": {
    "name": "ipython",
    "version": 3
   },
   "file_extension": ".py",
   "mimetype": "text/x-python",
   "name": "python",
   "nbconvert_exporter": "python",
   "pygments_lexer": "ipython3",
   "version": "3.6.2"
  },
  "name": "TestClarifaiFacehair-CloseCropped.ipynb"
 },
 "nbformat": 4,
 "nbformat_minor": 2
}
