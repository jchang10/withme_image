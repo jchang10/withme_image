{
 "cells": [
  {
   "cell_type": "code",
   "execution_count": 56,
   "metadata": {
    "autoscroll": false,
    "collapsed": false,
    "ein.tags": "worksheet-0",
    "slideshow": {
     "slide_type": "-"
    }
   },
   "outputs": [],
   "source": [
    "#Clean slate. Now attempt to train a custom model for Facehairs, specifically.\n",
    "# concepts: beard, mustache, goatee, soupatch\n",
    "\n",
    "DEBUG=True\n",
    "\n",
    "import os, pprint, json\n",
    "\n",
    "os.environ['CLARIFAI_API_KEY'] = 'd25bcdb70b4d4c97a9bd858f3b2ad8de'\n",
    "from clarifai import rest\n",
    "from clarifai.rest import ClarifaiApp, Image, Concept\n",
    "app = ClarifaiApp()\n",
    "model = app.models.get('mymodel')\n",
    "workflow = app.workflows.get('myworkflow')\n",
    "\n"
   ]
  },
  {
   "cell_type": "code",
   "execution_count": 28,
   "metadata": {
    "autoscroll": false,
    "collapsed": false,
    "ein.tags": "worksheet-0",
    "slideshow": {
     "slide_type": "-"
    }
   },
   "outputs": [],
   "source": [
    "#initial inputs\n",
    "    #beards\n",
    "images_beard_urls = [\n",
    "'http://t0.gstatic.com/images?q=tbn:ANd9GcTXJLpT9D5i22ixU5gJ5AcNZWMEJTp-AsQbTGQ70tSkcv98BDRQe1LbnA',\n",
    "'http://t0.gstatic.com/images?q=tbn:ANd9GcRjdir6DVo4URhPKwdUdRKa1ocpISnsxV9qyIIKUUxux6RyoxnPelkCdFn4Tg',\n",
    "'http://t0.gstatic.com/images?q=tbn:ANd9GcRKj_pvjDdei3HrKlMHuUXfTrJ_m9ALW-LDB7w3XtxrFOERaC7E-a5aZgCE',\n",
    "'http://t0.gstatic.com/images?q=tbn:ANd9GcQDRtpvceYd-hdhFT6qJMixm72m0MvoCjpjFPUrsdUHyweCyoU6NOryRTM',\n",
    "'http://t0.gstatic.com/images?q=tbn:ANd9GcSGGnbCNEzdN5VgSEP8QxeGwElNQpcMmKRdLqoDGNvjY74lDTTFD7y8a3tZ',\n",
    "'http://t0.gstatic.com/images?q=tbn:ANd9GcT2OwcIAJTbiv-RazD_mmDEDllVmwpQF6xJcE29s_orGhhuWkw6koen7Zc',\n",
    "'http://t0.gstatic.com/images?q=tbn:ANd9GcQmGiXa6vFoo7EHaJiWi6O1hCdgkl-B7cA8ZGLnfzK9WFdUpyau9JFFIeQ',\n",
    "'http://t0.gstatic.com/images?q=tbn:ANd9GcT1bG-4JdJyP5Ji8QJO0Ypy28kdljaMxk7nERme_pcXH0K3EdWURZMNtA24',\n",
    "'http://t0.gstatic.com/images?q=tbn:ANd9GcTaJAwtxuXCu0v5G4I6Lqgade6j1QKc3BwMQncTZb-yw6rVAKZWjj6wyX8u',\n",
    "'http://t0.gstatic.com/images?q=tbn:ANd9GcTpgh6IfD5StH4YGyjyF_6Mepwg0-l0nLn5rhVAnf-avqwUAOCzojhp8UQ',\n",
    "'http://t0.gstatic.com/images?q=tbn:ANd9GcTO780txm0LP2lFa9PxlWxBXlQymcnTtjEUSZqcPgm3tUmdogO2b-hEr9g',\n",
    "'http://t0.gstatic.com/images?q=tbn:ANd9GcSr-L7PyOr4bpP-xDPl5saPPZKaR6VCDO94YUmkfhslw-KmpYm0f8Y---M',\n",
    "'http://t0.gstatic.com/images?q=tbn:ANd9GcS_YGf3f2blhsFj6rs-LRFnQpamsjKO5JZhzZ2YIJkDVZ-Wo1A5nrqkrjE',\n",
    "'http://t0.gstatic.com/images?q=tbn:ANd9GcR40rF9HM27uXGntc1VRx0FQYAvKloYX8y_jpQNy-IKJabET-cND05SmSp7',\n",
    "    'http://t0.gstatic.com/images?q=tbn:ANd9GcST0SOsxhHMPWHjfh5vJZoh9SwD9hr0vygMGyumWJ6aKRnpy7ykbe6w-ByN',\n",
    "    ]\n",
    "#goatees\n",
    "images_goatee_urls = [\n",
    "'http://t0.gstatic.com/images?q=tbn:ANd9GcTHGkfevizd6jySLneD8Z4xR-VVuzHHJVGqhO5GBFOWgAhaJz52xunEFAJ_',\n",
    "'http://t0.gstatic.com/images?q=tbn:ANd9GcStxv-LVU5dhqyvpu_mtl0s335g2M1jkKp4izm6S5hlyaWvev4r3F2AVVk',\n",
    "'http://t0.gstatic.com/images?q=tbn:ANd9GcSW67_G8U_p-12mm-EccJgObZe2MaScxz25EV6aeEI61IprJ0LJrDQCwJTX1A',\n",
    "'http://t0.gstatic.com/images?q=tbn:ANd9GcQpZkWV3H3kmHSOsdRwd3_DmjtgqgUqSBdxdfAiGfslEUxXr_t7Krk3zhmg',\n",
    "'http://t0.gstatic.com/images?q=tbn:ANd9GcQgN5NEcmlciocU_HR5DsvQRRPCj6EXAIiFtEdnkAjOkPPtnxUsjEW6wa2zyQ',\n",
    "'http://t0.gstatic.com/images?q=tbn:ANd9GcStKQHgamUcelKyvTBztnFik--uf27B3MWa2f_RCvanVl60kyZ-R73xYo4',\n",
    "'http://t0.gstatic.com/images?q=tbn:ANd9GcRLLleEZmSgNJ9Kz-Z6iCJVu6XmsDNM1QuT2eFipSOvqel2JwyIKIPfqnwG',\n",
    "'http://t0.gstatic.com/images?q=tbn:ANd9GcQpMTKfGnSXjsxiZKohuwGG5PjntZioqd9XWs-tNKVt_IWAkyFVL8LA8AlN',\n",
    "'http://t0.gstatic.com/images?q=tbn:ANd9GcT6WXeqMlk7F5d_5QzL_nWb01n_gnKVotrn6QqjT8yDYv1f6kEKjqD5H-qy',\n",
    "]\n",
    "#mustaches\n",
    "images_mustache_urls = [\n",
    "'http://t0.gstatic.com/images?q=tbn:ANd9GcTeu7Ab-_5qEj46x7kl8_NW5A0K__j5Dh1ISKb35bNQ0OvJoLJHfGdtqXao',\n",
    "'http://t0.gstatic.com/images?q=tbn:ANd9GcTCvrX8DqERsxnBIRc6zLOWyDnEtsoFSCTc9SdkZTKQBFmTzr5oY2r0aLF7',\n",
    "'http://t0.gstatic.com/images?q=tbn:ANd9GcTMfJp2ho2mDuOaBzdn9-7GyCynxmSGmeAfNXIQgLtT2X1WNHt3bf4NbDY',\n",
    "'http://t0.gstatic.com/images?q=tbn:ANd9GcTcAoGAtdERw9zYe8Ng_lFptDU0KiAdKsp8F9nA7V4-lgsXflOuY4blfySj',\n",
    "'http://t0.gstatic.com/images?q=tbn:ANd9GcR52ZQKu1gaPJRitbAvpZLzuo4LmglA5AueQQdKYMh7YcRPhm6lwd_k1eAr',\n",
    "'http://t0.gstatic.com/images?q=tbn:ANd9GcSIwl-fFcImrd9SAE6AUo6zGHs7GbZ1uVo8680hYiBxT1bg_YjfvDx4yNIC',\n",
    "'http://t0.gstatic.com/images?q=tbn:ANd9GcRtyIqEyh10qMxsDQ8PFJSuQ5xns44BcdslVDuZD3Ivhvp0w04mum-_fY4',\n",
    "'http://t0.gstatic.com/images?q=tbn:ANd9GcTTXw3HKhfNtTCeZuSyz4-VGYvvPfU5Ic4T_jTOXcMFzIj93CfsqpDXolJW',\n",
    "'http://t0.gstatic.com/images?q=tbn:ANd9GcQ0YXV_8Wx45BymOeBn36odw3qPHG5MmBdaEUioxtN5rIzmFtkoZ5PqOSc',\n",
    "'http://t0.gstatic.com/images?q=tbn:ANd9GcTUzN4fpPQL4roEPQsJLAEMftas_tIJNzNnG1McuV_wea9G5TY_bmssv7F5',\n",
    "'http://t0.gstatic.com/images?q=tbn:ANd9GcQ_EzdsqGog_jgNsnhsoiNhe97VfhQZSuL5I-FRS808ObdsNn4DUchaHOi4',\n",
    "'http://t0.gstatic.com/images?q=tbn:ANd9GcSO3YuuS-w_waqUQb8YvwGRlRNH_znAIuRExMp5KZdnbwLKlUO_QIyag9w',\n",
    "'http://t0.gstatic.com/images?q=tbn:ANd9GcQ1oTIO8bdR9KGxrQZQeESNclflWc5GS7PZyyN1Gfea3zXRH-bCVceJfzjf',\n",
    "'http://t0.gstatic.com/images?q=tbn:ANd9GcRT6xOvXJIR2L_VqUOj0xqe3VCq-jHzu-Wjpiu2sEPBWjENgyRHSrshwnY',\n",
    "'http://t0.gstatic.com/images?q=tbn:ANd9GcQhzQ8sjMcieBYcGP899svIBkUzMgD5F7eATZC8vMbbOktXx0IWDnuja3sz',\n",
    "]\n",
    "#soulpatches\n",
    "\n",
    "def test_inputs(concept, images_urls):\n",
    "    images = []\n",
    "    for url in images_urls:\n",
    "        images.append(Image(url=url,concepts=[concept]))\n",
    "    return app.inputs.bulk_create_images(images)\n",
    "\n",
    "results = test_inputs('beard',images_beard_urls)\n",
    "results = test_inputs('goatee',images_goatee_urls)\n",
    "results = test_inputs('mustache',images_mustache_urls)\n"
   ]
  },
  {
   "cell_type": "code",
   "execution_count": 19,
   "metadata": {
    "autoscroll": false,
    "collapsed": false,
    "ein.tags": "worksheet-0",
    "slideshow": {
     "slide_type": "-"
    }
   },
   "outputs": [
    {
     "name": "stdout",
     "output_type": "stream",
     "text": [
      "beard inputs...\n"
     ]
    },
    {
     "data": {
      "text/html": [
       "<figure style=\"display:inline-block\"><img src=\"http://t0.gstatic.com/images?q=tbn:ANd9GcTXJLpT9D5i22ixU5gJ5AcNZWMEJTp-AsQbTGQ70tSkcv98BDRQe1LbnA\" width=100 height=100 />\n",
       "</figure><figure style=\"display:inline-block\"><img src=\"http://t0.gstatic.com/images?q=tbn:ANd9GcRjdir6DVo4URhPKwdUdRKa1ocpISnsxV9qyIIKUUxux6RyoxnPelkCdFn4Tg\" width=100 height=100 />\n",
       "</figure><figure style=\"display:inline-block\"><img src=\"http://t0.gstatic.com/images?q=tbn:ANd9GcRKj_pvjDdei3HrKlMHuUXfTrJ_m9ALW-LDB7w3XtxrFOERaC7E-a5aZgCE\" width=100 height=100 />\n",
       "</figure><figure style=\"display:inline-block\"><img src=\"http://t0.gstatic.com/images?q=tbn:ANd9GcQDRtpvceYd-hdhFT6qJMixm72m0MvoCjpjFPUrsdUHyweCyoU6NOryRTM\" width=100 height=100 />\n",
       "</figure><figure style=\"display:inline-block\"><img src=\"http://t0.gstatic.com/images?q=tbn:ANd9GcSGGnbCNEzdN5VgSEP8QxeGwElNQpcMmKRdLqoDGNvjY74lDTTFD7y8a3tZ\" width=100 height=100 />\n",
       "</figure><figure style=\"display:inline-block\"><img src=\"http://t0.gstatic.com/images?q=tbn:ANd9GcT2OwcIAJTbiv-RazD_mmDEDllVmwpQF6xJcE29s_orGhhuWkw6koen7Zc\" width=100 height=100 />\n",
       "</figure><figure style=\"display:inline-block\"><img src=\"http://t0.gstatic.com/images?q=tbn:ANd9GcQmGiXa6vFoo7EHaJiWi6O1hCdgkl-B7cA8ZGLnfzK9WFdUpyau9JFFIeQ\" width=100 height=100 />\n",
       "</figure><figure style=\"display:inline-block\"><img src=\"http://t0.gstatic.com/images?q=tbn:ANd9GcT1bG-4JdJyP5Ji8QJO0Ypy28kdljaMxk7nERme_pcXH0K3EdWURZMNtA24\" width=100 height=100 />\n",
       "</figure><figure style=\"display:inline-block\"><img src=\"http://t0.gstatic.com/images?q=tbn:ANd9GcTaJAwtxuXCu0v5G4I6Lqgade6j1QKc3BwMQncTZb-yw6rVAKZWjj6wyX8u\" width=100 height=100 />\n",
       "</figure><figure style=\"display:inline-block\"><img src=\"http://t0.gstatic.com/images?q=tbn:ANd9GcTpgh6IfD5StH4YGyjyF_6Mepwg0-l0nLn5rhVAnf-avqwUAOCzojhp8UQ\" width=100 height=100 />\n",
       "</figure><figure style=\"display:inline-block\"><img src=\"http://t0.gstatic.com/images?q=tbn:ANd9GcTO780txm0LP2lFa9PxlWxBXlQymcnTtjEUSZqcPgm3tUmdogO2b-hEr9g\" width=100 height=100 />\n",
       "</figure><figure style=\"display:inline-block\"><img src=\"http://t0.gstatic.com/images?q=tbn:ANd9GcSr-L7PyOr4bpP-xDPl5saPPZKaR6VCDO94YUmkfhslw-KmpYm0f8Y---M\" width=100 height=100 />\n",
       "</figure><figure style=\"display:inline-block\"><img src=\"http://t0.gstatic.com/images?q=tbn:ANd9GcS_YGf3f2blhsFj6rs-LRFnQpamsjKO5JZhzZ2YIJkDVZ-Wo1A5nrqkrjE\" width=100 height=100 />\n",
       "</figure><figure style=\"display:inline-block\"><img src=\"http://t0.gstatic.com/images?q=tbn:ANd9GcR40rF9HM27uXGntc1VRx0FQYAvKloYX8y_jpQNy-IKJabET-cND05SmSp7\" width=100 height=100 />\n",
       "</figure><figure style=\"display:inline-block\"><img src=\"http://t0.gstatic.com/images?q=tbn:ANd9GcST0SOsxhHMPWHjfh5vJZoh9SwD9hr0vygMGyumWJ6aKRnpy7ykbe6w-ByN\" width=100 height=100 />\n",
       "</figure>"
      ],
      "text/plain": [
       "<IPython.core.display.HTML object>"
      ]
     },
     "metadata": {},
     "output_type": "display_data"
    },
    {
     "name": "stdout",
     "output_type": "stream",
     "text": [
      "goatee inputs...\n"
     ]
    },
    {
     "data": {
      "text/html": [
       "<figure style=\"display:inline-block\"><img src=\"http://t0.gstatic.com/images?q=tbn:ANd9GcTHGkfevizd6jySLneD8Z4xR-VVuzHHJVGqhO5GBFOWgAhaJz52xunEFAJ_\" width=100 height=100 />\n",
       "</figure><figure style=\"display:inline-block\"><img src=\"http://t0.gstatic.com/images?q=tbn:ANd9GcStxv-LVU5dhqyvpu_mtl0s335g2M1jkKp4izm6S5hlyaWvev4r3F2AVVk\" width=100 height=100 />\n",
       "</figure><figure style=\"display:inline-block\"><img src=\"http://t0.gstatic.com/images?q=tbn:ANd9GcSW67_G8U_p-12mm-EccJgObZe2MaScxz25EV6aeEI61IprJ0LJrDQCwJTX1A\" width=100 height=100 />\n",
       "</figure><figure style=\"display:inline-block\"><img src=\"http://t0.gstatic.com/images?q=tbn:ANd9GcQpZkWV3H3kmHSOsdRwd3_DmjtgqgUqSBdxdfAiGfslEUxXr_t7Krk3zhmg\" width=100 height=100 />\n",
       "</figure><figure style=\"display:inline-block\"><img src=\"http://t0.gstatic.com/images?q=tbn:ANd9GcQgN5NEcmlciocU_HR5DsvQRRPCj6EXAIiFtEdnkAjOkPPtnxUsjEW6wa2zyQ\" width=100 height=100 />\n",
       "</figure><figure style=\"display:inline-block\"><img src=\"http://t0.gstatic.com/images?q=tbn:ANd9GcStKQHgamUcelKyvTBztnFik--uf27B3MWa2f_RCvanVl60kyZ-R73xYo4\" width=100 height=100 />\n",
       "</figure><figure style=\"display:inline-block\"><img src=\"http://t0.gstatic.com/images?q=tbn:ANd9GcRLLleEZmSgNJ9Kz-Z6iCJVu6XmsDNM1QuT2eFipSOvqel2JwyIKIPfqnwG\" width=100 height=100 />\n",
       "</figure><figure style=\"display:inline-block\"><img src=\"http://t0.gstatic.com/images?q=tbn:ANd9GcQpMTKfGnSXjsxiZKohuwGG5PjntZioqd9XWs-tNKVt_IWAkyFVL8LA8AlN\" width=100 height=100 />\n",
       "</figure><figure style=\"display:inline-block\"><img src=\"http://t0.gstatic.com/images?q=tbn:ANd9GcT6WXeqMlk7F5d_5QzL_nWb01n_gnKVotrn6QqjT8yDYv1f6kEKjqD5H-qy\" width=100 height=100 />\n",
       "</figure>"
      ],
      "text/plain": [
       "<IPython.core.display.HTML object>"
      ]
     },
     "metadata": {},
     "output_type": "display_data"
    },
    {
     "name": "stdout",
     "output_type": "stream",
     "text": [
      "mustache inputs...\n"
     ]
    },
    {
     "data": {
      "text/html": [
       "<figure style=\"display:inline-block\"><img src=\"http://t0.gstatic.com/images?q=tbn:ANd9GcTeu7Ab-_5qEj46x7kl8_NW5A0K__j5Dh1ISKb35bNQ0OvJoLJHfGdtqXao\" width=100 height=100 />\n",
       "</figure><figure style=\"display:inline-block\"><img src=\"http://t0.gstatic.com/images?q=tbn:ANd9GcTCvrX8DqERsxnBIRc6zLOWyDnEtsoFSCTc9SdkZTKQBFmTzr5oY2r0aLF7\" width=100 height=100 />\n",
       "</figure><figure style=\"display:inline-block\"><img src=\"http://t0.gstatic.com/images?q=tbn:ANd9GcTMfJp2ho2mDuOaBzdn9-7GyCynxmSGmeAfNXIQgLtT2X1WNHt3bf4NbDY\" width=100 height=100 />\n",
       "</figure><figure style=\"display:inline-block\"><img src=\"http://t0.gstatic.com/images?q=tbn:ANd9GcTcAoGAtdERw9zYe8Ng_lFptDU0KiAdKsp8F9nA7V4-lgsXflOuY4blfySj\" width=100 height=100 />\n",
       "</figure><figure style=\"display:inline-block\"><img src=\"http://t0.gstatic.com/images?q=tbn:ANd9GcR52ZQKu1gaPJRitbAvpZLzuo4LmglA5AueQQdKYMh7YcRPhm6lwd_k1eAr\" width=100 height=100 />\n",
       "</figure><figure style=\"display:inline-block\"><img src=\"http://t0.gstatic.com/images?q=tbn:ANd9GcSIwl-fFcImrd9SAE6AUo6zGHs7GbZ1uVo8680hYiBxT1bg_YjfvDx4yNIC\" width=100 height=100 />\n",
       "</figure><figure style=\"display:inline-block\"><img src=\"http://t0.gstatic.com/images?q=tbn:ANd9GcRtyIqEyh10qMxsDQ8PFJSuQ5xns44BcdslVDuZD3Ivhvp0w04mum-_fY4\" width=100 height=100 />\n",
       "</figure><figure style=\"display:inline-block\"><img src=\"http://t0.gstatic.com/images?q=tbn:ANd9GcTTXw3HKhfNtTCeZuSyz4-VGYvvPfU5Ic4T_jTOXcMFzIj93CfsqpDXolJW\" width=100 height=100 />\n",
       "</figure><figure style=\"display:inline-block\"><img src=\"http://t0.gstatic.com/images?q=tbn:ANd9GcQ0YXV_8Wx45BymOeBn36odw3qPHG5MmBdaEUioxtN5rIzmFtkoZ5PqOSc\" width=100 height=100 />\n",
       "</figure><figure style=\"display:inline-block\"><img src=\"http://t0.gstatic.com/images?q=tbn:ANd9GcTUzN4fpPQL4roEPQsJLAEMftas_tIJNzNnG1McuV_wea9G5TY_bmssv7F5\" width=100 height=100 />\n",
       "</figure><figure style=\"display:inline-block\"><img src=\"http://t0.gstatic.com/images?q=tbn:ANd9GcQ_EzdsqGog_jgNsnhsoiNhe97VfhQZSuL5I-FRS808ObdsNn4DUchaHOi4\" width=100 height=100 />\n",
       "</figure><figure style=\"display:inline-block\"><img src=\"http://t0.gstatic.com/images?q=tbn:ANd9GcSO3YuuS-w_waqUQb8YvwGRlRNH_znAIuRExMp5KZdnbwLKlUO_QIyag9w\" width=100 height=100 />\n",
       "</figure><figure style=\"display:inline-block\"><img src=\"http://t0.gstatic.com/images?q=tbn:ANd9GcQ1oTIO8bdR9KGxrQZQeESNclflWc5GS7PZyyN1Gfea3zXRH-bCVceJfzjf\" width=100 height=100 />\n",
       "</figure><figure style=\"display:inline-block\"><img src=\"http://t0.gstatic.com/images?q=tbn:ANd9GcRT6xOvXJIR2L_VqUOj0xqe3VCq-jHzu-Wjpiu2sEPBWjENgyRHSrshwnY\" width=100 height=100 />\n",
       "</figure><figure style=\"display:inline-block\"><img src=\"http://t0.gstatic.com/images?q=tbn:ANd9GcQhzQ8sjMcieBYcGP899svIBkUzMgD5F7eATZC8vMbbOktXx0IWDnuja3sz\" width=100 height=100 />\n",
       "</figure>"
      ],
      "text/plain": [
       "<IPython.core.display.HTML object>"
      ]
     },
     "metadata": {},
     "output_type": "display_data"
    }
   ],
   "source": [
    "#display all inputs\n",
    "\n",
    "from IPython.core.display import display, HTML\n",
    "\n",
    "def display_inputs(urls):\n",
    "    htmlstr = ''\n",
    "    for _url in urls:\n",
    "        htmlstr += f'<figure style=\"display:inline-block\"><img src=\"{url}\" width=100 height=100 />\\n'\n",
    "        htmlstr += '</figure>'\n",
    "    display(HTML(htmlstr))\n",
    "\n",
    "print('beard inputs...')\n",
    "display_inputs(images_beard_urls)\n",
    "print('goatee inputs...')\n",
    "display_inputs(images_goatee_urls)\n",
    "print('mustache inputs...')\n",
    "display_inputs(images_mustache_urls)\n",
    "    \n"
   ]
  },
  {
   "cell_type": "code",
   "execution_count": 65,
   "metadata": {
    "autoscroll": false,
    "collapsed": false,
    "ein.tags": "worksheet-0",
    "slideshow": {
     "slide_type": "-"
    }
   },
   "outputs": [],
   "source": [
    "#let's test how well celebrity test beards score\n",
    "\n",
    "celebrity_beard_urls = [\n",
    "'http://t0.gstatic.com/images?q=tbn:ANd9GcR0ytiq47ZK_zePAEjKWQNrtrilmFng9Y-oIPgTa3OmDUDomNpUFHcvBHgY',\n",
    "'http://t0.gstatic.com/images?q=tbn:ANd9GcRZCqYg4nlgf6FtiniiiA2LsGRm0ySKcEbSdhJVi11zcKYGumfy2FFjgxU',\n",
    "'http://t0.gstatic.com/images?q=tbn:ANd9GcRs6cSyBkDa84QA6F1MCUkILVETkzibhgWkDl4mtiMIpL1qj8sAipZKFMc',\n",
    "'http://t0.gstatic.com/images?q=tbn:ANd9GcQwL_9CxhyOdh5FicVFcl4LWajfrHuIeL2HNl_6vppX7vUEPQejXmFuULEQ',\n",
    "'http://t0.gstatic.com/images?q=tbn:ANd9GcSVkoAybwnHJtUPNJER-aIY1PyRvImddg6QRUB0zvzieTwl3XgmyzQu9pA',\n",
    "'http://t0.gstatic.com/images?q=tbn:ANd9GcRdh380M6ppSY6AKt5-otJ9yCbF0cJ96bxqc_rFV6-5KZAmtk9p7epku-Y',\n",
    "'http://t0.gstatic.com/images?q=tbn:ANd9GcSvGLHJNv_-12sR83LzUNCNEMagGZmltJ1cVVJxH0C_GubS6v8ln1vkD2w',\n",
    "'http://t0.gstatic.com/images?q=tbn:ANd9GcSs8HK9IR5uvmA46aoqQ-KCpRorbApHuoLjytqfGJojDjy4JeRJJ3tF7NXt',\n",
    "'http://t0.gstatic.com/images?q=tbn:ANd9GcRsG2XYapNgxU9rpdxA8ezcFPt9eosKiXsFoJRMAXctlHKGlc4SE_LTs7k',\n",
    "'http://t0.gstatic.com/images?q=tbn:ANd9GcSkVdDMFFNZN2OhQGD7wC2nxhZZxwWErTukXiorbuSdBaaYPm3402beIafY',\n",
    "'http://t0.gstatic.com/images?q=tbn:ANd9GcRTvie4U_K0AsAg1vhKryw3iFOaw3dWJBLvMqfp3tup7iMQkXZ3qeEgK77i',\n",
    "'http://t0.gstatic.com/images?q=tbn:ANd9GcQ0X6buzdBPGz6TobLG_gJ0jpYhHLI5ujMJ6V0BKwTQ8VOeQzIaA0_3pKA',\n",
    "'http://t0.gstatic.com/images?q=tbn:ANd9GcQsdrhHGo59XQW7RZNTk8Px2GiIR9sjBhcgcyGs7SHJBBCAARvru79XL-yi',\n",
    "'http://t0.gstatic.com/images?q=tbn:ANd9GcQlpX0SyIfV_WJ3GBH84p_xGVgn2lBuKbonO5qxQaJ1EtZWgmf3kxHBWKY',\n",
    "'http://t0.gstatic.com/images?q=tbn:ANd9GcSI3F-ESYSlLvwfsjxP7je2EqY-l0YCxFaFbp8qRoKMPBZ9DEiBVw20Z4U',\n",
    "'http://t0.gstatic.com/images?q=tbn:ANd9GcQO9udhNnVVELrWrYXWv9vnErFoEE7BzuAF01TPtUOBksoXFO6MRnYvsZQ', # no beard but got tagged with beard\n",
    "'http://t0.gstatic.com/images?q=tbn:ANd9GcS-3kBgAe41uHbCeRXX2n7RBcgqsPFHCprKLbtuE6nhaWU2aO2IZ_FWO_g',\n",
    "'http://t0.gstatic.com/images?q=tbn:ANd9GcRsp96qWEy3E63R4G4xLaN-EqxZ3PaBnMRCB_uC_7mnwdmM1ltan6xbWAs',\n",
    "'http://t0.gstatic.com/images?q=tbn:ANd9GcT87EBp0zp4tpeIgxwKenjhWOrrrIlcjm3tq6XkCVOFpQ-XOczqlkjvJnA',\n",
    "]\n",
    "\n",
    "model = app.models.get('mymodel')\n",
    "def get_predict(image_urls):\n",
    "    results5=[]\n",
    "    beard_concept = Concept('beard')\n",
    "    goatee_concept = Concept('goatee')\n",
    "    mustache_concept = Concept('mustache')\n",
    "    for url in image_urls:\n",
    "        res = model.predict_by_url(url=url,select_concepts=[beard_concept,goatee_concept,mustache_concept])\n",
    "        results5.append(res)\n",
    "    return results5\n",
    "        \n",
    "celebrity_beard_results = get_predict(celebrity_beard_urls)\n",
    "\n",
    "        "
   ]
  },
  {
   "cell_type": "code",
   "execution_count": 66,
   "metadata": {
    "autoscroll": false,
    "collapsed": false,
    "ein.tags": "worksheet-0",
    "slideshow": {
     "slide_type": "-"
    }
   },
   "outputs": [
    {
     "data": {
      "text/plain": [
       "17"
      ]
     },
     "execution_count": 66,
     "metadata": {},
     "output_type": "execute_result"
    }
   ],
   "source": [
    "#test celebrity mustaches\n",
    "\n",
    "celebrity_mustache_urls = [\n",
    "'http://t0.gstatic.com/images?q=tbn:ANd9GcTMfJp2ho2mDuOaBzdn9-7GyCynxmSGmeAfNXIQgLtT2X1WNHt3bf4NbDY',\n",
    "'http://t0.gstatic.com/images?q=tbn:ANd9GcTL-8SoGyVSwoYIVScT-5d4KvNpGVQngCC9WBHEMACfy2YYCJL6Y3bLNpw-',\n",
    "'http://t0.gstatic.com/images?q=tbn:ANd9GcSIwl-fFcImrd9SAE6AUo6zGHs7GbZ1uVo8680hYiBxT1bg_YjfvDx4yNIC',\n",
    "'http://t0.gstatic.com/images?q=tbn:ANd9GcQ1oTIO8bdR9KGxrQZQeESNclflWc5GS7PZyyN1Gfea3zXRH-bCVceJfzjf',\n",
    "'http://t0.gstatic.com/images?q=tbn:ANd9GcRtyIqEyh10qMxsDQ8PFJSuQ5xns44BcdslVDuZD3Ivhvp0w04mum-_fY4',\n",
    "'http://t0.gstatic.com/images?q=tbn:ANd9GcSi5GMSG6s6MIbPN79gcE4wI147rIJNaIbZcTcBMXmZ47jFYMkSLsl_G3w',\n",
    "'http://t0.gstatic.com/images?q=tbn:ANd9GcTDgXmk6WHeAtr4UYkYN-0bETZdp0vSn3q5EPd6dwHMrKPd5vWwkYNNqew',\n",
    "'http://t0.gstatic.com/images?q=tbn:ANd9GcQhzQ8sjMcieBYcGP899svIBkUzMgD5F7eATZC8vMbbOktXx0IWDnuja3sz',\n",
    "'http://t0.gstatic.com/images?q=tbn:ANd9GcSBciNImyEC3JRVGdjol6P6tZ3xsqHuIOBk7ZxxtBkE1SufFN3_9Q3BTsHx',\n",
    "'http://t0.gstatic.com/images?q=tbn:ANd9GcTK29iTFxggQsv0eI9dpcElauZeTgGH-afgD211j4ZQ5mu9SInRi6uT2ZqT',\n",
    "'http://t0.gstatic.com/images?q=tbn:ANd9GcTcAoGAtdERw9zYe8Ng_lFptDU0KiAdKsp8F9nA7V4-lgsXflOuY4blfySj',\n",
    "'http://t0.gstatic.com/images?q=tbn:ANd9GcQ_EzdsqGog_jgNsnhsoiNhe97VfhQZSuL5I-FRS808ObdsNn4DUchaHOi4',\n",
    "'http://t0.gstatic.com/images?q=tbn:ANd9GcQVqUUodJnQrpCuFDhX339OlSZwn25qEgv19pPmZmzes67q2M_XoDLch4k',\n",
    "'http://t0.gstatic.com/images?q=tbn:ANd9GcSptzViii03GfvT9BP44GkrY6vJ42KRUAZoMVP4uZZOqRu6Mz7sY62zlWo',\n",
    "'http://t0.gstatic.com/images?q=tbn:ANd9GcTPyrkVE1P6kbypr8g05gNuSUBANyraQMjkUi2m5bysUjLK2OOmAIbQoCry',\n",
    "'http://t0.gstatic.com/images?q=tbn:ANd9GcTCvrX8DqERsxnBIRc6zLOWyDnEtsoFSCTc9SdkZTKQBFmTzr5oY2r0aLF7',\n",
    "'http://t0.gstatic.com/images?q=tbn:ANd9GcRyPTrIwYt4NIALLOnQbTawKoysAK8WxelPXuwOpHaJstXJK30fPL3LFyNh',\n",
    "]\n",
    "\n",
    "celebrity_mustache_results = get_predict(celebrity_mustache_urls)\n",
    "len(celebrity_mustache_results)"
   ]
  },
  {
   "cell_type": "code",
   "execution_count": 67,
   "metadata": {
    "autoscroll": false,
    "collapsed": false,
    "ein.tags": "worksheet-0",
    "slideshow": {
     "slide_type": "-"
    }
   },
   "outputs": [
    {
     "data": {
      "text/plain": [
       "15"
      ]
     },
     "execution_count": 67,
     "metadata": {},
     "output_type": "execute_result"
    }
   ],
   "source": [
    "#test celebrity goatees\n",
    "\n",
    "celebrity_goatee_urls = [\n",
    "'http://t0.gstatic.com/images?q=tbn:ANd9GcTJc_bXfLKHLuD_Jr_4jp3w1rax56C3z388jwdNrhvosgo1fiVdl2pmqX8L',\n",
    "'http://t0.gstatic.com/images?q=tbn:ANd9GcSGxkbEKQ9ULmDlGtPp4bolkXgAoQG9esZNgwLzipwzLZpzJtDz3-OoyWI',\n",
    "'http://t0.gstatic.com/images?q=tbn:ANd9GcQDS3-lKF-GYV5pCKygPuk0qfuqRsvC1ryq85iyICSTBFEzFOrStA7YsVu5',\n",
    "'http://t0.gstatic.com/images?q=tbn:ANd9GcSbqhwH8oIejRQFC7o0wXsPNvt6SnfmvXkOczDYeDpQwsKL3kTYy94tHucl',\n",
    "'http://t0.gstatic.com/images?q=tbn:ANd9GcTlaWJZSlqDRsFy1EmMwmmM9_8PTOcH0SlmkBj0MUStlBMw6hBfjyDVmf0',\n",
    "'http://t0.gstatic.com/images?q=tbn:ANd9GcQqABWgVT8KGs7r_omxNOjTH5tpMYIr0wzYXAwvSfcr5ezC5zdHRBUvhA',\n",
    "'http://t0.gstatic.com/images?q=tbn:ANd9GcQWWteuz4cAzQ87cafx5pecO6JRQlM3YONOskhKQxS_sMEt4Nq1CNKjW_0',\n",
    "'http://t0.gstatic.com/images?q=tbn:ANd9GcQbP0zEsEfN7MOIDOdq6OUK-SMbK4WNjdmEGRTT4bVraw4BAoYFCq7hMBGa',\n",
    "'http://t0.gstatic.com/images?q=tbn:ANd9GcR92M2bsFYFLLd2253e3dO3v31evevHitfAvu_UuOzGH89UAnIQJBSknDg',\n",
    "'http://t0.gstatic.com/images?q=tbn:ANd9GcTghm6D1RPAam7ZuufB5CzcAks0wfA0KNfNeAWJsd9m2VXqBGfRGzH9NMo',\n",
    "'http://t0.gstatic.com/images?q=tbn:ANd9GcTdguk0O4yM2_yXMYPVYRCyGv4XF-QTLwXTAYExm8SISV4I1yha_04YcRU',\n",
    "'http://t0.gstatic.com/images?q=tbn:ANd9GcQZ6nAzEXRVqMm9kga5ef0LLbkdktT_c7v0RuLAYO98lfl_1bhHjJm2wOS5',\n",
    "'http://t0.gstatic.com/images?q=tbn:ANd9GcRW-qtpML0tXeUSmI-jfRw74tHWPdqgpck3OrLK1Iy5gJOQvnNOuSYNog',\n",
    "'http://t0.gstatic.com/images?q=tbn:ANd9GcRCSsBAF7fEidtE8HR6Khoco32jP1iGk3KqQdova_7w-jLv5_tdQdga3Ceu',\n",
    "'http://t0.gstatic.com/images?q=tbn:ANd9GcTuZKgijybkO730m2e1eStQe_jWaX_djbTrU7G_KEjss_lufuK6dwX8ksta',\n",
    "]\n",
    "\n",
    "celebrity_goatee_results = get_predict(celebrity_goatee_urls)\n",
    "len(celebrity_goatee_results)\n"
   ]
  },
  {
   "cell_type": "code",
   "execution_count": 68,
   "metadata": {
    "autoscroll": false,
    "collapsed": false,
    "ein.tags": "worksheet-0",
    "slideshow": {
     "slide_type": "-"
    }
   },
   "outputs": [
    {
     "data": {
      "text/html": [
       "<h3>Celebrity Test Beards...</h3>"
      ],
      "text/plain": [
       "<IPython.core.display.HTML object>"
      ]
     },
     "metadata": {},
     "output_type": "display_data"
    },
    {
     "data": {
      "text/html": [
       "<figure style=\"display:inline-block\"><img src=\"http://t0.gstatic.com/images?q=tbn:ANd9GcR0ytiq47ZK_zePAEjKWQNrtrilmFng9Y-oIPgTa3OmDUDomNpUFHcvBHgY\" width=100 height=100 />\n<figcaption >mustache:0.6684</figcaption>\n<figcaption >beard:0.0258</figcaption>\n<figcaption >goatee:0.0000</figcaption>\n</figure><figure style=\"display:inline-block\"><img src=\"http://t0.gstatic.com/images?q=tbn:ANd9GcRZCqYg4nlgf6FtiniiiA2LsGRm0ySKcEbSdhJVi11zcKYGumfy2FFjgxU\" width=100 height=100 />\n<figcaption >beard:0.3519</figcaption>\n<figcaption >goatee:0.1518</figcaption>\n<figcaption >mustache:0.0000</figcaption>\n</figure><figure style=\"display:inline-block\"><img src=\"http://t0.gstatic.com/images?q=tbn:ANd9GcRs6cSyBkDa84QA6F1MCUkILVETkzibhgWkDl4mtiMIpL1qj8sAipZKFMc\" width=100 height=100 />\n<figcaption >mustache:0.9755</figcaption>\n<figcaption >beard:0.0043</figcaption>\n<figcaption >goatee:0.0005</figcaption>\n</figure><figure style=\"display:inline-block\"><img src=\"http://t0.gstatic.com/images?q=tbn:ANd9GcQwL_9CxhyOdh5FicVFcl4LWajfrHuIeL2HNl_6vppX7vUEPQejXmFuULEQ\" width=100 height=100 />\n<figcaption style=\"background-color:green\">beard:0.9519</figcaption>\n<figcaption >mustache:0.0016</figcaption>\n<figcaption >goatee:0.0006</figcaption>\n</figure><figure style=\"display:inline-block\"><img src=\"http://t0.gstatic.com/images?q=tbn:ANd9GcSVkoAybwnHJtUPNJER-aIY1PyRvImddg6QRUB0zvzieTwl3XgmyzQu9pA\" width=100 height=100 />\n<figcaption >mustache:0.1949</figcaption>\n<figcaption >beard:0.0196</figcaption>\n<figcaption >goatee:0.0047</figcaption>\n</figure><figure style=\"display:inline-block\"><img src=\"http://t0.gstatic.com/images?q=tbn:ANd9GcRdh380M6ppSY6AKt5-otJ9yCbF0cJ96bxqc_rFV6-5KZAmtk9p7epku-Y\" width=100 height=100 />\n<figcaption >mustache:0.8498</figcaption>\n<figcaption >beard:0.0034</figcaption>\n<figcaption >goatee:0.0009</figcaption>\n</figure><figure style=\"display:inline-block\"><img src=\"http://t0.gstatic.com/images?q=tbn:ANd9GcSvGLHJNv_-12sR83LzUNCNEMagGZmltJ1cVVJxH0C_GubS6v8ln1vkD2w\" width=100 height=100 />\n<figcaption >mustache:0.5889</figcaption>\n<figcaption >beard:0.0624</figcaption>\n<figcaption >goatee:0.0003</figcaption>\n</figure><figure style=\"display:inline-block\"><img src=\"http://t0.gstatic.com/images?q=tbn:ANd9GcSs8HK9IR5uvmA46aoqQ-KCpRorbApHuoLjytqfGJojDjy4JeRJJ3tF7NXt\" width=100 height=100 />\n<figcaption >beard:0.2413</figcaption>\n<figcaption >mustache:0.0015</figcaption>\n<figcaption >goatee:0.0009</figcaption>\n</figure><figure style=\"display:inline-block\"><img src=\"http://t0.gstatic.com/images?q=tbn:ANd9GcRsG2XYapNgxU9rpdxA8ezcFPt9eosKiXsFoJRMAXctlHKGlc4SE_LTs7k\" width=100 height=100 />\n<figcaption >beard:0.1125</figcaption>\n<figcaption >mustache:0.0379</figcaption>\n<figcaption >goatee:0.0098</figcaption>\n</figure><figure style=\"display:inline-block\"><img src=\"http://t0.gstatic.com/images?q=tbn:ANd9GcSkVdDMFFNZN2OhQGD7wC2nxhZZxwWErTukXiorbuSdBaaYPm3402beIafY\" width=100 height=100 />\n<figcaption >mustache:0.0347</figcaption>\n<figcaption >beard:0.0241</figcaption>\n<figcaption >goatee:0.0155</figcaption>\n</figure><figure style=\"display:inline-block\"><img src=\"http://t0.gstatic.com/images?q=tbn:ANd9GcRTvie4U_K0AsAg1vhKryw3iFOaw3dWJBLvMqfp3tup7iMQkXZ3qeEgK77i\" width=100 height=100 />\n<figcaption >goatee:0.8439</figcaption>\n<figcaption >beard:0.0290</figcaption>\n<figcaption >mustache:0.0024</figcaption>\n</figure><figure style=\"display:inline-block\"><img src=\"http://t0.gstatic.com/images?q=tbn:ANd9GcQ0X6buzdBPGz6TobLG_gJ0jpYhHLI5ujMJ6V0BKwTQ8VOeQzIaA0_3pKA\" width=100 height=100 />\n<figcaption style=\"background-color:yellow\">beard:0.7520</figcaption>\n<figcaption >goatee:0.0019</figcaption>\n<figcaption >mustache:0.0001</figcaption>\n</figure><figure style=\"display:inline-block\"><img src=\"http://t0.gstatic.com/images?q=tbn:ANd9GcQsdrhHGo59XQW7RZNTk8Px2GiIR9sjBhcgcyGs7SHJBBCAARvru79XL-yi\" width=100 height=100 />\n<figcaption >beard:0.2506</figcaption>\n<figcaption >mustache:0.1749</figcaption>\n<figcaption >goatee:0.0019</figcaption>\n</figure><figure style=\"display:inline-block\"><img src=\"http://t0.gstatic.com/images?q=tbn:ANd9GcQlpX0SyIfV_WJ3GBH84p_xGVgn2lBuKbonO5qxQaJ1EtZWgmf3kxHBWKY\" width=100 height=100 />\n<figcaption >mustache:0.9551</figcaption>\n<figcaption >beard:0.0164</figcaption>\n<figcaption >goatee:0.0001</figcaption>\n</figure><figure style=\"display:inline-block\"><img src=\"http://t0.gstatic.com/images?q=tbn:ANd9GcSI3F-ESYSlLvwfsjxP7je2EqY-l0YCxFaFbp8qRoKMPBZ9DEiBVw20Z4U\" width=100 height=100 />\n<figcaption >mustache:0.2995</figcaption>\n<figcaption >beard:0.1394</figcaption>\n<figcaption >goatee:0.0019</figcaption>\n</figure><figure style=\"display:inline-block\"><img src=\"http://t0.gstatic.com/images?q=tbn:ANd9GcQO9udhNnVVELrWrYXWv9vnErFoEE7BzuAF01TPtUOBksoXFO6MRnYvsZQ\" width=100 height=100 />\n<figcaption >mustache:0.9581</figcaption>\n<figcaption >beard:0.0060</figcaption>\n<figcaption >goatee:0.0003</figcaption>\n</figure><figure style=\"display:inline-block\"><img src=\"http://t0.gstatic.com/images?q=tbn:ANd9GcS-3kBgAe41uHbCeRXX2n7RBcgqsPFHCprKLbtuE6nhaWU2aO2IZ_FWO_g\" width=100 height=100 />\n<figcaption >mustache:0.8468</figcaption>\n<figcaption >goatee:0.0103</figcaption>\n<figcaption >beard:0.0023</figcaption>\n</figure><figure style=\"display:inline-block\"><img src=\"http://t0.gstatic.com/images?q=tbn:ANd9GcRsp96qWEy3E63R4G4xLaN-EqxZ3PaBnMRCB_uC_7mnwdmM1ltan6xbWAs\" width=100 height=100 />\n<figcaption >mustache:0.0763</figcaption>\n<figcaption >beard:0.0132</figcaption>\n<figcaption >goatee:0.0018</figcaption>\n</figure><figure style=\"display:inline-block\"><img src=\"http://t0.gstatic.com/images?q=tbn:ANd9GcT87EBp0zp4tpeIgxwKenjhWOrrrIlcjm3tq6XkCVOFpQ-XOczqlkjvJnA\" width=100 height=100 />\n<figcaption >mustache:0.8495</figcaption>\n<figcaption >beard:0.0171</figcaption>\n<figcaption >goatee:0.0094</figcaption>\n</figure>"
      ],
      "text/plain": [
       "<IPython.core.display.HTML object>"
      ]
     },
     "metadata": {},
     "output_type": "display_data"
    },
    {
     "data": {
      "text/html": [
       "<h3>Celebrity Test Mustaches...</h3>"
      ],
      "text/plain": [
       "<IPython.core.display.HTML object>"
      ]
     },
     "metadata": {},
     "output_type": "display_data"
    },
    {
     "data": {
      "text/html": [
       "<figure style=\"display:inline-block\"><img src=\"http://t0.gstatic.com/images?q=tbn:ANd9GcTMfJp2ho2mDuOaBzdn9-7GyCynxmSGmeAfNXIQgLtT2X1WNHt3bf4NbDY\" width=100 height=100 />\n<figcaption style=\"background-color:green\">mustache:1.0000</figcaption>\n<figcaption >goatee:0.0000</figcaption>\n<figcaption >beard:0.0000</figcaption>\n</figure><figure style=\"display:inline-block\"><img src=\"http://t0.gstatic.com/images?q=tbn:ANd9GcTL-8SoGyVSwoYIVScT-5d4KvNpGVQngCC9WBHEMACfy2YYCJL6Y3bLNpw-\" width=100 height=100 />\n<figcaption >mustache:0.4046</figcaption>\n<figcaption >goatee:0.0702</figcaption>\n<figcaption >beard:0.0256</figcaption>\n</figure><figure style=\"display:inline-block\"><img src=\"http://t0.gstatic.com/images?q=tbn:ANd9GcSIwl-fFcImrd9SAE6AUo6zGHs7GbZ1uVo8680hYiBxT1bg_YjfvDx4yNIC\" width=100 height=100 />\n<figcaption style=\"background-color:green\">mustache:1.0000</figcaption>\n<figcaption >goatee:0.0000</figcaption>\n<figcaption >beard:0.0000</figcaption>\n</figure><figure style=\"display:inline-block\"><img src=\"http://t0.gstatic.com/images?q=tbn:ANd9GcQ1oTIO8bdR9KGxrQZQeESNclflWc5GS7PZyyN1Gfea3zXRH-bCVceJfzjf\" width=100 height=100 />\n<figcaption style=\"background-color:green\">mustache:0.9996</figcaption>\n<figcaption >goatee:0.0009</figcaption>\n<figcaption >beard:0.0000</figcaption>\n</figure><figure style=\"display:inline-block\"><img src=\"http://t0.gstatic.com/images?q=tbn:ANd9GcRtyIqEyh10qMxsDQ8PFJSuQ5xns44BcdslVDuZD3Ivhvp0w04mum-_fY4\" width=100 height=100 />\n<figcaption style=\"background-color:green\">mustache:0.9761</figcaption>\n<figcaption >goatee:0.0015</figcaption>\n<figcaption >beard:0.0004</figcaption>\n</figure><figure style=\"display:inline-block\"><img src=\"http://t0.gstatic.com/images?q=tbn:ANd9GcSi5GMSG6s6MIbPN79gcE4wI147rIJNaIbZcTcBMXmZ47jFYMkSLsl_G3w\" width=100 height=100 />\n<figcaption style=\"background-color:green\">mustache:0.9995</figcaption>\n<figcaption >beard:0.0003</figcaption>\n<figcaption >goatee:0.0000</figcaption>\n</figure><figure style=\"display:inline-block\"><img src=\"http://t0.gstatic.com/images?q=tbn:ANd9GcTDgXmk6WHeAtr4UYkYN-0bETZdp0vSn3q5EPd6dwHMrKPd5vWwkYNNqew\" width=100 height=100 />\n<figcaption style=\"background-color:green\">mustache:0.9959</figcaption>\n<figcaption >goatee:0.0003</figcaption>\n<figcaption >beard:0.0000</figcaption>\n</figure><figure style=\"display:inline-block\"><img src=\"http://t0.gstatic.com/images?q=tbn:ANd9GcQhzQ8sjMcieBYcGP899svIBkUzMgD5F7eATZC8vMbbOktXx0IWDnuja3sz\" width=100 height=100 />\n<figcaption style=\"background-color:green\">mustache:0.9869</figcaption>\n<figcaption >goatee:0.0031</figcaption>\n<figcaption >beard:0.0001</figcaption>\n</figure><figure style=\"display:inline-block\"><img src=\"http://t0.gstatic.com/images?q=tbn:ANd9GcSBciNImyEC3JRVGdjol6P6tZ3xsqHuIOBk7ZxxtBkE1SufFN3_9Q3BTsHx\" width=100 height=100 />\n<figcaption >mustache:0.2423</figcaption>\n<figcaption >beard:0.0352</figcaption>\n<figcaption >goatee:0.0287</figcaption>\n</figure><figure style=\"display:inline-block\"><img src=\"http://t0.gstatic.com/images?q=tbn:ANd9GcTK29iTFxggQsv0eI9dpcElauZeTgGH-afgD211j4ZQ5mu9SInRi6uT2ZqT\" width=100 height=100 />\n<figcaption >mustache:0.0292</figcaption>\n<figcaption >goatee:0.0136</figcaption>\n<figcaption >beard:0.0065</figcaption>\n</figure><figure style=\"display:inline-block\"><img src=\"http://t0.gstatic.com/images?q=tbn:ANd9GcTcAoGAtdERw9zYe8Ng_lFptDU0KiAdKsp8F9nA7V4-lgsXflOuY4blfySj\" width=100 height=100 />\n<figcaption style=\"background-color:green\">mustache:0.9998</figcaption>\n<figcaption >goatee:0.0010</figcaption>\n<figcaption >beard:0.0000</figcaption>\n</figure><figure style=\"display:inline-block\"><img src=\"http://t0.gstatic.com/images?q=tbn:ANd9GcQ_EzdsqGog_jgNsnhsoiNhe97VfhQZSuL5I-FRS808ObdsNn4DUchaHOi4\" width=100 height=100 />\n<figcaption style=\"background-color:green\">mustache:0.9772</figcaption>\n<figcaption >beard:0.0192</figcaption>\n<figcaption >goatee:0.0009</figcaption>\n</figure><figure style=\"display:inline-block\"><img src=\"http://t0.gstatic.com/images?q=tbn:ANd9GcQVqUUodJnQrpCuFDhX339OlSZwn25qEgv19pPmZmzes67q2M_XoDLch4k\" width=100 height=100 />\n<figcaption >beard:0.7848</figcaption>\n<figcaption >goatee:0.0043</figcaption>\n<figcaption >mustache:0.0008</figcaption>\n</figure><figure style=\"display:inline-block\"><img src=\"http://t0.gstatic.com/images?q=tbn:ANd9GcSptzViii03GfvT9BP44GkrY6vJ42KRUAZoMVP4uZZOqRu6Mz7sY62zlWo\" width=100 height=100 />\n<figcaption >beard:0.3074</figcaption>\n<figcaption >mustache:0.0219</figcaption>\n<figcaption >goatee:0.0000</figcaption>\n</figure><figure style=\"display:inline-block\"><img src=\"http://t0.gstatic.com/images?q=tbn:ANd9GcTPyrkVE1P6kbypr8g05gNuSUBANyraQMjkUi2m5bysUjLK2OOmAIbQoCry\" width=100 height=100 />\n<figcaption >beard:0.3447</figcaption>\n<figcaption >mustache:0.0060</figcaption>\n<figcaption >goatee:0.0026</figcaption>\n</figure><figure style=\"display:inline-block\"><img src=\"http://t0.gstatic.com/images?q=tbn:ANd9GcTCvrX8DqERsxnBIRc6zLOWyDnEtsoFSCTc9SdkZTKQBFmTzr5oY2r0aLF7\" width=100 height=100 />\n<figcaption style=\"background-color:green\">mustache:1.0000</figcaption>\n<figcaption >goatee:0.0001</figcaption>\n<figcaption >beard:0.0000</figcaption>\n</figure><figure style=\"display:inline-block\"><img src=\"http://t0.gstatic.com/images?q=tbn:ANd9GcRyPTrIwYt4NIALLOnQbTawKoysAK8WxelPXuwOpHaJstXJK30fPL3LFyNh\" width=100 height=100 />\n<figcaption style=\"background-color:yellow\">mustache:0.8085</figcaption>\n<figcaption >goatee:0.0558</figcaption>\n<figcaption >beard:0.0013</figcaption>\n</figure>"
      ],
      "text/plain": [
       "<IPython.core.display.HTML object>"
      ]
     },
     "metadata": {},
     "output_type": "display_data"
    },
    {
     "data": {
      "text/html": [
       "<h3>Celebrity Test Goatee...</h3>"
      ],
      "text/plain": [
       "<IPython.core.display.HTML object>"
      ]
     },
     "metadata": {},
     "output_type": "display_data"
    },
    {
     "data": {
      "text/html": [
       "<figure style=\"display:inline-block\"><img src=\"http://t0.gstatic.com/images?q=tbn:ANd9GcTJc_bXfLKHLuD_Jr_4jp3w1rax56C3z388jwdNrhvosgo1fiVdl2pmqX8L\" width=100 height=100 />\n<figcaption >goatee:0.4454</figcaption>\n<figcaption >mustache:0.0608</figcaption>\n<figcaption >beard:0.0178</figcaption>\n</figure><figure style=\"display:inline-block\"><img src=\"http://t0.gstatic.com/images?q=tbn:ANd9GcSGxkbEKQ9ULmDlGtPp4bolkXgAoQG9esZNgwLzipwzLZpzJtDz3-OoyWI\" width=100 height=100 />\n<figcaption >goatee:0.2103</figcaption>\n<figcaption >beard:0.0274</figcaption>\n<figcaption >mustache:0.0028</figcaption>\n</figure><figure style=\"display:inline-block\"><img src=\"http://t0.gstatic.com/images?q=tbn:ANd9GcQDS3-lKF-GYV5pCKygPuk0qfuqRsvC1ryq85iyICSTBFEzFOrStA7YsVu5\" width=100 height=100 />\n<figcaption >mustache:0.4245</figcaption>\n<figcaption >goatee:0.1194</figcaption>\n<figcaption >beard:0.0139</figcaption>\n</figure><figure style=\"display:inline-block\"><img src=\"http://t0.gstatic.com/images?q=tbn:ANd9GcSbqhwH8oIejRQFC7o0wXsPNvt6SnfmvXkOczDYeDpQwsKL3kTYy94tHucl\" width=100 height=100 />\n<figcaption style=\"background-color:green\">goatee:0.9240</figcaption>\n<figcaption >beard:0.0565</figcaption>\n<figcaption >mustache:0.0005</figcaption>\n</figure><figure style=\"display:inline-block\"><img src=\"http://t0.gstatic.com/images?q=tbn:ANd9GcTlaWJZSlqDRsFy1EmMwmmM9_8PTOcH0SlmkBj0MUStlBMw6hBfjyDVmf0\" width=100 height=100 />\n<figcaption >mustache:0.7896</figcaption>\n<figcaption >beard:0.0453</figcaption>\n<figcaption >goatee:0.0010</figcaption>\n</figure><figure style=\"display:inline-block\"><img src=\"http://t0.gstatic.com/images?q=tbn:ANd9GcQqABWgVT8KGs7r_omxNOjTH5tpMYIr0wzYXAwvSfcr5ezC5zdHRBUvhA\" width=100 height=100 />\n<figcaption >mustache:0.5945</figcaption>\n<figcaption >beard:0.0084</figcaption>\n<figcaption >goatee:0.0008</figcaption>\n</figure><figure style=\"display:inline-block\"><img src=\"http://t0.gstatic.com/images?q=tbn:ANd9GcQWWteuz4cAzQ87cafx5pecO6JRQlM3YONOskhKQxS_sMEt4Nq1CNKjW_0\" width=100 height=100 />\n<figcaption >mustache:0.8827</figcaption>\n<figcaption >beard:0.0148</figcaption>\n<figcaption >goatee:0.0001</figcaption>\n</figure><figure style=\"display:inline-block\"><img src=\"http://t0.gstatic.com/images?q=tbn:ANd9GcQbP0zEsEfN7MOIDOdq6OUK-SMbK4WNjdmEGRTT4bVraw4BAoYFCq7hMBGa\" width=100 height=100 />\n<figcaption >mustache:1.0000</figcaption>\n<figcaption >goatee:0.0000</figcaption>\n<figcaption >beard:0.0000</figcaption>\n</figure><figure style=\"display:inline-block\"><img src=\"http://t0.gstatic.com/images?q=tbn:ANd9GcR92M2bsFYFLLd2253e3dO3v31evevHitfAvu_UuOzGH89UAnIQJBSknDg\" width=100 height=100 />\n<figcaption >mustache:0.9989</figcaption>\n<figcaption >goatee:0.0309</figcaption>\n<figcaption >beard:0.0000</figcaption>\n</figure><figure style=\"display:inline-block\"><img src=\"http://t0.gstatic.com/images?q=tbn:ANd9GcTghm6D1RPAam7ZuufB5CzcAks0wfA0KNfNeAWJsd9m2VXqBGfRGzH9NMo\" width=100 height=100 />\n<figcaption style=\"background-color:green\">goatee:0.9182</figcaption>\n<figcaption >mustache:0.0532</figcaption>\n<figcaption >beard:0.0001</figcaption>\n</figure><figure style=\"display:inline-block\"><img src=\"http://t0.gstatic.com/images?q=tbn:ANd9GcTdguk0O4yM2_yXMYPVYRCyGv4XF-QTLwXTAYExm8SISV4I1yha_04YcRU\" width=100 height=100 />\n<figcaption >mustache:0.8941</figcaption>\n<figcaption >goatee:0.0012</figcaption>\n<figcaption >beard:0.0002</figcaption>\n</figure><figure style=\"display:inline-block\"><img src=\"http://t0.gstatic.com/images?q=tbn:ANd9GcQZ6nAzEXRVqMm9kga5ef0LLbkdktT_c7v0RuLAYO98lfl_1bhHjJm2wOS5\" width=100 height=100 />\n<figcaption >goatee:0.3747</figcaption>\n<figcaption >beard:0.0143</figcaption>\n<figcaption >mustache:0.0008</figcaption>\n</figure><figure style=\"display:inline-block\"><img src=\"http://t0.gstatic.com/images?q=tbn:ANd9GcRW-qtpML0tXeUSmI-jfRw74tHWPdqgpck3OrLK1Iy5gJOQvnNOuSYNog\" width=100 height=100 />\n<figcaption >mustache:0.9959</figcaption>\n<figcaption >goatee:0.0188</figcaption>\n<figcaption >beard:0.0000</figcaption>\n</figure><figure style=\"display:inline-block\"><img src=\"http://t0.gstatic.com/images?q=tbn:ANd9GcRCSsBAF7fEidtE8HR6Khoco32jP1iGk3KqQdova_7w-jLv5_tdQdga3Ceu\" width=100 height=100 />\n<figcaption >mustache:0.7514</figcaption>\n<figcaption >beard:0.0174</figcaption>\n<figcaption >goatee:0.0109</figcaption>\n</figure><figure style=\"display:inline-block\"><img src=\"http://t0.gstatic.com/images?q=tbn:ANd9GcTuZKgijybkO730m2e1eStQe_jWaX_djbTrU7G_KEjss_lufuK6dwX8ksta\" width=100 height=100 />\n<figcaption >mustache:0.4865</figcaption>\n<figcaption >beard:0.0062</figcaption>\n<figcaption >goatee:0.0006</figcaption>\n</figure>"
      ],
      "text/plain": [
       "<IPython.core.display.HTML object>"
      ]
     },
     "metadata": {},
     "output_type": "display_data"
    }
   ],
   "source": [
    "from IPython.core.display import display, HTML\n",
    "\n",
    "def display_results(results, highlight_name='none'):\n",
    "    htmlstr = ''\n",
    "    for _res in results:\n",
    "        url = _res['outputs'][0]['input']['data']['image']['url']\n",
    "        htmlstr += f'<figure style=\"display:inline-block\"><img src=\"{url}\" width=100 height=100 />\\n'\n",
    "        for _concept in _res['outputs'][0]['data']['concepts']:\n",
    "            name = _concept['name']\n",
    "            value = _concept['value']\n",
    "            highlight=''\n",
    "            if name == highlight_name or highlight_name == 'none':\n",
    "                if float(value) > 0.9:\n",
    "                    highlight='style=\"background-color:green\"'\n",
    "                elif 0.5 < float(value) < 0.89:\n",
    "                    highlight='style=\"background-color:yellow\"'\n",
    "            htmlstr += f'<figcaption {highlight}>{name}:{value:.4f}</figcaption>\\n'\n",
    "        htmlstr += '</figure>'\n",
    "    display(HTML(htmlstr))\n",
    "display(HTML(\"<h3>Celebrity Test Beards...</h3>\"))\n",
    "display_results(celebrity_beard_results, 'beard')\n",
    "display(HTML(\"<h3>Celebrity Test Mustaches...</h3>\"))\n",
    "display_results(celebrity_mustache_results, 'mustache')\n",
    "display(HTML(\"<h3>Celebrity Test Goatee...</h3>\"))\n",
    "display_results(celebrity_goatee_results, 'goatee')\n"
   ]
  },
  {
   "cell_type": "code",
   "execution_count": 45,
   "metadata": {
    "autoscroll": false,
    "collapsed": false,
    "ein.tags": "worksheet-0",
    "slideshow": {
     "slide_type": "-"
    }
   },
   "outputs": [
    {
     "data": {
      "text/plain": [
       "18"
      ]
     },
     "execution_count": 45,
     "metadata": {},
     "output_type": "execute_result"
    }
   ],
   "source": [
    "celebrity_female_urls = [\n",
    "'http://t0.gstatic.com/images?q=tbn:ANd9GcSZE7KcMZHCOFwy_UVqon7UCsNN920-k1qj0Pj2M5ncPL_2RI73lEBZRkjX',\n",
    "'http://t0.gstatic.com/images?q=tbn:ANd9GcRYv21YAzOcQ5MZ80JFA8neKwyJrTCnTtMpvunczOW0JdNsnXIbytIw2ymk',\n",
    "'http://t0.gstatic.com/images?q=tbn:ANd9GcQUiK_dYsyd-kSdMmGZUyc46Odv5f_7fRiY_nsFuTFOHyhj6S_HS7FnLvMr8w',\n",
    "'http://t0.gstatic.com/images?q=tbn:ANd9GcTekbieHcdWLLuypuV5pDxcGgox4yfX8z73qpV6-9QCAi4q3kg9cXmeOw',\n",
    "'http://t0.gstatic.com/images?q=tbn:ANd9GcTZdxSO5dhNjNzJebrL45whmwRjAx7xxtsrTtjEh2CrEhswMW01ojjbsw',\n",
    "'http://t0.gstatic.com/images?q=tbn:ANd9GcTBdzd--d_dbs5e1N7UHjatgmD83vYsvlSqg_Zmpdn01xZazuTCH-wlNHmF',\n",
    "'http://t0.gstatic.com/images?q=tbn:ANd9GcS4ui93roxOGPL7eb-NZXnGo-3soR6PGqTn13vQj9uzdTminI43QVx1PZI',\n",
    "'http://t0.gstatic.com/images?q=tbn:ANd9GcSgT5CfVh5r2AlAYI_Jemk_NrI5dxF0ONm_aZ5jFNDddnw-R5zlAnuxE6Y',\n",
    "'http://t0.gstatic.com/images?q=tbn:ANd9GcTGRM3IOiFj4V2wz9OZQmwvQM4hOPobk_p2TVws1TMXZYhW_IJsTrUrif2u',\n",
    "'http://t0.gstatic.com/images?q=tbn:ANd9GcQlvVlXR1A6wjtnCEiIespTodVT-RSuxyBolyyPx25C3RLbiJUZC2BmKmY',\n",
    "'http://t0.gstatic.com/images?q=tbn:ANd9GcQE-vwX7bM9Vt1GCTu1N7qVGhrskv2xsPcn1gyx45ht0U1tfeuT1tYirS8X',\n",
    "'http://t0.gstatic.com/images?q=tbn:ANd9GcQ0npOX3Ies96apvd6plfSszhgsfa7mSiRAd4Q5BUWn8PrF3YxiUVPh9dw',\n",
    "'http://t0.gstatic.com/images?q=tbn:ANd9GcSTA2Sm737kc6_X-Jjqt7BOSdBojNngissDGM-4A6YXYaQ3xu_XhFeXWQ',\n",
    "'http://t0.gstatic.com/images?q=tbn:ANd9GcR0-wu0d6cO0MdJBb8J_ewWDTjdQ4zbd_x4S09TAgy3c-GkGtUyueARMFi7',\n",
    "'http://t0.gstatic.com/images?q=tbn:ANd9GcS4MHs__x9DVZDiMMWI_aAo0yC6Y1btgcX0o9Pptgkt_KK5NM2B_S5MvzRf',\n",
    "'http://t0.gstatic.com/images?q=tbn:ANd9GcRSXZijHgdwBc6vU6eqKVp6dNBg08XX43vl8hVvFhWTtrCaxFf46nOrbCi0',\n",
    "'http://t0.gstatic.com/images?q=tbn:ANd9GcT2QkJcWkfTEh_wGRwfrHUP1LYDuItS_E-wWBwdrjooha9rRZjSZBKLOL8',\n",
    "'http://t0.gstatic.com/images?q=tbn:ANd9GcTzq8rcD8L0rAKNO-_7-lm-bV2lpmxi0oUUx7Y44MO_VT_xd8rn4mWvbcY',\n",
    "'http://t0.gstatic.com/images?q=tbn:ANd9GcQGJbc0hOXpKE4FU5FNOjgcx8hzWyr752WFoyp36aQx8j4R_1iA0_8hasQ',\n",
    "'http://t0.gstatic.com/images?q=tbn:ANd9GcQshGYs2AIAG4MV_8SgXnz8GVBD4GBTmtban1zB5XPt-bxcKudE4GybObNx',\n",
    "]\n",
    "celebrity_female_results = get_predict(celebrity_female_urls)\n",
    "len(celebrity_female_results)\n",
    "\n",
    "#celebirty clean shaven\n",
    "celebrity_cleanshaven_urls = [\n",
    "'http://t0.gstatic.com/images?q=tbn:ANd9GcToWLpHhsf6G71cJks4w-FJPqkvQGrb7CHC8cspiXGe5Ouw4Vuriqptgd8',\n",
    "'http://t0.gstatic.com/images?q=tbn:ANd9GcSIXJy4AkhNhEfknoVcwaVk73-GLQcQNA0NCithBykitXIucTR7jtmlboBr',\n",
    "'http://t0.gstatic.com/images?q=tbn:ANd9GcSA2E4ocPlhU6p63lUvwIrtdyz21482g7gkgGzcIh5o9PG58QYuqMtEqtc8',\n",
    "'http://t0.gstatic.com/images?q=tbn:ANd9GcQq2bWAmpWBUlgUf_diKsS6oJ1ge-g-8s7SUZYqBMrB_ZbjUZClateFIU4',\n",
    "'http://t0.gstatic.com/images?q=tbn:ANd9GcSXf5iwIDAPMywOGxt2BqLC9HuLPWKRyIYWYUaNbo533oIXGPVIQKPPlY0jig',\n",
    "'http://t0.gstatic.com/images?q=tbn:ANd9GcRCl-IPe19U3CYo2BvCasUg1t3aq11zrkHHgYC3nZ9jfgY_yW9t-uxfbQ-j',\n",
    "'http://t0.gstatic.com/images?q=tbn:ANd9GcR6AuFHjatBo6dgWgYnKTToMut3CafZPQesbmmRO-ptyFO_VoiA4gnmYlo',\n",
    "'http://t0.gstatic.com/images?q=tbn:ANd9GcREI99cSLpl9HWE5Wmil25dAos_TmxrPv4iUWUskeQ3vbZ7DTNmHwFClfhg',\n",
    "'http://t0.gstatic.com/images?q=tbn:ANd9GcR81qV2u_wZVuoWqFi7NjRHQ483ASWO7n2rI33UaV7OhDP86j3Zb1OtFO4',\n",
    "'http://t0.gstatic.com/images?q=tbn:ANd9GcQr6USu9bPbKWCf-U3pUxK1wXFMDL4HB_DaW_FQzrW2YA4shmsAyeB91XE',\n",
    "'http://t0.gstatic.com/images?q=tbn:ANd9GcSLLUqzRvCXssOjzgr_d3B3InmiQ2Eubq_pgA5GMnUrJXOaiSo0pUquzJ-B',\n",
    "'http://t0.gstatic.com/images?q=tbn:ANd9GcR5sJXsPiVBKP2UH_TTLAYa71MlgdXvcfrfIth13pl1uGaYk8kiz6DAcy0',\n",
    "'http://t0.gstatic.com/images?q=tbn:ANd9GcSYY5XQmzBJ7SIZhc4j0QeKaLzAHlbXSzEsUnXgEtPFYdBWaawD8ZxnvcU7',\n",
    "'http://t0.gstatic.com/images?q=tbn:ANd9GcTEnT9Mb0W4cXzZWjG84zYZX3EVl2ovUKCDQwEU0gnXoigUFfOG4M8rkdE',\n",
    "'http://t0.gstatic.com/images?q=tbn:ANd9GcR8HcEUclgH6cLK-PPyieT4ApA2LgNwGr8JYpb80Q7v00OZ-JGO5cdjBdR5',\n",
    "'http://t0.gstatic.com/images?q=tbn:ANd9GcS8bW8UHJDoGtzPI7A7MUtJuXPWEdZu7y2mHabd9XgUmWHUViBQuN4RhA',\n",
    "'http://t0.gstatic.com/images?q=tbn:ANd9GcSjSV8FlIFGTylRqUTr7d-h7wGYn_EKmAw-qVUx9D-XEBNUwdbdwQJkfVw',\n",
    "'http://t0.gstatic.com/images?q=tbn:ANd9GcTmj1KWc4Jqh9JxPTCA_r4iQB4TKMKdtOcGeFPqWF6_7FC9baJCHkVcnQ',\n",
    "]\n",
    "celebrity_cleanshaven_results = get_predict(celebrity_cleanshaven_urls)\n",
    "len(celebrity_cleanshaven_results)\n"
   ]
  },
  {
   "cell_type": "code",
   "execution_count": 48,
   "metadata": {
    "autoscroll": false,
    "collapsed": false,
    "ein.tags": "worksheet-0",
    "slideshow": {
     "slide_type": "-"
    }
   },
   "outputs": [
    {
     "data": {
      "text/html": [
       "<h3>Celebrity Female...</h3>"
      ],
      "text/plain": [
       "<IPython.core.display.HTML object>"
      ]
     },
     "metadata": {},
     "output_type": "display_data"
    },
    {
     "data": {
      "text/html": [
       "<figure style=\"display:inline-block\"><img src=\"http://t0.gstatic.com/images?q=tbn:ANd9GcSZE7KcMZHCOFwy_UVqon7UCsNN920-k1qj0Pj2M5ncPL_2RI73lEBZRkjX\" width=100 height=100 />\n<figcaption >mustache:0.1459</figcaption>\n<figcaption >goatee:0.0201</figcaption>\n<figcaption >beard:0.0000</figcaption>\n</figure><figure style=\"display:inline-block\"><img src=\"http://t0.gstatic.com/images?q=tbn:ANd9GcRYv21YAzOcQ5MZ80JFA8neKwyJrTCnTtMpvunczOW0JdNsnXIbytIw2ymk\" width=100 height=100 />\n<figcaption >goatee:0.1294</figcaption>\n<figcaption >mustache:0.0011</figcaption>\n<figcaption >beard:0.0002</figcaption>\n</figure><figure style=\"display:inline-block\"><img src=\"http://t0.gstatic.com/images?q=tbn:ANd9GcQUiK_dYsyd-kSdMmGZUyc46Odv5f_7fRiY_nsFuTFOHyhj6S_HS7FnLvMr8w\" width=100 height=100 />\n<figcaption >mustache:0.1527</figcaption>\n<figcaption >goatee:0.0011</figcaption>\n<figcaption >beard:0.0003</figcaption>\n</figure><figure style=\"display:inline-block\"><img src=\"http://t0.gstatic.com/images?q=tbn:ANd9GcTekbieHcdWLLuypuV5pDxcGgox4yfX8z73qpV6-9QCAi4q3kg9cXmeOw\" width=100 height=100 />\n<figcaption >mustache:0.9221</figcaption>\n<figcaption >goatee:0.0080</figcaption>\n<figcaption >beard:0.0000</figcaption>\n</figure><figure style=\"display:inline-block\"><img src=\"http://t0.gstatic.com/images?q=tbn:ANd9GcTZdxSO5dhNjNzJebrL45whmwRjAx7xxtsrTtjEh2CrEhswMW01ojjbsw\" width=100 height=100 />\n<figcaption >mustache:0.9450</figcaption>\n<figcaption >goatee:0.0004</figcaption>\n<figcaption >beard:0.0003</figcaption>\n</figure><figure style=\"display:inline-block\"><img src=\"http://t0.gstatic.com/images?q=tbn:ANd9GcTBdzd--d_dbs5e1N7UHjatgmD83vYsvlSqg_Zmpdn01xZazuTCH-wlNHmF\" width=100 height=100 />\n<figcaption >mustache:0.3169</figcaption>\n<figcaption >goatee:0.0103</figcaption>\n<figcaption >beard:0.0006</figcaption>\n</figure><figure style=\"display:inline-block\"><img src=\"http://t0.gstatic.com/images?q=tbn:ANd9GcS4ui93roxOGPL7eb-NZXnGo-3soR6PGqTn13vQj9uzdTminI43QVx1PZI\" width=100 height=100 />\n<figcaption >mustache:0.8989</figcaption>\n<figcaption >goatee:0.0014</figcaption>\n<figcaption >beard:0.0002</figcaption>\n</figure><figure style=\"display:inline-block\"><img src=\"http://t0.gstatic.com/images?q=tbn:ANd9GcSgT5CfVh5r2AlAYI_Jemk_NrI5dxF0ONm_aZ5jFNDddnw-R5zlAnuxE6Y\" width=100 height=100 />\n<figcaption >goatee:0.0590</figcaption>\n<figcaption >mustache:0.0067</figcaption>\n<figcaption >beard:0.0006</figcaption>\n</figure><figure style=\"display:inline-block\"><img src=\"http://t0.gstatic.com/images?q=tbn:ANd9GcTGRM3IOiFj4V2wz9OZQmwvQM4hOPobk_p2TVws1TMXZYhW_IJsTrUrif2u\" width=100 height=100 />\n<figcaption >mustache:0.0705</figcaption>\n<figcaption >goatee:0.0072</figcaption>\n<figcaption >beard:0.0020</figcaption>\n</figure><figure style=\"display:inline-block\"><img src=\"http://t0.gstatic.com/images?q=tbn:ANd9GcQlvVlXR1A6wjtnCEiIespTodVT-RSuxyBolyyPx25C3RLbiJUZC2BmKmY\" width=100 height=100 />\n<figcaption >mustache:0.1931</figcaption>\n<figcaption >goatee:0.1524</figcaption>\n<figcaption >beard:0.0001</figcaption>\n</figure><figure style=\"display:inline-block\"><img src=\"http://t0.gstatic.com/images?q=tbn:ANd9GcQE-vwX7bM9Vt1GCTu1N7qVGhrskv2xsPcn1gyx45ht0U1tfeuT1tYirS8X\" width=100 height=100 />\n<figcaption >beard:0.0760</figcaption>\n<figcaption >mustache:0.0007</figcaption>\n<figcaption >goatee:0.0001</figcaption>\n</figure><figure style=\"display:inline-block\"><img src=\"http://t0.gstatic.com/images?q=tbn:ANd9GcQ0npOX3Ies96apvd6plfSszhgsfa7mSiRAd4Q5BUWn8PrF3YxiUVPh9dw\" width=100 height=100 />\n<figcaption >goatee:0.0612</figcaption>\n<figcaption >mustache:0.0010</figcaption>\n<figcaption >beard:0.0001</figcaption>\n</figure><figure style=\"display:inline-block\"><img src=\"http://t0.gstatic.com/images?q=tbn:ANd9GcSTA2Sm737kc6_X-Jjqt7BOSdBojNngissDGM-4A6YXYaQ3xu_XhFeXWQ\" width=100 height=100 />\n<figcaption >mustache:0.0140</figcaption>\n<figcaption >goatee:0.0032</figcaption>\n<figcaption >beard:0.0008</figcaption>\n</figure><figure style=\"display:inline-block\"><img src=\"http://t0.gstatic.com/images?q=tbn:ANd9GcR0-wu0d6cO0MdJBb8J_ewWDTjdQ4zbd_x4S09TAgy3c-GkGtUyueARMFi7\" width=100 height=100 />\n<figcaption >mustache:0.2023</figcaption>\n<figcaption >goatee:0.0053</figcaption>\n<figcaption >beard:0.0000</figcaption>\n</figure><figure style=\"display:inline-block\"><img src=\"http://t0.gstatic.com/images?q=tbn:ANd9GcS4MHs__x9DVZDiMMWI_aAo0yC6Y1btgcX0o9Pptgkt_KK5NM2B_S5MvzRf\" width=100 height=100 />\n<figcaption >mustache:0.9993</figcaption>\n<figcaption >goatee:0.0058</figcaption>\n<figcaption >beard:0.0000</figcaption>\n</figure><figure style=\"display:inline-block\"><img src=\"http://t0.gstatic.com/images?q=tbn:ANd9GcRSXZijHgdwBc6vU6eqKVp6dNBg08XX43vl8hVvFhWTtrCaxFf46nOrbCi0\" width=100 height=100 />\n<figcaption >mustache:0.0312</figcaption>\n<figcaption >goatee:0.0015</figcaption>\n<figcaption >beard:0.0003</figcaption>\n</figure><figure style=\"display:inline-block\"><img src=\"http://t0.gstatic.com/images?q=tbn:ANd9GcT2QkJcWkfTEh_wGRwfrHUP1LYDuItS_E-wWBwdrjooha9rRZjSZBKLOL8\" width=100 height=100 />\n<figcaption >beard:0.0345</figcaption>\n<figcaption >mustache:0.0126</figcaption>\n<figcaption >goatee:0.0027</figcaption>\n</figure><figure style=\"display:inline-block\"><img src=\"http://t0.gstatic.com/images?q=tbn:ANd9GcTzq8rcD8L0rAKNO-_7-lm-bV2lpmxi0oUUx7Y44MO_VT_xd8rn4mWvbcY\" width=100 height=100 />\n<figcaption >mustache:0.9819</figcaption>\n<figcaption >goatee:0.0039</figcaption>\n<figcaption >beard:0.0000</figcaption>\n</figure><figure style=\"display:inline-block\"><img src=\"http://t0.gstatic.com/images?q=tbn:ANd9GcQGJbc0hOXpKE4FU5FNOjgcx8hzWyr752WFoyp36aQx8j4R_1iA0_8hasQ\" width=100 height=100 />\n<figcaption >goatee:0.0111</figcaption>\n<figcaption >mustache:0.0097</figcaption>\n<figcaption >beard:0.0046</figcaption>\n</figure><figure style=\"display:inline-block\"><img src=\"http://t0.gstatic.com/images?q=tbn:ANd9GcQshGYs2AIAG4MV_8SgXnz8GVBD4GBTmtban1zB5XPt-bxcKudE4GybObNx\" width=100 height=100 />\n<figcaption >mustache:0.3464</figcaption>\n<figcaption >beard:0.0007</figcaption>\n<figcaption >goatee:0.0001</figcaption>\n</figure>"
      ],
      "text/plain": [
       "<IPython.core.display.HTML object>"
      ]
     },
     "metadata": {},
     "output_type": "display_data"
    },
    {
     "data": {
      "text/html": [
       "<h3>Celebrity Clean Shaven...</h3>"
      ],
      "text/plain": [
       "<IPython.core.display.HTML object>"
      ]
     },
     "metadata": {},
     "output_type": "display_data"
    },
    {
     "data": {
      "text/html": [
       "<figure style=\"display:inline-block\"><img src=\"http://t0.gstatic.com/images?q=tbn:ANd9GcToWLpHhsf6G71cJks4w-FJPqkvQGrb7CHC8cspiXGe5Ouw4Vuriqptgd8\" width=100 height=100 />\n<figcaption >mustache:0.8757</figcaption>\n<figcaption >goatee:0.0009</figcaption>\n<figcaption >beard:0.0005</figcaption>\n</figure><figure style=\"display:inline-block\"><img src=\"http://t0.gstatic.com/images?q=tbn:ANd9GcSIXJy4AkhNhEfknoVcwaVk73-GLQcQNA0NCithBykitXIucTR7jtmlboBr\" width=100 height=100 />\n<figcaption >mustache:1.0000</figcaption>\n<figcaption >beard:0.0000</figcaption>\n<figcaption >goatee:0.0000</figcaption>\n</figure><figure style=\"display:inline-block\"><img src=\"http://t0.gstatic.com/images?q=tbn:ANd9GcSA2E4ocPlhU6p63lUvwIrtdyz21482g7gkgGzcIh5o9PG58QYuqMtEqtc8\" width=100 height=100 />\n<figcaption >mustache:0.9999</figcaption>\n<figcaption >beard:0.0001</figcaption>\n<figcaption >goatee:0.0000</figcaption>\n</figure><figure style=\"display:inline-block\"><img src=\"http://t0.gstatic.com/images?q=tbn:ANd9GcQq2bWAmpWBUlgUf_diKsS6oJ1ge-g-8s7SUZYqBMrB_ZbjUZClateFIU4\" width=100 height=100 />\n<figcaption >mustache:0.9969</figcaption>\n<figcaption >goatee:0.0004</figcaption>\n<figcaption >beard:0.0003</figcaption>\n</figure><figure style=\"display:inline-block\"><img src=\"http://t0.gstatic.com/images?q=tbn:ANd9GcSXf5iwIDAPMywOGxt2BqLC9HuLPWKRyIYWYUaNbo533oIXGPVIQKPPlY0jig\" width=100 height=100 />\n<figcaption >mustache:0.6268</figcaption>\n<figcaption >goatee:0.0099</figcaption>\n<figcaption >beard:0.0004</figcaption>\n</figure><figure style=\"display:inline-block\"><img src=\"http://t0.gstatic.com/images?q=tbn:ANd9GcRCl-IPe19U3CYo2BvCasUg1t3aq11zrkHHgYC3nZ9jfgY_yW9t-uxfbQ-j\" width=100 height=100 />\n<figcaption >beard:0.4351</figcaption>\n<figcaption >goatee:0.1333</figcaption>\n<figcaption >mustache:0.0000</figcaption>\n</figure><figure style=\"display:inline-block\"><img src=\"http://t0.gstatic.com/images?q=tbn:ANd9GcR6AuFHjatBo6dgWgYnKTToMut3CafZPQesbmmRO-ptyFO_VoiA4gnmYlo\" width=100 height=100 />\n<figcaption >mustache:0.9947</figcaption>\n<figcaption >goatee:0.0052</figcaption>\n<figcaption >beard:0.0002</figcaption>\n</figure><figure style=\"display:inline-block\"><img src=\"http://t0.gstatic.com/images?q=tbn:ANd9GcREI99cSLpl9HWE5Wmil25dAos_TmxrPv4iUWUskeQ3vbZ7DTNmHwFClfhg\" width=100 height=100 />\n<figcaption >beard:0.1735</figcaption>\n<figcaption >mustache:0.0649</figcaption>\n<figcaption >goatee:0.0015</figcaption>\n</figure><figure style=\"display:inline-block\"><img src=\"http://t0.gstatic.com/images?q=tbn:ANd9GcR81qV2u_wZVuoWqFi7NjRHQ483ASWO7n2rI33UaV7OhDP86j3Zb1OtFO4\" width=100 height=100 />\n<figcaption >mustache:1.0000</figcaption>\n<figcaption >goatee:0.0001</figcaption>\n<figcaption >beard:0.0000</figcaption>\n</figure><figure style=\"display:inline-block\"><img src=\"http://t0.gstatic.com/images?q=tbn:ANd9GcQr6USu9bPbKWCf-U3pUxK1wXFMDL4HB_DaW_FQzrW2YA4shmsAyeB91XE\" width=100 height=100 />\n<figcaption >mustache:0.6604</figcaption>\n<figcaption >goatee:0.0441</figcaption>\n<figcaption >beard:0.0016</figcaption>\n</figure><figure style=\"display:inline-block\"><img src=\"http://t0.gstatic.com/images?q=tbn:ANd9GcSLLUqzRvCXssOjzgr_d3B3InmiQ2Eubq_pgA5GMnUrJXOaiSo0pUquzJ-B\" width=100 height=100 />\n<figcaption >beard:0.0214</figcaption>\n<figcaption >goatee:0.0097</figcaption>\n<figcaption >mustache:0.0034</figcaption>\n</figure><figure style=\"display:inline-block\"><img src=\"http://t0.gstatic.com/images?q=tbn:ANd9GcR5sJXsPiVBKP2UH_TTLAYa71MlgdXvcfrfIth13pl1uGaYk8kiz6DAcy0\" width=100 height=100 />\n<figcaption >mustache:0.9769</figcaption>\n<figcaption >goatee:0.0007</figcaption>\n<figcaption >beard:0.0000</figcaption>\n</figure><figure style=\"display:inline-block\"><img src=\"http://t0.gstatic.com/images?q=tbn:ANd9GcSYY5XQmzBJ7SIZhc4j0QeKaLzAHlbXSzEsUnXgEtPFYdBWaawD8ZxnvcU7\" width=100 height=100 />\n<figcaption >mustache:0.9954</figcaption>\n<figcaption >beard:0.0004</figcaption>\n<figcaption >goatee:0.0002</figcaption>\n</figure><figure style=\"display:inline-block\"><img src=\"http://t0.gstatic.com/images?q=tbn:ANd9GcTEnT9Mb0W4cXzZWjG84zYZX3EVl2ovUKCDQwEU0gnXoigUFfOG4M8rkdE\" width=100 height=100 />\n<figcaption >mustache:0.6374</figcaption>\n<figcaption >beard:0.0155</figcaption>\n<figcaption >goatee:0.0113</figcaption>\n</figure><figure style=\"display:inline-block\"><img src=\"http://t0.gstatic.com/images?q=tbn:ANd9GcR8HcEUclgH6cLK-PPyieT4ApA2LgNwGr8JYpb80Q7v00OZ-JGO5cdjBdR5\" width=100 height=100 />\n<figcaption >mustache:0.9134</figcaption>\n<figcaption >beard:0.0083</figcaption>\n<figcaption >goatee:0.0001</figcaption>\n</figure><figure style=\"display:inline-block\"><img src=\"http://t0.gstatic.com/images?q=tbn:ANd9GcS8bW8UHJDoGtzPI7A7MUtJuXPWEdZu7y2mHabd9XgUmWHUViBQuN4RhA\" width=100 height=100 />\n<figcaption >mustache:0.9935</figcaption>\n<figcaption >goatee:0.0542</figcaption>\n<figcaption >beard:0.0001</figcaption>\n</figure><figure style=\"display:inline-block\"><img src=\"http://t0.gstatic.com/images?q=tbn:ANd9GcSjSV8FlIFGTylRqUTr7d-h7wGYn_EKmAw-qVUx9D-XEBNUwdbdwQJkfVw\" width=100 height=100 />\n<figcaption >mustache:0.9959</figcaption>\n<figcaption >goatee:0.0015</figcaption>\n<figcaption >beard:0.0000</figcaption>\n</figure><figure style=\"display:inline-block\"><img src=\"http://t0.gstatic.com/images?q=tbn:ANd9GcTmj1KWc4Jqh9JxPTCA_r4iQB4TKMKdtOcGeFPqWF6_7FC9baJCHkVcnQ\" width=100 height=100 />\n<figcaption >mustache:0.9897</figcaption>\n<figcaption >goatee:0.1662</figcaption>\n<figcaption >beard:0.0000</figcaption>\n</figure>"
      ],
      "text/plain": [
       "<IPython.core.display.HTML object>"
      ]
     },
     "metadata": {},
     "output_type": "display_data"
    }
   ],
   "source": [
    "display(HTML(\"<h3>Celebrity Female...</h3>\"))\n",
    "display_results(celebrity_female_results)\n",
    "display(HTML(\"<h3>Celebrity Clean Shaven...</h3>\"))\n",
    "display_results(celebrity_cleanshaven_results)\n"
   ]
  },
  {
   "cell_type": "markdown",
   "metadata": {
    "ein.tags": "worksheet-0",
    "slideshow": {
     "slide_type": "-"
    }
   },
   "source": [
    "More than 50% hits for \"clean shaven\" shows that the training is matching male portraits. There are 2 hits for female celebrities as well.\n"
   ]
  },
  {
   "cell_type": "code",
   "execution_count": 68,
   "metadata": {
    "autoscroll": false,
    "collapsed": false,
    "ein.tags": "worksheet-0",
    "slideshow": {
     "slide_type": "-"
    }
   },
   "outputs": [],
   "source": [
    "\n"
   ]
  }
 ],
 "metadata": {
  "kernelspec": {
   "display_name": "Python 3",
   "name": "python3"
  },
  "language_info": {
   "codemirror_mode": {
    "name": "ipython",
    "version": 3
   },
   "file_extension": ".py",
   "mimetype": "text/x-python",
   "name": "python",
   "nbconvert_exporter": "python",
   "pygments_lexer": "ipython3",
   "version": "3.6.2"
  },
  "name": "TestClarifaiFacehair.ipynb"
 },
 "nbformat": 4,
 "nbformat_minor": 2
}
